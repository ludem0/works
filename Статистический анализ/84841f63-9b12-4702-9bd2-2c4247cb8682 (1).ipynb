{
 "cells": [
  {
   "cell_type": "markdown",
   "id": "15d72120",
   "metadata": {},
   "source": [
    "**Цель работы:**\n",
    "* Описать и визуализировать общую информацию о пользователях и поездках\n",
    "* Визуализировать информацию о расстоянии и времени поездок для обеих категорий\n",
    "* Посчитать помесячную вырочку, которую принес каждый пользователь \n",
    "* Проверить гипотезу: Тратят ли пользователи с подпиской больше времени на поездки?\n",
    "* Проверить гипотезу: Можно ли сказать, что среднее расстояние, которое проезжают пользователи с подпиской за одну поездку, не превышает 3100 метров?\n",
    "* Проверить гипотезу: Будет ли помесячная выручка от пользователей с подпиской по месяцам выше, чем выручка от пользователей без подписки?"
   ]
  },
  {
   "cell_type": "markdown",
   "id": "876f843f",
   "metadata": {},
   "source": [
    "**План работы:**\n",
    "* Изучить общую информацию\n",
    "* Провести предобработку данных\n",
    "* Провести исследовательский анализ данных\n",
    "* Провести подсчет выручки\n",
    "* Проверить гипотезы\n",
    "* Сделать общий вывод"
   ]
  },
  {
   "cell_type": "markdown",
   "id": "edc3b59f",
   "metadata": {},
   "source": [
    "**Описание данных:**\n",
    "\n",
    "user_go.csv:\n",
    "* user_id - уникальный идентификатор пользователя\n",
    "* name - имя пользователя\n",
    "* age - возраст\n",
    "* city - город\n",
    "* subscription_type - тип подписки (free, ultra)\n",
    "\n",
    "rides_go.csv:\n",
    "* user_id - уникальный идентификатор пользователя\n",
    "* distance - расстояние, которое пользователь проехал в текущей сессии (в метрах)\n",
    "* duration - продолжительность сессии (в минутах) — время с того момента, как пользователь нажал кнопку «Начать поездку» до момента, как он нажал кнопку «Завершить поездку»\n",
    "* date - дата совершения поездки\n",
    "\n",
    "subscriptions_go.csv:\n",
    "* subscription_type - тип подписки\n",
    "* minute_price - стоимость одной минуты поездки по данной подписке\n",
    "* start_ride_price - стоимость начала поездки\n",
    "* subscription_fee - стоимость ежемесячного платежа"
   ]
  },
  {
   "cell_type": "code",
   "execution_count": 1,
   "id": "72576667",
   "metadata": {},
   "outputs": [],
   "source": [
    "import pandas as pd\n",
    "from scipy import stats as st\n",
    "import matplotlib.pyplot as plt\n",
    "import numpy as np"
   ]
  },
  {
   "cell_type": "markdown",
   "id": "c42cbe00",
   "metadata": {},
   "source": [
    "#### Шаг 1. Загрузка данных"
   ]
  },
  {
   "cell_type": "code",
   "execution_count": 2,
   "id": "eff9f206",
   "metadata": {},
   "outputs": [],
   "source": [
    "users = pd.read_csv(\"/datasets/users_go.csv\")\n",
    "rides = pd.read_csv(\"/datasets/rides_go.csv\")\n",
    "subs = pd.read_csv(\"/datasets/subscriptions_go.csv\")"
   ]
  },
  {
   "cell_type": "markdown",
   "id": "59c9b2f6",
   "metadata": {},
   "source": [
    "# Пользователи"
   ]
  },
  {
   "cell_type": "code",
   "execution_count": 3,
   "id": "a0e44580",
   "metadata": {
    "scrolled": true
   },
   "outputs": [
    {
     "data": {
      "text/html": [
       "<div>\n",
       "<style scoped>\n",
       "    .dataframe tbody tr th:only-of-type {\n",
       "        vertical-align: middle;\n",
       "    }\n",
       "\n",
       "    .dataframe tbody tr th {\n",
       "        vertical-align: top;\n",
       "    }\n",
       "\n",
       "    .dataframe thead th {\n",
       "        text-align: right;\n",
       "    }\n",
       "</style>\n",
       "<table border=\"1\" class=\"dataframe\">\n",
       "  <thead>\n",
       "    <tr style=\"text-align: right;\">\n",
       "      <th></th>\n",
       "      <th>user_id</th>\n",
       "      <th>name</th>\n",
       "      <th>age</th>\n",
       "      <th>city</th>\n",
       "      <th>subscription_type</th>\n",
       "    </tr>\n",
       "  </thead>\n",
       "  <tbody>\n",
       "    <tr>\n",
       "      <th>0</th>\n",
       "      <td>1</td>\n",
       "      <td>Кира</td>\n",
       "      <td>22</td>\n",
       "      <td>Тюмень</td>\n",
       "      <td>ultra</td>\n",
       "    </tr>\n",
       "    <tr>\n",
       "      <th>1</th>\n",
       "      <td>2</td>\n",
       "      <td>Станислав</td>\n",
       "      <td>31</td>\n",
       "      <td>Омск</td>\n",
       "      <td>ultra</td>\n",
       "    </tr>\n",
       "    <tr>\n",
       "      <th>2</th>\n",
       "      <td>3</td>\n",
       "      <td>Алексей</td>\n",
       "      <td>20</td>\n",
       "      <td>Москва</td>\n",
       "      <td>ultra</td>\n",
       "    </tr>\n",
       "    <tr>\n",
       "      <th>3</th>\n",
       "      <td>4</td>\n",
       "      <td>Константин</td>\n",
       "      <td>26</td>\n",
       "      <td>Ростов-на-Дону</td>\n",
       "      <td>ultra</td>\n",
       "    </tr>\n",
       "    <tr>\n",
       "      <th>4</th>\n",
       "      <td>5</td>\n",
       "      <td>Адель</td>\n",
       "      <td>28</td>\n",
       "      <td>Омск</td>\n",
       "      <td>ultra</td>\n",
       "    </tr>\n",
       "  </tbody>\n",
       "</table>\n",
       "</div>"
      ],
      "text/plain": [
       "   user_id        name  age            city subscription_type\n",
       "0        1        Кира   22          Тюмень             ultra\n",
       "1        2   Станислав   31            Омск             ultra\n",
       "2        3     Алексей   20          Москва             ultra\n",
       "3        4  Константин   26  Ростов-на-Дону             ultra\n",
       "4        5       Адель   28            Омск             ultra"
      ]
     },
     "metadata": {},
     "output_type": "display_data"
    }
   ],
   "source": [
    "display(users.head())"
   ]
  },
  {
   "cell_type": "code",
   "execution_count": 4,
   "id": "4cf7f94f",
   "metadata": {
    "scrolled": true
   },
   "outputs": [
    {
     "name": "stdout",
     "output_type": "stream",
     "text": [
      "<class 'pandas.core.frame.DataFrame'>\n",
      "RangeIndex: 1565 entries, 0 to 1564\n",
      "Data columns (total 5 columns):\n",
      " #   Column             Non-Null Count  Dtype \n",
      "---  ------             --------------  ----- \n",
      " 0   user_id            1565 non-null   int64 \n",
      " 1   name               1565 non-null   object\n",
      " 2   age                1565 non-null   int64 \n",
      " 3   city               1565 non-null   object\n",
      " 4   subscription_type  1565 non-null   object\n",
      "dtypes: int64(2), object(3)\n",
      "memory usage: 61.3+ KB\n"
     ]
    }
   ],
   "source": [
    "users.info()"
   ]
  },
  {
   "cell_type": "code",
   "execution_count": 5,
   "id": "f20fb47e",
   "metadata": {
    "scrolled": true
   },
   "outputs": [
    {
     "data": {
      "text/plain": [
       "array([[<AxesSubplot:title={'center':'user_id'}>,\n",
       "        <AxesSubplot:title={'center':'age'}>]], dtype=object)"
      ]
     },
     "execution_count": 5,
     "metadata": {},
     "output_type": "execute_result"
    },
    {
     "data": {
      "image/png": "[encoded data removed]",
      "text/plain": [
       "<Figure size 1080x360 with 2 Axes>"
      ]
     },
     "metadata": {
      "needs_background": "light"
     },
     "output_type": "display_data"
    }
   ],
   "source": [
    "users.hist(figsize=(15, 5))"
   ]
  },
  {
   "cell_type": "code",
   "execution_count": 6,
   "id": "c6387b69",
   "metadata": {},
   "outputs": [
    {
     "name": "stdout",
     "output_type": "stream",
     "text": [
      "['Тюмень' 'Омск' 'Москва' 'Ростов-на-Дону' 'Краснодар' 'Пятигорск'\n",
      " 'Екатеринбург' 'Сочи']\n"
     ]
    }
   ],
   "source": [
    "print(users[\"city\"].unique())"
   ]
  },
  {
   "cell_type": "markdown",
   "id": "1aaab9e6",
   "metadata": {},
   "source": [
    "При изучении датафрейма users не было обнаружено пропусков в данных, неявных дубликатов, неправильный тип данных и выбросы."
   ]
  },
  {
   "cell_type": "markdown",
   "id": "8faf99d0",
   "metadata": {},
   "source": [
    "# Поездки"
   ]
  },
  {
   "cell_type": "code",
   "execution_count": 7,
   "id": "ae6a0830",
   "metadata": {},
   "outputs": [
    {
     "data": {
      "text/html": [
       "<div>\n",
       "<style scoped>\n",
       "    .dataframe tbody tr th:only-of-type {\n",
       "        vertical-align: middle;\n",
       "    }\n",
       "\n",
       "    .dataframe tbody tr th {\n",
       "        vertical-align: top;\n",
       "    }\n",
       "\n",
       "    .dataframe thead th {\n",
       "        text-align: right;\n",
       "    }\n",
       "</style>\n",
       "<table border=\"1\" class=\"dataframe\">\n",
       "  <thead>\n",
       "    <tr style=\"text-align: right;\">\n",
       "      <th></th>\n",
       "      <th>user_id</th>\n",
       "      <th>distance</th>\n",
       "      <th>duration</th>\n",
       "      <th>date</th>\n",
       "    </tr>\n",
       "  </thead>\n",
       "  <tbody>\n",
       "    <tr>\n",
       "      <th>0</th>\n",
       "      <td>1</td>\n",
       "      <td>4409.919140</td>\n",
       "      <td>25.599769</td>\n",
       "      <td>2021-01-01</td>\n",
       "    </tr>\n",
       "    <tr>\n",
       "      <th>1</th>\n",
       "      <td>1</td>\n",
       "      <td>2617.592153</td>\n",
       "      <td>15.816871</td>\n",
       "      <td>2021-01-18</td>\n",
       "    </tr>\n",
       "    <tr>\n",
       "      <th>2</th>\n",
       "      <td>1</td>\n",
       "      <td>754.159807</td>\n",
       "      <td>6.232113</td>\n",
       "      <td>2021-04-20</td>\n",
       "    </tr>\n",
       "    <tr>\n",
       "      <th>3</th>\n",
       "      <td>1</td>\n",
       "      <td>2694.783254</td>\n",
       "      <td>18.511000</td>\n",
       "      <td>2021-08-11</td>\n",
       "    </tr>\n",
       "    <tr>\n",
       "      <th>4</th>\n",
       "      <td>1</td>\n",
       "      <td>4028.687306</td>\n",
       "      <td>26.265803</td>\n",
       "      <td>2021-08-28</td>\n",
       "    </tr>\n",
       "  </tbody>\n",
       "</table>\n",
       "</div>"
      ],
      "text/plain": [
       "   user_id     distance   duration        date\n",
       "0        1  4409.919140  25.599769  2021-01-01\n",
       "1        1  2617.592153  15.816871  2021-01-18\n",
       "2        1   754.159807   6.232113  2021-04-20\n",
       "3        1  2694.783254  18.511000  2021-08-11\n",
       "4        1  4028.687306  26.265803  2021-08-28"
      ]
     },
     "metadata": {},
     "output_type": "display_data"
    }
   ],
   "source": [
    "display(rides.head())"
   ]
  },
  {
   "cell_type": "code",
   "execution_count": 8,
   "id": "e41d3cd8",
   "metadata": {},
   "outputs": [
    {
     "name": "stdout",
     "output_type": "stream",
     "text": [
      "<class 'pandas.core.frame.DataFrame'>\n",
      "RangeIndex: 18068 entries, 0 to 18067\n",
      "Data columns (total 4 columns):\n",
      " #   Column    Non-Null Count  Dtype  \n",
      "---  ------    --------------  -----  \n",
      " 0   user_id   18068 non-null  int64  \n",
      " 1   distance  18068 non-null  float64\n",
      " 2   duration  18068 non-null  float64\n",
      " 3   date      18068 non-null  object \n",
      "dtypes: float64(2), int64(1), object(1)\n",
      "memory usage: 564.8+ KB\n"
     ]
    }
   ],
   "source": [
    "rides.info()"
   ]
  },
  {
   "cell_type": "code",
   "execution_count": 9,
   "id": "34caec4b",
   "metadata": {},
   "outputs": [
    {
     "data": {
      "text/plain": [
       "array([[<AxesSubplot:title={'center':'user_id'}>,\n",
       "        <AxesSubplot:title={'center':'distance'}>],\n",
       "       [<AxesSubplot:title={'center':'duration'}>, <AxesSubplot:>]],\n",
       "      dtype=object)"
      ]
     },
     "execution_count": 9,
     "metadata": {},
     "output_type": "execute_result"
    },
    {
     "data": {
      "image/png": "[encoded data removed]",
      "text/plain": [
       "<Figure size 1080x360 with 4 Axes>"
      ]
     },
     "metadata": {
      "needs_background": "light"
     },
     "output_type": "display_data"
    }
   ],
   "source": [
    "rides.hist(figsize=(15, 5))"
   ]
  },
  {
   "cell_type": "markdown",
   "id": "6a91095d",
   "metadata": {},
   "source": [
    "При изучении датафрейма rides не было обнаружено пропусков в данных и неявные дубликаты. В столбце date был обнаружен неправильный тип данных. Также присутствуют некоторые выбросы в distance."
   ]
  },
  {
   "cell_type": "markdown",
   "id": "5e2aa5cd",
   "metadata": {},
   "source": [
    "# Подписки"
   ]
  },
  {
   "cell_type": "code",
   "execution_count": 10,
   "id": "941e6487",
   "metadata": {},
   "outputs": [
    {
     "data": {
      "text/html": [
       "<div>\n",
       "<style scoped>\n",
       "    .dataframe tbody tr th:only-of-type {\n",
       "        vertical-align: middle;\n",
       "    }\n",
       "\n",
       "    .dataframe tbody tr th {\n",
       "        vertical-align: top;\n",
       "    }\n",
       "\n",
       "    .dataframe thead th {\n",
       "        text-align: right;\n",
       "    }\n",
       "</style>\n",
       "<table border=\"1\" class=\"dataframe\">\n",
       "  <thead>\n",
       "    <tr style=\"text-align: right;\">\n",
       "      <th></th>\n",
       "      <th>subscription_type</th>\n",
       "      <th>minute_price</th>\n",
       "      <th>start_ride_price</th>\n",
       "      <th>subscription_fee</th>\n",
       "    </tr>\n",
       "  </thead>\n",
       "  <tbody>\n",
       "    <tr>\n",
       "      <th>0</th>\n",
       "      <td>free</td>\n",
       "      <td>8</td>\n",
       "      <td>50</td>\n",
       "      <td>0</td>\n",
       "    </tr>\n",
       "    <tr>\n",
       "      <th>1</th>\n",
       "      <td>ultra</td>\n",
       "      <td>6</td>\n",
       "      <td>0</td>\n",
       "      <td>199</td>\n",
       "    </tr>\n",
       "  </tbody>\n",
       "</table>\n",
       "</div>"
      ],
      "text/plain": [
       "  subscription_type  minute_price  start_ride_price  subscription_fee\n",
       "0              free             8                50                 0\n",
       "1             ultra             6                 0               199"
      ]
     },
     "metadata": {},
     "output_type": "display_data"
    }
   ],
   "source": [
    "display(subs.head())"
   ]
  },
  {
   "cell_type": "code",
   "execution_count": 11,
   "id": "6ea669b7",
   "metadata": {},
   "outputs": [
    {
     "name": "stdout",
     "output_type": "stream",
     "text": [
      "<class 'pandas.core.frame.DataFrame'>\n",
      "RangeIndex: 2 entries, 0 to 1\n",
      "Data columns (total 4 columns):\n",
      " #   Column             Non-Null Count  Dtype \n",
      "---  ------             --------------  ----- \n",
      " 0   subscription_type  2 non-null      object\n",
      " 1   minute_price       2 non-null      int64 \n",
      " 2   start_ride_price   2 non-null      int64 \n",
      " 3   subscription_fee   2 non-null      int64 \n",
      "dtypes: int64(3), object(1)\n",
      "memory usage: 192.0+ bytes\n"
     ]
    }
   ],
   "source": [
    "subs.info()"
   ]
  },
  {
   "cell_type": "markdown",
   "id": "80506428",
   "metadata": {},
   "source": [
    "При изучении датафрейма subscriptions не было обнаружено пропусков в данных, неявных дубликатов, неправильный тип данных и выбросы."
   ]
  },
  {
   "cell_type": "markdown",
   "id": "eb4dbf8e",
   "metadata": {},
   "source": [
    "Во всех датафреймах отсутствуют пропуски в данных и неявные дубликаты. Тем не менее, в датафрейме rides в столбце date был обнаружен неправильный тип данных и некоторые выбросы в distance. В целом существенных проблем с данными обнаружено не было."
   ]
  },
  {
   "cell_type": "markdown",
   "id": "e95ebca7",
   "metadata": {},
   "source": [
    "#### Шаг 2. Предобработка данных"
   ]
  },
  {
   "cell_type": "markdown",
   "id": "b00fd901",
   "metadata": {},
   "source": [
    "# Пользователи"
   ]
  },
  {
   "cell_type": "code",
   "execution_count": 12,
   "id": "14bc19ba",
   "metadata": {},
   "outputs": [
    {
     "name": "stdout",
     "output_type": "stream",
     "text": [
      "31\n"
     ]
    }
   ],
   "source": [
    "print(users.duplicated().sum())"
   ]
  },
  {
   "cell_type": "code",
   "execution_count": 13,
   "id": "440cd9bc",
   "metadata": {},
   "outputs": [],
   "source": [
    "users = users.drop_duplicates()"
   ]
  },
  {
   "cell_type": "code",
   "execution_count": 14,
   "id": "923c6fad",
   "metadata": {},
   "outputs": [
    {
     "name": "stdout",
     "output_type": "stream",
     "text": [
      "0\n"
     ]
    }
   ],
   "source": [
    "print(users[\"user_id\"].duplicated().sum())"
   ]
  },
  {
   "cell_type": "code",
   "execution_count": 15,
   "id": "c10243bc",
   "metadata": {},
   "outputs": [
    {
     "name": "stdout",
     "output_type": "stream",
     "text": [
      "user_id              0\n",
      "name                 0\n",
      "age                  0\n",
      "city                 0\n",
      "subscription_type    0\n",
      "dtype: int64\n"
     ]
    }
   ],
   "source": [
    "print(users.isna().sum())"
   ]
  },
  {
   "cell_type": "markdown",
   "id": "5313824c",
   "metadata": {},
   "source": [
    "# Поездки"
   ]
  },
  {
   "cell_type": "code",
   "execution_count": 16,
   "id": "1256560d",
   "metadata": {},
   "outputs": [],
   "source": [
    "rides[\"date\"] = pd.to_datetime(rides[\"date\"], format = \"%Y-%m-%dT\")"
   ]
  },
  {
   "cell_type": "code",
   "execution_count": 17,
   "id": "5a6e48d1",
   "metadata": {},
   "outputs": [],
   "source": [
    "rides[\"month\"] = rides[\"date\"].dt.month"
   ]
  },
  {
   "cell_type": "code",
   "execution_count": 18,
   "id": "ec353584",
   "metadata": {
    "scrolled": true
   },
   "outputs": [
    {
     "name": "stdout",
     "output_type": "stream",
     "text": [
      "0\n"
     ]
    }
   ],
   "source": [
    "print(rides.duplicated().sum())"
   ]
  },
  {
   "cell_type": "code",
   "execution_count": 19,
   "id": "b5e2bf12",
   "metadata": {
    "scrolled": true
   },
   "outputs": [
    {
     "name": "stdout",
     "output_type": "stream",
     "text": [
      "user_id     0\n",
      "distance    0\n",
      "duration    0\n",
      "date        0\n",
      "month       0\n",
      "dtype: int64\n"
     ]
    }
   ],
   "source": [
    "print(rides.isna().sum())"
   ]
  },
  {
   "cell_type": "markdown",
   "id": "4f2c9686",
   "metadata": {},
   "source": [
    "# Подписки"
   ]
  },
  {
   "cell_type": "code",
   "execution_count": 20,
   "id": "bf9cf712",
   "metadata": {},
   "outputs": [
    {
     "name": "stdout",
     "output_type": "stream",
     "text": [
      "0\n"
     ]
    }
   ],
   "source": [
    "print(subs.duplicated().sum())"
   ]
  },
  {
   "cell_type": "code",
   "execution_count": 21,
   "id": "e266ce53",
   "metadata": {
    "scrolled": true
   },
   "outputs": [
    {
     "name": "stdout",
     "output_type": "stream",
     "text": [
      "subscription_type    0\n",
      "minute_price         0\n",
      "start_ride_price     0\n",
      "subscription_fee     0\n",
      "dtype: int64\n"
     ]
    }
   ],
   "source": [
    "print(subs.isna().sum())"
   ]
  },
  {
   "cell_type": "markdown",
   "id": "5b42f118",
   "metadata": {},
   "source": [
    "В ходе предобработки данных в датафрейме users были устранены дубликаты. Пропуски отсутствовали. В датафрейме rides исправлен неправильный тип данных в столбце date и был добавлен новый столбец month, который хранит в себе данные о номере месяца из date. В датафреймах rides и subscriptions пропуски и дубликаты обнаружено не было."
   ]
  },
  {
   "cell_type": "markdown",
   "id": "212593c7",
   "metadata": {},
   "source": [
    "#### Шаг 3. Исследовательский анализ данных"
   ]
  },
  {
   "cell_type": "code",
   "execution_count": 22,
   "id": "531cc158",
   "metadata": {
    "scrolled": true
   },
   "outputs": [
    {
     "data": {
      "text/plain": [
       "Text(0, 0.5, 'Количество пользователей')"
      ]
     },
     "execution_count": 22,
     "metadata": {},
     "output_type": "execute_result"
    },
    {
     "data": {
      "image/png": "[encoded data removed]",
      "text/plain": [
       "<Figure size 720x360 with 1 Axes>"
      ]
     },
     "metadata": {
      "needs_background": "light"
     },
     "output_type": "display_data"
    }
   ],
   "source": [
    "users_city = users.pivot_table(index=\"city\", values=\"user_id\", aggfunc=\"count\").sort_values(by=\"user_id\", ascending=False)\n",
    "users_city.plot(kind='bar', figsize=(10, 5), title = \"Частота встречаемости городов\")\n",
    "plt.xlabel('Название городов')\n",
    "plt.ylabel('Количество пользователей')"
   ]
  },
  {
   "cell_type": "code",
   "execution_count": 23,
   "id": "21e96ba4",
   "metadata": {},
   "outputs": [
    {
     "name": "stdout",
     "output_type": "stream",
     "text": [
      "                user_id\n",
      "city                   \n",
      "Пятигорск           219\n",
      "Екатеринбург        204\n",
      "Ростов-на-Дону      198\n",
      "Краснодар           193\n",
      "Сочи                189\n",
      "Омск                183\n",
      "Тюмень              180\n",
      "Москва              168\n"
     ]
    }
   ],
   "source": [
    "print(users_city.sort_values(by=\"user_id\", ascending=False))"
   ]
  },
  {
   "cell_type": "markdown",
   "id": "915cc49e",
   "metadata": {},
   "source": [
    "Большинство пользователей находятся в Пятигорске, следом идут Екатеринбург и Ростов-на-Дону, образуя тройку лидеров. Городом с наименьшим количеством пользователей считается Москва, возможно из-за большого количества конкурентов. "
   ]
  },
  {
   "cell_type": "code",
   "execution_count": 24,
   "id": "5568586f",
   "metadata": {
    "scrolled": true
   },
   "outputs": [
    {
     "data": {
      "text/plain": [
       "Text(0, 0.5, 'Количество пользователей')"
      ]
     },
     "execution_count": 24,
     "metadata": {},
     "output_type": "execute_result"
    },
    {
     "data": {
      "image/png": "[encoded data removed]",
      "text/plain": [
       "<Figure size 720x360 with 1 Axes>"
      ]
     },
     "metadata": {
      "needs_background": "light"
     },
     "output_type": "display_data"
    }
   ],
   "source": [
    "users_subs = users.pivot_table(index=\"subscription_type\", values=\"user_id\", aggfunc=\"count\").sort_values(by=\"user_id\", ascending=False)\n",
    "users_subs.plot(kind='bar', figsize=(10,5), title = \"Cоотношение пользователей с подпиской и без подписки\")\n",
    "plt.xlabel('Тип подписки')\n",
    "plt.ylabel('Количество пользователей')"
   ]
  },
  {
   "cell_type": "code",
   "execution_count": 25,
   "id": "c42d0f23",
   "metadata": {
    "scrolled": true
   },
   "outputs": [
    {
     "name": "stdout",
     "output_type": "stream",
     "text": [
      "                   user_id\n",
      "subscription_type         \n",
      "free                   835\n",
      "ultra                  699\n"
     ]
    }
   ],
   "source": [
    "print(users_subs.sort_values(by=\"user_id\", ascending=False))"
   ]
  },
  {
   "cell_type": "markdown",
   "id": "70c128f1",
   "metadata": {},
   "source": [
    "Большинство пользователей пользуются бесплатной подпиской, но эта цифра не сильно преобладает над пользователями подпиской ultra. "
   ]
  },
  {
   "cell_type": "code",
   "execution_count": 26,
   "id": "d4069ac9",
   "metadata": {
    "scrolled": true
   },
   "outputs": [
    {
     "data": {
      "image/png": "[encoded data removed]",
      "text/plain": [
       "<Figure size 720x360 with 1 Axes>"
      ]
     },
     "metadata": {
      "needs_background": "light"
     },
     "output_type": "display_data"
    }
   ],
   "source": [
    "users[\"age\"].plot(kind='hist', bins = 30, figsize=(10,5), title = \"Возраст пользователей\", grid = True)\n",
    "plt.xlabel('Возраст')\n",
    "plt.ylabel('Количество пользователей')\n",
    "plt.show()"
   ]
  },
  {
   "cell_type": "markdown",
   "id": "900958f6",
   "metadata": {},
   "source": [
    "Наблюдаются некоторые выбросы после 40"
   ]
  },
  {
   "cell_type": "code",
   "execution_count": 27,
   "id": "645cccca",
   "metadata": {},
   "outputs": [
    {
     "data": {
      "text/plain": [
       "<AxesSubplot:>"
      ]
     },
     "execution_count": 27,
     "metadata": {},
     "output_type": "execute_result"
    },
    {
     "data": {
      "image/png": "[encoded data removed]",
      "text/plain": [
       "<Figure size 432x288 with 1 Axes>"
      ]
     },
     "metadata": {
      "needs_background": "light"
     },
     "output_type": "display_data"
    }
   ],
   "source": [
    "plt.ylim(10, 40)\n",
    "users.boxplot(\"age\")"
   ]
  },
  {
   "cell_type": "markdown",
   "id": "09eea2dc",
   "metadata": {},
   "source": [
    "Вверхний ус упирается в 37, а нижний в 13. Можно предположить, что значения за их пределом являются выбросами."
   ]
  },
  {
   "cell_type": "code",
   "execution_count": 28,
   "id": "97bb8c4a",
   "metadata": {
    "scrolled": true
   },
   "outputs": [
    {
     "data": {
      "text/plain": [
       "Text(0, 0.5, 'Количество пользователей')"
      ]
     },
     "execution_count": 28,
     "metadata": {},
     "output_type": "execute_result"
    },
    {
     "data": {
      "image/png": "[encoded data removed]",
      "text/plain": [
       "<Figure size 720x360 with 1 Axes>"
      ]
     },
     "metadata": {
      "needs_background": "light"
     },
     "output_type": "display_data"
    }
   ],
   "source": [
    "users_good = users.query(\" 13 <= age <= 37\")\n",
    "users_good[\"age\"].plot(kind='hist', bins = 25, figsize=(10,5), title = \"Возраст пользователей\", grid = True)\n",
    "plt.xlabel('Возраст')\n",
    "plt.ylabel('Количество пользователей')"
   ]
  },
  {
   "cell_type": "code",
   "execution_count": 29,
   "id": "018b04ef",
   "metadata": {
    "scrolled": true
   },
   "outputs": [
    {
     "data": {
      "text/plain": [
       "count    1525.000000\n",
       "mean       24.890492\n",
       "std         4.462053\n",
       "min        13.000000\n",
       "25%        22.000000\n",
       "50%        25.000000\n",
       "75%        28.000000\n",
       "max        37.000000\n",
       "Name: age, dtype: float64"
      ]
     },
     "execution_count": 29,
     "metadata": {},
     "output_type": "execute_result"
    }
   ],
   "source": [
    "users_good[\"age\"].describe()"
   ]
  },
  {
   "cell_type": "code",
   "execution_count": 30,
   "id": "88597708",
   "metadata": {},
   "outputs": [
    {
     "name": "stdout",
     "output_type": "stream",
     "text": [
      "0    25\n",
      "dtype: int64\n"
     ]
    }
   ],
   "source": [
    "print(users_good[\"age\"].mode())"
   ]
  },
  {
   "cell_type": "markdown",
   "id": "628f0da9",
   "metadata": {},
   "source": [
    "График показывает, что распределение возраста пользователей близко к нормальному. Медиана и мода равна приблизительно одному и тому же значению - 25. Люди в возрасте от 20 до 30 является основной аудиторией. Их доля составляет около 77% всех пользователей. При помощи гистограммы и boxplot было принято считать значения меньше 13 и больше 37 за выбросы.\n",
    "\n",
    "Доля выбросов: 0.59%"
   ]
  },
  {
   "cell_type": "code",
   "execution_count": 31,
   "id": "57751d7a",
   "metadata": {
    "scrolled": true
   },
   "outputs": [
    {
     "data": {
      "image/png": "[encoded data removed]",
      "text/plain": [
       "<Figure size 720x360 with 1 Axes>"
      ]
     },
     "metadata": {
      "needs_background": "light"
     },
     "output_type": "display_data"
    }
   ],
   "source": [
    "rides[\"distance\"].plot(kind='hist', bins = 100, figsize=(10,5), title = \"Расстояние за поездку\", grid = True)\n",
    "plt.xlabel('Расстояние(метр)')\n",
    "plt.ylabel('Количество пользователей')\n",
    "plt.show()"
   ]
  },
  {
   "cell_type": "markdown",
   "id": "2faebe19",
   "metadata": {},
   "source": [
    "Распределение близко к нормальному. Широкий пик наблюдается от 2000 до 4000 метров. Есть некоторый пик в районе от 0 до 1500 метров. Значения после 6000 близки к нулю."
   ]
  },
  {
   "cell_type": "code",
   "execution_count": 32,
   "id": "a6036d6c",
   "metadata": {
    "scrolled": true
   },
   "outputs": [
    {
     "data": {
      "text/plain": [
       "<AxesSubplot:>"
      ]
     },
     "execution_count": 32,
     "metadata": {},
     "output_type": "execute_result"
    },
    {
     "data": {
      "image/png": "[encoded data removed]",
      "text/plain": [
       "<Figure size 432x288 with 1 Axes>"
      ]
     },
     "metadata": {
      "needs_background": "light"
     },
     "output_type": "display_data"
    }
   ],
   "source": [
    "plt.ylim(0, 6000)\n",
    "rides.boxplot(\"distance\")"
   ]
  },
  {
   "cell_type": "markdown",
   "id": "55eb2b87",
   "metadata": {},
   "source": [
    "Вверхний ус упирается около 5630, а нижний около 680."
   ]
  },
  {
   "cell_type": "code",
   "execution_count": 33,
   "id": "b35feead",
   "metadata": {},
   "outputs": [
    {
     "data": {
      "text/plain": [
       "Text(0, 0.5, 'Количество пользователей')"
      ]
     },
     "execution_count": 33,
     "metadata": {},
     "output_type": "execute_result"
    },
    {
     "data": {
      "image/png": "[encoded data removed]",
      "text/plain": [
       "<Figure size 720x360 with 1 Axes>"
      ]
     },
     "metadata": {
      "needs_background": "light"
     },
     "output_type": "display_data"
    }
   ],
   "source": [
    "rides_good = rides.query(\"distance <= 6000\")\n",
    "rides_good[\"distance\"].plot(kind='hist', bins = 100, figsize=(10,5), title = \"Расстояние за поездку\", grid = True)\n",
    "plt.xlabel('Расстояние(метр)')\n",
    "plt.ylabel('Количество пользователей')"
   ]
  },
  {
   "cell_type": "code",
   "execution_count": 34,
   "id": "b7237fcb",
   "metadata": {},
   "outputs": [
    {
     "data": {
      "text/plain": [
       "count    18022.000000\n",
       "mean      3062.416517\n",
       "std       1106.157955\n",
       "min          0.855683\n",
       "25%       2540.675712\n",
       "50%       3131.383742\n",
       "75%       3769.372328\n",
       "max       5991.817697\n",
       "Name: distance, dtype: float64"
      ]
     },
     "execution_count": 34,
     "metadata": {},
     "output_type": "execute_result"
    }
   ],
   "source": [
    "rides_good[\"distance\"].describe()"
   ]
  },
  {
   "cell_type": "markdown",
   "id": "45efe10d",
   "metadata": {},
   "source": [
    "Большинство значений расположилось около 3000 метров. Пик в районе от 0 до 1500 показывает распределение на короткой дистанции. На их долю приходится 10% поездок. Остальной же график близок к нормальному распределению. Было принято считать, что значения больше 6000 считать за выбросы.\n",
    "\n",
    "Доля выбросов: 1.3%"
   ]
  },
  {
   "cell_type": "code",
   "execution_count": 35,
   "id": "e348eb20",
   "metadata": {},
   "outputs": [
    {
     "data": {
      "image/png": "[encoded data removed]",
      "text/plain": [
       "<Figure size 720x360 with 1 Axes>"
      ]
     },
     "metadata": {
      "needs_background": "light"
     },
     "output_type": "display_data"
    }
   ],
   "source": [
    "rides_good[\"duration\"].plot(kind='hist', bins = 100, figsize=(10,5), title = \"Продолжительность поездки\", grid = True)\n",
    "plt.xlabel('Продолжительность(мин)')\n",
    "plt.ylabel('Количество пользователей')\n",
    "plt.show()"
   ]
  },
  {
   "cell_type": "markdown",
   "id": "c03db020",
   "metadata": {},
   "source": [
    "Распределение продолжительности поездки близко к нормальному. Широкий пик приходится на диапазон от 10 до 25 минут. Присутсвует выброс около 0 минут. Значения после 35 минут близятся к нулю."
   ]
  },
  {
   "cell_type": "code",
   "execution_count": 36,
   "id": "0ce6db2c",
   "metadata": {
    "scrolled": true
   },
   "outputs": [
    {
     "data": {
      "text/html": [
       "<div>\n",
       "<style scoped>\n",
       "    .dataframe tbody tr th:only-of-type {\n",
       "        vertical-align: middle;\n",
       "    }\n",
       "\n",
       "    .dataframe tbody tr th {\n",
       "        vertical-align: top;\n",
       "    }\n",
       "\n",
       "    .dataframe thead th {\n",
       "        text-align: right;\n",
       "    }\n",
       "</style>\n",
       "<table border=\"1\" class=\"dataframe\">\n",
       "  <thead>\n",
       "    <tr style=\"text-align: right;\">\n",
       "      <th></th>\n",
       "      <th>user_id</th>\n",
       "      <th>distance</th>\n",
       "      <th>duration</th>\n",
       "      <th>date</th>\n",
       "      <th>month</th>\n",
       "    </tr>\n",
       "  </thead>\n",
       "  <tbody>\n",
       "    <tr>\n",
       "      <th>6570</th>\n",
       "      <td>704</td>\n",
       "      <td>4830.824371</td>\n",
       "      <td>0.500000</td>\n",
       "      <td>2021-10-14</td>\n",
       "      <td>10</td>\n",
       "    </tr>\n",
       "    <tr>\n",
       "      <th>6680</th>\n",
       "      <td>712</td>\n",
       "      <td>4684.004397</td>\n",
       "      <td>0.500000</td>\n",
       "      <td>2021-03-04</td>\n",
       "      <td>3</td>\n",
       "    </tr>\n",
       "    <tr>\n",
       "      <th>6531</th>\n",
       "      <td>701</td>\n",
       "      <td>4196.445201</td>\n",
       "      <td>0.500000</td>\n",
       "      <td>2021-08-31</td>\n",
       "      <td>8</td>\n",
       "    </tr>\n",
       "    <tr>\n",
       "      <th>5952</th>\n",
       "      <td>635</td>\n",
       "      <td>266.123499</td>\n",
       "      <td>3.760353</td>\n",
       "      <td>2021-12-23</td>\n",
       "      <td>12</td>\n",
       "    </tr>\n",
       "    <tr>\n",
       "      <th>6691</th>\n",
       "      <td>712</td>\n",
       "      <td>23.963062</td>\n",
       "      <td>2.053251</td>\n",
       "      <td>2021-11-22</td>\n",
       "      <td>11</td>\n",
       "    </tr>\n",
       "  </tbody>\n",
       "</table>\n",
       "</div>"
      ],
      "text/plain": [
       "      user_id     distance  duration       date  month\n",
       "6570      704  4830.824371  0.500000 2021-10-14     10\n",
       "6680      712  4684.004397  0.500000 2021-03-04      3\n",
       "6531      701  4196.445201  0.500000 2021-08-31      8\n",
       "5952      635   266.123499  3.760353 2021-12-23     12\n",
       "6691      712    23.963062  2.053251 2021-11-22     11"
      ]
     },
     "execution_count": 36,
     "metadata": {},
     "output_type": "execute_result"
    }
   ],
   "source": [
    "rides_good.query('duration < 4').head().sort_values(by = \"distance\", ascending = False)"
   ]
  },
  {
   "cell_type": "code",
   "execution_count": 37,
   "id": "221c51ed",
   "metadata": {
    "scrolled": true
   },
   "outputs": [
    {
     "name": "stdout",
     "output_type": "stream",
     "text": [
      "     user_id  name  age          city subscription_type\n",
      "700      701  Иван   31  Екатеринбург              free\n",
      "     user_id   name  age    city subscription_type\n",
      "711      712  Дарья   28  Москва              free\n",
      "     user_id   name  age            city subscription_type\n",
      "703      704  Мирон   29  Ростов-на-Дону              free\n"
     ]
    }
   ],
   "source": [
    "print(users_good.query(\"user_id == 701\"))\n",
    "print(users_good.query(\"user_id == 712\"))\n",
    "print(users_good.query(\"user_id == 704\"))"
   ]
  },
  {
   "cell_type": "markdown",
   "id": "a123523f",
   "metadata": {},
   "source": [
    "После изучения выброса на отметке вблизи 0 были получены аномальные данные. За 30 секунд 3 пользователя преодолели расстояние свыше 4000 метров. При изучении user_id пользователей не было выявлено никакой связи с городом или датой поездки. Возможно присутствовали какие-то проблемы с самокатами."
   ]
  },
  {
   "cell_type": "code",
   "execution_count": 38,
   "id": "7101e5ce",
   "metadata": {
    "scrolled": true
   },
   "outputs": [
    {
     "data": {
      "text/plain": [
       "<AxesSubplot:>"
      ]
     },
     "execution_count": 38,
     "metadata": {},
     "output_type": "execute_result"
    },
    {
     "data": {
      "image/png": "[encoded data removed]",
      "text/plain": [
       "<Figure size 432x288 with 1 Axes>"
      ]
     },
     "metadata": {
      "needs_background": "light"
     },
     "output_type": "display_data"
    }
   ],
   "source": [
    "plt.ylim(0, 40)\n",
    "rides_good.boxplot(\"duration\")"
   ]
  },
  {
   "cell_type": "markdown",
   "id": "ee3af95f",
   "metadata": {},
   "source": [
    "Нижний ус находится около 2 минут. Верхний ус упирается в отметку, равную 34 минутам."
   ]
  },
  {
   "cell_type": "code",
   "execution_count": 39,
   "id": "38218c98",
   "metadata": {},
   "outputs": [
    {
     "data": {
      "image/png": "[encoded data removed]",
      "text/plain": [
       "<Figure size 720x360 with 1 Axes>"
      ]
     },
     "metadata": {
      "needs_background": "light"
     },
     "output_type": "display_data"
    }
   ],
   "source": [
    "rides_good = rides_good.query(\"2 <= duration <= 35\")\n",
    "rides_good[\"duration\"].plot(kind='hist', bins = 100, figsize=(10,5), title = \"Продолжительность поездки\", grid = True)\n",
    "plt.xlabel('Продолжительность(мин)')\n",
    "plt.ylabel('Количество пользователей')\n",
    "plt.show()"
   ]
  },
  {
   "cell_type": "code",
   "execution_count": 40,
   "id": "1a5432a4",
   "metadata": {},
   "outputs": [
    {
     "data": {
      "text/plain": [
       "count    17909.000000\n",
       "mean        17.852606\n",
       "std          5.927000\n",
       "min          2.035632\n",
       "25%         13.656075\n",
       "50%         17.696846\n",
       "75%         21.709870\n",
       "max         34.962659\n",
       "Name: duration, dtype: float64"
      ]
     },
     "execution_count": 40,
     "metadata": {},
     "output_type": "execute_result"
    }
   ],
   "source": [
    "rides_good[\"duration\"].describe()"
   ]
  },
  {
   "cell_type": "code",
   "execution_count": 41,
   "id": "e281bdb3",
   "metadata": {},
   "outputs": [
    {
     "name": "stdout",
     "output_type": "stream",
     "text": [
      "user_id     14220\n",
      "distance    14220\n",
      "duration    14220\n",
      "date        14220\n",
      "month       14220\n",
      "dtype: int64\n"
     ]
    }
   ],
   "source": [
    "print(rides_good.query(\"10 <= duration <= 25\").count())\n"
   ]
  },
  {
   "cell_type": "markdown",
   "id": "d5d92279",
   "metadata": {},
   "source": [
    "Было принято решение считать значения меньше 2 и больше 35 за выбросы. Медиана находится на отметке около 17 минут. График подчиняется нормальному распределению. Можно сделать вывод, что большинство пользователей совершают поездки от 15 до 20 минут. Доля таких пользователей равна 79%.\n",
    "\n",
    "Доля выбросов: 0.62%"
   ]
  },
  {
   "cell_type": "markdown",
   "id": "3445cabd",
   "metadata": {},
   "source": [
    "Общий вывод по исследовательскому анализу данных: \n",
    "Большинство пользователей обосновалось в Пятигорске, Екатеринбурге и Ростове-на-Дону. Меньше всего пользователей находится в Москве. Возможно присутствует связь с наличием большого количества конкурентов в столице или развитой транспортной инфраструктуры. Пользователей подписки free на 19% больше чем ultra. Возможно пользователи не понимают выгоду от приобретения платной подписки или редко пользуются самокатом. Стоимость старта бесплатной подписки в 4 раза меньше чем абоненская плата. Пользователи могут не распологать информацией, что если они совершают как минимум 4 поездки в месяц, то они уже окупают платную подписку. Основной аудиторией являются люди в возрасте от 20 до 30 лет, их доля составляет 77%. Но больше всего самокатами пользуются 25 летние пользователи. Можно выделить 2 разных типа дистанции, которым соответствуют собственные пики. На короткой дистанции до 1500 метров, большинство пользователей проезжают около 650 метров. На большой дистанции значения расположились около 3000 метров. Касательно продолжительности поездки, то доля поездок от 15 до 20 минут составляет 79% от всех поездок. Большинство пользователей заканчивают поездку за 17 минут.\n"
   ]
  },
  {
   "cell_type": "markdown",
   "id": "4ef51331",
   "metadata": {},
   "source": [
    "#### Шаг 4. Объединение данных"
   ]
  },
  {
   "cell_type": "code",
   "execution_count": 42,
   "id": "6bf288b5",
   "metadata": {},
   "outputs": [],
   "source": [
    "data = rides_good.copy()\n",
    "data = data.merge(users_good, how = \"left\", on = \"user_id\")\n",
    "data = data.merge(subs, how = \"left\", on = \"subscription_type\")"
   ]
  },
  {
   "cell_type": "code",
   "execution_count": 43,
   "id": "78309458",
   "metadata": {
    "scrolled": true
   },
   "outputs": [
    {
     "data": {
      "text/html": [
       "<div>\n",
       "<style scoped>\n",
       "    .dataframe tbody tr th:only-of-type {\n",
       "        vertical-align: middle;\n",
       "    }\n",
       "\n",
       "    .dataframe tbody tr th {\n",
       "        vertical-align: top;\n",
       "    }\n",
       "\n",
       "    .dataframe thead th {\n",
       "        text-align: right;\n",
       "    }\n",
       "</style>\n",
       "<table border=\"1\" class=\"dataframe\">\n",
       "  <thead>\n",
       "    <tr style=\"text-align: right;\">\n",
       "      <th></th>\n",
       "      <th>user_id</th>\n",
       "      <th>distance</th>\n",
       "      <th>duration</th>\n",
       "      <th>date</th>\n",
       "      <th>month</th>\n",
       "      <th>name</th>\n",
       "      <th>age</th>\n",
       "      <th>city</th>\n",
       "      <th>subscription_type</th>\n",
       "      <th>minute_price</th>\n",
       "      <th>start_ride_price</th>\n",
       "      <th>subscription_fee</th>\n",
       "    </tr>\n",
       "  </thead>\n",
       "  <tbody>\n",
       "    <tr>\n",
       "      <th>0</th>\n",
       "      <td>1</td>\n",
       "      <td>4409.919140</td>\n",
       "      <td>25.599769</td>\n",
       "      <td>2021-01-01</td>\n",
       "      <td>1</td>\n",
       "      <td>Кира</td>\n",
       "      <td>22.0</td>\n",
       "      <td>Тюмень</td>\n",
       "      <td>ultra</td>\n",
       "      <td>6.0</td>\n",
       "      <td>0.0</td>\n",
       "      <td>199.0</td>\n",
       "    </tr>\n",
       "    <tr>\n",
       "      <th>1</th>\n",
       "      <td>1</td>\n",
       "      <td>2617.592153</td>\n",
       "      <td>15.816871</td>\n",
       "      <td>2021-01-18</td>\n",
       "      <td>1</td>\n",
       "      <td>Кира</td>\n",
       "      <td>22.0</td>\n",
       "      <td>Тюмень</td>\n",
       "      <td>ultra</td>\n",
       "      <td>6.0</td>\n",
       "      <td>0.0</td>\n",
       "      <td>199.0</td>\n",
       "    </tr>\n",
       "    <tr>\n",
       "      <th>2</th>\n",
       "      <td>1</td>\n",
       "      <td>754.159807</td>\n",
       "      <td>6.232113</td>\n",
       "      <td>2021-04-20</td>\n",
       "      <td>4</td>\n",
       "      <td>Кира</td>\n",
       "      <td>22.0</td>\n",
       "      <td>Тюмень</td>\n",
       "      <td>ultra</td>\n",
       "      <td>6.0</td>\n",
       "      <td>0.0</td>\n",
       "      <td>199.0</td>\n",
       "    </tr>\n",
       "    <tr>\n",
       "      <th>3</th>\n",
       "      <td>1</td>\n",
       "      <td>2694.783254</td>\n",
       "      <td>18.511000</td>\n",
       "      <td>2021-08-11</td>\n",
       "      <td>8</td>\n",
       "      <td>Кира</td>\n",
       "      <td>22.0</td>\n",
       "      <td>Тюмень</td>\n",
       "      <td>ultra</td>\n",
       "      <td>6.0</td>\n",
       "      <td>0.0</td>\n",
       "      <td>199.0</td>\n",
       "    </tr>\n",
       "    <tr>\n",
       "      <th>4</th>\n",
       "      <td>1</td>\n",
       "      <td>4028.687306</td>\n",
       "      <td>26.265803</td>\n",
       "      <td>2021-08-28</td>\n",
       "      <td>8</td>\n",
       "      <td>Кира</td>\n",
       "      <td>22.0</td>\n",
       "      <td>Тюмень</td>\n",
       "      <td>ultra</td>\n",
       "      <td>6.0</td>\n",
       "      <td>0.0</td>\n",
       "      <td>199.0</td>\n",
       "    </tr>\n",
       "    <tr>\n",
       "      <th>...</th>\n",
       "      <td>...</td>\n",
       "      <td>...</td>\n",
       "      <td>...</td>\n",
       "      <td>...</td>\n",
       "      <td>...</td>\n",
       "      <td>...</td>\n",
       "      <td>...</td>\n",
       "      <td>...</td>\n",
       "      <td>...</td>\n",
       "      <td>...</td>\n",
       "      <td>...</td>\n",
       "      <td>...</td>\n",
       "    </tr>\n",
       "    <tr>\n",
       "      <th>17904</th>\n",
       "      <td>1534</td>\n",
       "      <td>3781.098080</td>\n",
       "      <td>19.822962</td>\n",
       "      <td>2021-11-04</td>\n",
       "      <td>11</td>\n",
       "      <td>Альберт</td>\n",
       "      <td>25.0</td>\n",
       "      <td>Краснодар</td>\n",
       "      <td>free</td>\n",
       "      <td>8.0</td>\n",
       "      <td>50.0</td>\n",
       "      <td>0.0</td>\n",
       "    </tr>\n",
       "    <tr>\n",
       "      <th>17905</th>\n",
       "      <td>1534</td>\n",
       "      <td>2840.423057</td>\n",
       "      <td>21.409799</td>\n",
       "      <td>2021-11-16</td>\n",
       "      <td>11</td>\n",
       "      <td>Альберт</td>\n",
       "      <td>25.0</td>\n",
       "      <td>Краснодар</td>\n",
       "      <td>free</td>\n",
       "      <td>8.0</td>\n",
       "      <td>50.0</td>\n",
       "      <td>0.0</td>\n",
       "    </tr>\n",
       "    <tr>\n",
       "      <th>17906</th>\n",
       "      <td>1534</td>\n",
       "      <td>3826.185507</td>\n",
       "      <td>18.435051</td>\n",
       "      <td>2021-11-18</td>\n",
       "      <td>11</td>\n",
       "      <td>Альберт</td>\n",
       "      <td>25.0</td>\n",
       "      <td>Краснодар</td>\n",
       "      <td>free</td>\n",
       "      <td>8.0</td>\n",
       "      <td>50.0</td>\n",
       "      <td>0.0</td>\n",
       "    </tr>\n",
       "    <tr>\n",
       "      <th>17907</th>\n",
       "      <td>1534</td>\n",
       "      <td>2902.308661</td>\n",
       "      <td>16.674362</td>\n",
       "      <td>2021-11-27</td>\n",
       "      <td>11</td>\n",
       "      <td>Альберт</td>\n",
       "      <td>25.0</td>\n",
       "      <td>Краснодар</td>\n",
       "      <td>free</td>\n",
       "      <td>8.0</td>\n",
       "      <td>50.0</td>\n",
       "      <td>0.0</td>\n",
       "    </tr>\n",
       "    <tr>\n",
       "      <th>17908</th>\n",
       "      <td>1534</td>\n",
       "      <td>2371.711192</td>\n",
       "      <td>15.893917</td>\n",
       "      <td>2021-12-29</td>\n",
       "      <td>12</td>\n",
       "      <td>Альберт</td>\n",
       "      <td>25.0</td>\n",
       "      <td>Краснодар</td>\n",
       "      <td>free</td>\n",
       "      <td>8.0</td>\n",
       "      <td>50.0</td>\n",
       "      <td>0.0</td>\n",
       "    </tr>\n",
       "  </tbody>\n",
       "</table>\n",
       "<p>17909 rows × 12 columns</p>\n",
       "</div>"
      ],
      "text/plain": [
       "       user_id     distance   duration       date  month     name   age  \\\n",
       "0            1  4409.919140  25.599769 2021-01-01      1     Кира  22.0   \n",
       "1            1  2617.592153  15.816871 2021-01-18      1     Кира  22.0   \n",
       "2            1   754.159807   6.232113 2021-04-20      4     Кира  22.0   \n",
       "3            1  2694.783254  18.511000 2021-08-11      8     Кира  22.0   \n",
       "4            1  4028.687306  26.265803 2021-08-28      8     Кира  22.0   \n",
       "...        ...          ...        ...        ...    ...      ...   ...   \n",
       "17904     1534  3781.098080  19.822962 2021-11-04     11  Альберт  25.0   \n",
       "17905     1534  2840.423057  21.409799 2021-11-16     11  Альберт  25.0   \n",
       "17906     1534  3826.185507  18.435051 2021-11-18     11  Альберт  25.0   \n",
       "17907     1534  2902.308661  16.674362 2021-11-27     11  Альберт  25.0   \n",
       "17908     1534  2371.711192  15.893917 2021-12-29     12  Альберт  25.0   \n",
       "\n",
       "            city subscription_type  minute_price  start_ride_price  \\\n",
       "0         Тюмень             ultra           6.0               0.0   \n",
       "1         Тюмень             ultra           6.0               0.0   \n",
       "2         Тюмень             ultra           6.0               0.0   \n",
       "3         Тюмень             ultra           6.0               0.0   \n",
       "4         Тюмень             ultra           6.0               0.0   \n",
       "...          ...               ...           ...               ...   \n",
       "17904  Краснодар              free           8.0              50.0   \n",
       "17905  Краснодар              free           8.0              50.0   \n",
       "17906  Краснодар              free           8.0              50.0   \n",
       "17907  Краснодар              free           8.0              50.0   \n",
       "17908  Краснодар              free           8.0              50.0   \n",
       "\n",
       "       subscription_fee  \n",
       "0                 199.0  \n",
       "1                 199.0  \n",
       "2                 199.0  \n",
       "3                 199.0  \n",
       "4                 199.0  \n",
       "...                 ...  \n",
       "17904               0.0  \n",
       "17905               0.0  \n",
       "17906               0.0  \n",
       "17907               0.0  \n",
       "17908               0.0  \n",
       "\n",
       "[17909 rows x 12 columns]"
      ]
     },
     "metadata": {},
     "output_type": "display_data"
    }
   ],
   "source": [
    "display(data)"
   ]
  },
  {
   "cell_type": "code",
   "execution_count": 44,
   "id": "ee593428",
   "metadata": {
    "scrolled": true
   },
   "outputs": [
    {
     "name": "stdout",
     "output_type": "stream",
     "text": [
      "            user_id      distance      duration         month           age  \\\n",
      "count  17909.000000  17909.000000  17909.000000  17909.000000  17802.000000   \n",
      "mean     841.962812   3051.322956     17.852606      6.485678     24.873722   \n",
      "std      435.081243   1099.976936      5.927000      3.434765      4.465135   \n",
      "min        1.000000      0.855683      2.035632      1.000000     13.000000   \n",
      "25%      485.000000   2536.639796     13.656075      4.000000     22.000000   \n",
      "50%      887.000000   3125.624457     17.696846      6.000000     25.000000   \n",
      "75%     1213.000000   3750.890385     21.709870      9.000000     28.000000   \n",
      "max     1534.000000   5991.817697     34.962659     12.000000     37.000000   \n",
      "\n",
      "       minute_price  start_ride_price  subscription_fee  \n",
      "count  17802.000000      17802.000000      17802.000000  \n",
      "mean       7.278283         31.957083         71.810808  \n",
      "std        0.960526         24.013150         95.572338  \n",
      "min        6.000000          0.000000          0.000000  \n",
      "25%        6.000000          0.000000          0.000000  \n",
      "50%        8.000000         50.000000          0.000000  \n",
      "75%        8.000000         50.000000        199.000000  \n",
      "max        8.000000         50.000000        199.000000  \n"
     ]
    }
   ],
   "source": [
    "print(data.describe())"
   ]
  },
  {
   "cell_type": "code",
   "execution_count": 45,
   "id": "240337f9",
   "metadata": {},
   "outputs": [
    {
     "name": "stdout",
     "output_type": "stream",
     "text": [
      "0\n"
     ]
    }
   ],
   "source": [
    "print(data.duplicated().sum())"
   ]
  },
  {
   "cell_type": "code",
   "execution_count": 46,
   "id": "1103a5d9",
   "metadata": {
    "scrolled": true
   },
   "outputs": [
    {
     "name": "stdout",
     "output_type": "stream",
     "text": [
      "user_id                0\n",
      "distance               0\n",
      "duration               0\n",
      "date                   0\n",
      "month                  0\n",
      "name                 107\n",
      "age                  107\n",
      "city                 107\n",
      "subscription_type    107\n",
      "minute_price         107\n",
      "start_ride_price     107\n",
      "subscription_fee     107\n",
      "dtype: int64\n"
     ]
    }
   ],
   "source": [
    "print(data.isna().sum())"
   ]
  },
  {
   "cell_type": "code",
   "execution_count": 47,
   "id": "307c8ed7",
   "metadata": {},
   "outputs": [],
   "source": [
    "data = data.dropna().reset_index(drop=True)"
   ]
  },
  {
   "cell_type": "code",
   "execution_count": 48,
   "id": "44466c13",
   "metadata": {
    "scrolled": true
   },
   "outputs": [
    {
     "name": "stdout",
     "output_type": "stream",
     "text": [
      "user_id              0\n",
      "distance             0\n",
      "duration             0\n",
      "date                 0\n",
      "month                0\n",
      "name                 0\n",
      "age                  0\n",
      "city                 0\n",
      "subscription_type    0\n",
      "minute_price         0\n",
      "start_ride_price     0\n",
      "subscription_fee     0\n",
      "dtype: int64\n"
     ]
    }
   ],
   "source": [
    "print(data.isna().sum())"
   ]
  },
  {
   "cell_type": "code",
   "execution_count": 49,
   "id": "d8f7f3a8",
   "metadata": {
    "scrolled": true
   },
   "outputs": [
    {
     "data": {
      "text/html": [
       "<div>\n",
       "<style scoped>\n",
       "    .dataframe tbody tr th:only-of-type {\n",
       "        vertical-align: middle;\n",
       "    }\n",
       "\n",
       "    .dataframe tbody tr th {\n",
       "        vertical-align: top;\n",
       "    }\n",
       "\n",
       "    .dataframe thead th {\n",
       "        text-align: right;\n",
       "    }\n",
       "</style>\n",
       "<table border=\"1\" class=\"dataframe\">\n",
       "  <thead>\n",
       "    <tr style=\"text-align: right;\">\n",
       "      <th></th>\n",
       "      <th>user_id</th>\n",
       "      <th>distance</th>\n",
       "      <th>duration</th>\n",
       "      <th>date</th>\n",
       "      <th>month</th>\n",
       "      <th>name</th>\n",
       "      <th>age</th>\n",
       "      <th>city</th>\n",
       "      <th>subscription_type</th>\n",
       "      <th>minute_price</th>\n",
       "      <th>start_ride_price</th>\n",
       "      <th>subscription_fee</th>\n",
       "    </tr>\n",
       "  </thead>\n",
       "  <tbody>\n",
       "    <tr>\n",
       "      <th>0</th>\n",
       "      <td>1</td>\n",
       "      <td>4409.919140</td>\n",
       "      <td>25.599769</td>\n",
       "      <td>2021-01-01</td>\n",
       "      <td>1</td>\n",
       "      <td>Кира</td>\n",
       "      <td>22.0</td>\n",
       "      <td>Тюмень</td>\n",
       "      <td>ultra</td>\n",
       "      <td>6.0</td>\n",
       "      <td>0.0</td>\n",
       "      <td>199.0</td>\n",
       "    </tr>\n",
       "    <tr>\n",
       "      <th>1</th>\n",
       "      <td>1</td>\n",
       "      <td>2617.592153</td>\n",
       "      <td>15.816871</td>\n",
       "      <td>2021-01-18</td>\n",
       "      <td>1</td>\n",
       "      <td>Кира</td>\n",
       "      <td>22.0</td>\n",
       "      <td>Тюмень</td>\n",
       "      <td>ultra</td>\n",
       "      <td>6.0</td>\n",
       "      <td>0.0</td>\n",
       "      <td>199.0</td>\n",
       "    </tr>\n",
       "    <tr>\n",
       "      <th>2</th>\n",
       "      <td>1</td>\n",
       "      <td>754.159807</td>\n",
       "      <td>6.232113</td>\n",
       "      <td>2021-04-20</td>\n",
       "      <td>4</td>\n",
       "      <td>Кира</td>\n",
       "      <td>22.0</td>\n",
       "      <td>Тюмень</td>\n",
       "      <td>ultra</td>\n",
       "      <td>6.0</td>\n",
       "      <td>0.0</td>\n",
       "      <td>199.0</td>\n",
       "    </tr>\n",
       "    <tr>\n",
       "      <th>3</th>\n",
       "      <td>1</td>\n",
       "      <td>2694.783254</td>\n",
       "      <td>18.511000</td>\n",
       "      <td>2021-08-11</td>\n",
       "      <td>8</td>\n",
       "      <td>Кира</td>\n",
       "      <td>22.0</td>\n",
       "      <td>Тюмень</td>\n",
       "      <td>ultra</td>\n",
       "      <td>6.0</td>\n",
       "      <td>0.0</td>\n",
       "      <td>199.0</td>\n",
       "    </tr>\n",
       "    <tr>\n",
       "      <th>4</th>\n",
       "      <td>1</td>\n",
       "      <td>4028.687306</td>\n",
       "      <td>26.265803</td>\n",
       "      <td>2021-08-28</td>\n",
       "      <td>8</td>\n",
       "      <td>Кира</td>\n",
       "      <td>22.0</td>\n",
       "      <td>Тюмень</td>\n",
       "      <td>ultra</td>\n",
       "      <td>6.0</td>\n",
       "      <td>0.0</td>\n",
       "      <td>199.0</td>\n",
       "    </tr>\n",
       "    <tr>\n",
       "      <th>...</th>\n",
       "      <td>...</td>\n",
       "      <td>...</td>\n",
       "      <td>...</td>\n",
       "      <td>...</td>\n",
       "      <td>...</td>\n",
       "      <td>...</td>\n",
       "      <td>...</td>\n",
       "      <td>...</td>\n",
       "      <td>...</td>\n",
       "      <td>...</td>\n",
       "      <td>...</td>\n",
       "      <td>...</td>\n",
       "    </tr>\n",
       "    <tr>\n",
       "      <th>17797</th>\n",
       "      <td>1534</td>\n",
       "      <td>3781.098080</td>\n",
       "      <td>19.822962</td>\n",
       "      <td>2021-11-04</td>\n",
       "      <td>11</td>\n",
       "      <td>Альберт</td>\n",
       "      <td>25.0</td>\n",
       "      <td>Краснодар</td>\n",
       "      <td>free</td>\n",
       "      <td>8.0</td>\n",
       "      <td>50.0</td>\n",
       "      <td>0.0</td>\n",
       "    </tr>\n",
       "    <tr>\n",
       "      <th>17798</th>\n",
       "      <td>1534</td>\n",
       "      <td>2840.423057</td>\n",
       "      <td>21.409799</td>\n",
       "      <td>2021-11-16</td>\n",
       "      <td>11</td>\n",
       "      <td>Альберт</td>\n",
       "      <td>25.0</td>\n",
       "      <td>Краснодар</td>\n",
       "      <td>free</td>\n",
       "      <td>8.0</td>\n",
       "      <td>50.0</td>\n",
       "      <td>0.0</td>\n",
       "    </tr>\n",
       "    <tr>\n",
       "      <th>17799</th>\n",
       "      <td>1534</td>\n",
       "      <td>3826.185507</td>\n",
       "      <td>18.435051</td>\n",
       "      <td>2021-11-18</td>\n",
       "      <td>11</td>\n",
       "      <td>Альберт</td>\n",
       "      <td>25.0</td>\n",
       "      <td>Краснодар</td>\n",
       "      <td>free</td>\n",
       "      <td>8.0</td>\n",
       "      <td>50.0</td>\n",
       "      <td>0.0</td>\n",
       "    </tr>\n",
       "    <tr>\n",
       "      <th>17800</th>\n",
       "      <td>1534</td>\n",
       "      <td>2902.308661</td>\n",
       "      <td>16.674362</td>\n",
       "      <td>2021-11-27</td>\n",
       "      <td>11</td>\n",
       "      <td>Альберт</td>\n",
       "      <td>25.0</td>\n",
       "      <td>Краснодар</td>\n",
       "      <td>free</td>\n",
       "      <td>8.0</td>\n",
       "      <td>50.0</td>\n",
       "      <td>0.0</td>\n",
       "    </tr>\n",
       "    <tr>\n",
       "      <th>17801</th>\n",
       "      <td>1534</td>\n",
       "      <td>2371.711192</td>\n",
       "      <td>15.893917</td>\n",
       "      <td>2021-12-29</td>\n",
       "      <td>12</td>\n",
       "      <td>Альберт</td>\n",
       "      <td>25.0</td>\n",
       "      <td>Краснодар</td>\n",
       "      <td>free</td>\n",
       "      <td>8.0</td>\n",
       "      <td>50.0</td>\n",
       "      <td>0.0</td>\n",
       "    </tr>\n",
       "  </tbody>\n",
       "</table>\n",
       "<p>17802 rows × 12 columns</p>\n",
       "</div>"
      ],
      "text/plain": [
       "       user_id     distance   duration       date  month     name   age  \\\n",
       "0            1  4409.919140  25.599769 2021-01-01      1     Кира  22.0   \n",
       "1            1  2617.592153  15.816871 2021-01-18      1     Кира  22.0   \n",
       "2            1   754.159807   6.232113 2021-04-20      4     Кира  22.0   \n",
       "3            1  2694.783254  18.511000 2021-08-11      8     Кира  22.0   \n",
       "4            1  4028.687306  26.265803 2021-08-28      8     Кира  22.0   \n",
       "...        ...          ...        ...        ...    ...      ...   ...   \n",
       "17797     1534  3781.098080  19.822962 2021-11-04     11  Альберт  25.0   \n",
       "17798     1534  2840.423057  21.409799 2021-11-16     11  Альберт  25.0   \n",
       "17799     1534  3826.185507  18.435051 2021-11-18     11  Альберт  25.0   \n",
       "17800     1534  2902.308661  16.674362 2021-11-27     11  Альберт  25.0   \n",
       "17801     1534  2371.711192  15.893917 2021-12-29     12  Альберт  25.0   \n",
       "\n",
       "            city subscription_type  minute_price  start_ride_price  \\\n",
       "0         Тюмень             ultra           6.0               0.0   \n",
       "1         Тюмень             ultra           6.0               0.0   \n",
       "2         Тюмень             ultra           6.0               0.0   \n",
       "3         Тюмень             ultra           6.0               0.0   \n",
       "4         Тюмень             ultra           6.0               0.0   \n",
       "...          ...               ...           ...               ...   \n",
       "17797  Краснодар              free           8.0              50.0   \n",
       "17798  Краснодар              free           8.0              50.0   \n",
       "17799  Краснодар              free           8.0              50.0   \n",
       "17800  Краснодар              free           8.0              50.0   \n",
       "17801  Краснодар              free           8.0              50.0   \n",
       "\n",
       "       subscription_fee  \n",
       "0                 199.0  \n",
       "1                 199.0  \n",
       "2                 199.0  \n",
       "3                 199.0  \n",
       "4                 199.0  \n",
       "...                 ...  \n",
       "17797               0.0  \n",
       "17798               0.0  \n",
       "17799               0.0  \n",
       "17800               0.0  \n",
       "17801               0.0  \n",
       "\n",
       "[17802 rows x 12 columns]"
      ]
     },
     "metadata": {},
     "output_type": "display_data"
    }
   ],
   "source": [
    "display(data)"
   ]
  },
  {
   "cell_type": "markdown",
   "id": "db6e6a20",
   "metadata": {},
   "source": [
    "Были объединены все датафреймы. Размер объединенной таблицы соответствует ожиданиям - 17909 строчек данных. Дубликаты отсутствовали, но присутствовали пропущенные значения из-за удаления выбросов в соответствующих датафреймов. Было принято решение удалить эти данные. Их доля составляет 0.59%."
   ]
  },
  {
   "cell_type": "code",
   "execution_count": 50,
   "id": "c8bfd6de",
   "metadata": {},
   "outputs": [],
   "source": [
    "data_free = data.loc[data[\"subscription_type\"] == \"free\"]"
   ]
  },
  {
   "cell_type": "code",
   "execution_count": 51,
   "id": "d39ff863",
   "metadata": {},
   "outputs": [
    {
     "data": {
      "text/html": [
       "<div>\n",
       "<style scoped>\n",
       "    .dataframe tbody tr th:only-of-type {\n",
       "        vertical-align: middle;\n",
       "    }\n",
       "\n",
       "    .dataframe tbody tr th {\n",
       "        vertical-align: top;\n",
       "    }\n",
       "\n",
       "    .dataframe thead th {\n",
       "        text-align: right;\n",
       "    }\n",
       "</style>\n",
       "<table border=\"1\" class=\"dataframe\">\n",
       "  <thead>\n",
       "    <tr style=\"text-align: right;\">\n",
       "      <th></th>\n",
       "      <th>user_id</th>\n",
       "      <th>distance</th>\n",
       "      <th>duration</th>\n",
       "      <th>date</th>\n",
       "      <th>month</th>\n",
       "      <th>name</th>\n",
       "      <th>age</th>\n",
       "      <th>city</th>\n",
       "      <th>subscription_type</th>\n",
       "      <th>minute_price</th>\n",
       "      <th>start_ride_price</th>\n",
       "      <th>subscription_fee</th>\n",
       "    </tr>\n",
       "  </thead>\n",
       "  <tbody>\n",
       "    <tr>\n",
       "      <th>6424</th>\n",
       "      <td>700</td>\n",
       "      <td>2515.690719</td>\n",
       "      <td>14.944286</td>\n",
       "      <td>2021-01-02</td>\n",
       "      <td>1</td>\n",
       "      <td>Айдар</td>\n",
       "      <td>22.0</td>\n",
       "      <td>Омск</td>\n",
       "      <td>free</td>\n",
       "      <td>8.0</td>\n",
       "      <td>50.0</td>\n",
       "      <td>0.0</td>\n",
       "    </tr>\n",
       "    <tr>\n",
       "      <th>6425</th>\n",
       "      <td>700</td>\n",
       "      <td>846.932642</td>\n",
       "      <td>16.234663</td>\n",
       "      <td>2021-02-01</td>\n",
       "      <td>2</td>\n",
       "      <td>Айдар</td>\n",
       "      <td>22.0</td>\n",
       "      <td>Омск</td>\n",
       "      <td>free</td>\n",
       "      <td>8.0</td>\n",
       "      <td>50.0</td>\n",
       "      <td>0.0</td>\n",
       "    </tr>\n",
       "    <tr>\n",
       "      <th>6426</th>\n",
       "      <td>700</td>\n",
       "      <td>4004.434142</td>\n",
       "      <td>20.016628</td>\n",
       "      <td>2021-02-04</td>\n",
       "      <td>2</td>\n",
       "      <td>Айдар</td>\n",
       "      <td>22.0</td>\n",
       "      <td>Омск</td>\n",
       "      <td>free</td>\n",
       "      <td>8.0</td>\n",
       "      <td>50.0</td>\n",
       "      <td>0.0</td>\n",
       "    </tr>\n",
       "    <tr>\n",
       "      <th>6427</th>\n",
       "      <td>700</td>\n",
       "      <td>1205.911290</td>\n",
       "      <td>9.782872</td>\n",
       "      <td>2021-02-10</td>\n",
       "      <td>2</td>\n",
       "      <td>Айдар</td>\n",
       "      <td>22.0</td>\n",
       "      <td>Омск</td>\n",
       "      <td>free</td>\n",
       "      <td>8.0</td>\n",
       "      <td>50.0</td>\n",
       "      <td>0.0</td>\n",
       "    </tr>\n",
       "    <tr>\n",
       "      <th>6428</th>\n",
       "      <td>700</td>\n",
       "      <td>3047.379435</td>\n",
       "      <td>17.427673</td>\n",
       "      <td>2021-02-14</td>\n",
       "      <td>2</td>\n",
       "      <td>Айдар</td>\n",
       "      <td>22.0</td>\n",
       "      <td>Омск</td>\n",
       "      <td>free</td>\n",
       "      <td>8.0</td>\n",
       "      <td>50.0</td>\n",
       "      <td>0.0</td>\n",
       "    </tr>\n",
       "  </tbody>\n",
       "</table>\n",
       "</div>"
      ],
      "text/plain": [
       "      user_id     distance   duration       date  month   name   age  city  \\\n",
       "6424      700  2515.690719  14.944286 2021-01-02      1  Айдар  22.0  Омск   \n",
       "6425      700   846.932642  16.234663 2021-02-01      2  Айдар  22.0  Омск   \n",
       "6426      700  4004.434142  20.016628 2021-02-04      2  Айдар  22.0  Омск   \n",
       "6427      700  1205.911290   9.782872 2021-02-10      2  Айдар  22.0  Омск   \n",
       "6428      700  3047.379435  17.427673 2021-02-14      2  Айдар  22.0  Омск   \n",
       "\n",
       "     subscription_type  minute_price  start_ride_price  subscription_fee  \n",
       "6424              free           8.0              50.0               0.0  \n",
       "6425              free           8.0              50.0               0.0  \n",
       "6426              free           8.0              50.0               0.0  \n",
       "6427              free           8.0              50.0               0.0  \n",
       "6428              free           8.0              50.0               0.0  "
      ]
     },
     "metadata": {},
     "output_type": "display_data"
    }
   ],
   "source": [
    "display(data_free.head())"
   ]
  },
  {
   "cell_type": "code",
   "execution_count": 52,
   "id": "90a27870",
   "metadata": {},
   "outputs": [],
   "source": [
    "data_ultra = data.loc[data[\"subscription_type\"] == \"ultra\"]"
   ]
  },
  {
   "cell_type": "code",
   "execution_count": 53,
   "id": "ae53d6ce",
   "metadata": {
    "scrolled": true
   },
   "outputs": [
    {
     "data": {
      "text/html": [
       "<div>\n",
       "<style scoped>\n",
       "    .dataframe tbody tr th:only-of-type {\n",
       "        vertical-align: middle;\n",
       "    }\n",
       "\n",
       "    .dataframe tbody tr th {\n",
       "        vertical-align: top;\n",
       "    }\n",
       "\n",
       "    .dataframe thead th {\n",
       "        text-align: right;\n",
       "    }\n",
       "</style>\n",
       "<table border=\"1\" class=\"dataframe\">\n",
       "  <thead>\n",
       "    <tr style=\"text-align: right;\">\n",
       "      <th></th>\n",
       "      <th>user_id</th>\n",
       "      <th>distance</th>\n",
       "      <th>duration</th>\n",
       "      <th>date</th>\n",
       "      <th>month</th>\n",
       "      <th>name</th>\n",
       "      <th>age</th>\n",
       "      <th>city</th>\n",
       "      <th>subscription_type</th>\n",
       "      <th>minute_price</th>\n",
       "      <th>start_ride_price</th>\n",
       "      <th>subscription_fee</th>\n",
       "    </tr>\n",
       "  </thead>\n",
       "  <tbody>\n",
       "    <tr>\n",
       "      <th>0</th>\n",
       "      <td>1</td>\n",
       "      <td>4409.919140</td>\n",
       "      <td>25.599769</td>\n",
       "      <td>2021-01-01</td>\n",
       "      <td>1</td>\n",
       "      <td>Кира</td>\n",
       "      <td>22.0</td>\n",
       "      <td>Тюмень</td>\n",
       "      <td>ultra</td>\n",
       "      <td>6.0</td>\n",
       "      <td>0.0</td>\n",
       "      <td>199.0</td>\n",
       "    </tr>\n",
       "    <tr>\n",
       "      <th>1</th>\n",
       "      <td>1</td>\n",
       "      <td>2617.592153</td>\n",
       "      <td>15.816871</td>\n",
       "      <td>2021-01-18</td>\n",
       "      <td>1</td>\n",
       "      <td>Кира</td>\n",
       "      <td>22.0</td>\n",
       "      <td>Тюмень</td>\n",
       "      <td>ultra</td>\n",
       "      <td>6.0</td>\n",
       "      <td>0.0</td>\n",
       "      <td>199.0</td>\n",
       "    </tr>\n",
       "    <tr>\n",
       "      <th>2</th>\n",
       "      <td>1</td>\n",
       "      <td>754.159807</td>\n",
       "      <td>6.232113</td>\n",
       "      <td>2021-04-20</td>\n",
       "      <td>4</td>\n",
       "      <td>Кира</td>\n",
       "      <td>22.0</td>\n",
       "      <td>Тюмень</td>\n",
       "      <td>ultra</td>\n",
       "      <td>6.0</td>\n",
       "      <td>0.0</td>\n",
       "      <td>199.0</td>\n",
       "    </tr>\n",
       "    <tr>\n",
       "      <th>3</th>\n",
       "      <td>1</td>\n",
       "      <td>2694.783254</td>\n",
       "      <td>18.511000</td>\n",
       "      <td>2021-08-11</td>\n",
       "      <td>8</td>\n",
       "      <td>Кира</td>\n",
       "      <td>22.0</td>\n",
       "      <td>Тюмень</td>\n",
       "      <td>ultra</td>\n",
       "      <td>6.0</td>\n",
       "      <td>0.0</td>\n",
       "      <td>199.0</td>\n",
       "    </tr>\n",
       "    <tr>\n",
       "      <th>4</th>\n",
       "      <td>1</td>\n",
       "      <td>4028.687306</td>\n",
       "      <td>26.265803</td>\n",
       "      <td>2021-08-28</td>\n",
       "      <td>8</td>\n",
       "      <td>Кира</td>\n",
       "      <td>22.0</td>\n",
       "      <td>Тюмень</td>\n",
       "      <td>ultra</td>\n",
       "      <td>6.0</td>\n",
       "      <td>0.0</td>\n",
       "      <td>199.0</td>\n",
       "    </tr>\n",
       "  </tbody>\n",
       "</table>\n",
       "</div>"
      ],
      "text/plain": [
       "   user_id     distance   duration       date  month  name   age    city  \\\n",
       "0        1  4409.919140  25.599769 2021-01-01      1  Кира  22.0  Тюмень   \n",
       "1        1  2617.592153  15.816871 2021-01-18      1  Кира  22.0  Тюмень   \n",
       "2        1   754.159807   6.232113 2021-04-20      4  Кира  22.0  Тюмень   \n",
       "3        1  2694.783254  18.511000 2021-08-11      8  Кира  22.0  Тюмень   \n",
       "4        1  4028.687306  26.265803 2021-08-28      8  Кира  22.0  Тюмень   \n",
       "\n",
       "  subscription_type  minute_price  start_ride_price  subscription_fee  \n",
       "0             ultra           6.0               0.0             199.0  \n",
       "1             ultra           6.0               0.0             199.0  \n",
       "2             ultra           6.0               0.0             199.0  \n",
       "3             ultra           6.0               0.0             199.0  \n",
       "4             ultra           6.0               0.0             199.0  "
      ]
     },
     "metadata": {},
     "output_type": "display_data"
    }
   ],
   "source": [
    "display(data_ultra.head())"
   ]
  },
  {
   "cell_type": "markdown",
   "id": "3edb7c56",
   "metadata": {},
   "source": [
    "Были созданы два дополнительных датафреймов с данными о пользователях без подписки и с подпиской."
   ]
  },
  {
   "cell_type": "code",
   "execution_count": 54,
   "id": "a02374c6",
   "metadata": {},
   "outputs": [
    {
     "data": {
      "image/png": "[encoded data removed]",
      "text/plain": [
       "<Figure size 720x360 with 1 Axes>"
      ]
     },
     "metadata": {
      "needs_background": "light"
     },
     "output_type": "display_data"
    }
   ],
   "source": [
    "ax = data_free[\"distance\"].plot(kind='hist', bins = 100, figsize=(10,5), label = \"Подписка free\", grid = True)\n",
    "data_ultra['distance'].plot(kind='hist', bins = 100, figsize=(10,5), label = \"Подписка ultra\", grid = True, ax = ax)\n",
    "plt.title('Расстояние одной поездки пользователей с подписками free и ultra')\n",
    "plt.xlabel('Расстояние(метр)')\n",
    "plt.ylabel('Количество пользователей')\n",
    "plt.legend(loc='upper right')\n",
    "plt.show()"
   ]
  },
  {
   "cell_type": "code",
   "execution_count": 55,
   "id": "6e873e45",
   "metadata": {},
   "outputs": [
    {
     "name": "stdout",
     "output_type": "stream",
     "text": [
      "count    6424.000000\n",
      "mean     3109.783988\n",
      "std       834.564521\n",
      "min       244.210438\n",
      "25%      2783.631172\n",
      "50%      3146.205812\n",
      "75%      3555.275884\n",
      "max      5699.769662\n",
      "Name: distance, dtype: float64\n"
     ]
    }
   ],
   "source": [
    "print(data_ultra[\"distance\"].describe())"
   ]
  },
  {
   "cell_type": "code",
   "execution_count": 56,
   "id": "1b01047f",
   "metadata": {},
   "outputs": [
    {
     "name": "stdout",
     "output_type": "stream",
     "text": [
      "count    11378.000000\n",
      "mean      3017.865344\n",
      "std       1224.198263\n",
      "min          0.855683\n",
      "25%       2358.060822\n",
      "50%       3098.603266\n",
      "75%       3876.742186\n",
      "max       5991.817697\n",
      "Name: distance, dtype: float64\n"
     ]
    }
   ],
   "source": [
    "print(data_free[\"distance\"].describe())"
   ]
  },
  {
   "cell_type": "markdown",
   "id": "6efa81a8",
   "metadata": {},
   "source": [
    "Медианное значение и пики обоих графиков расположились примерно на одинаковой отметке, равное 3000 метрам. В целом у пользователей подписки free график намного шире. Широкий пик приходится в диапазоне от 2000 до примерно 4500 метров. На их долю приходится 74% поездок free и 47% всех поездок. В свою очередь пользователи подписки ultra имеют острый пик от 2500 до 3500 метров. На их долю приходится около 60% поездок ultra и 21% всех поездок. Если рассматривать поездки на короткой дистанции, то у пользователей подписки free и ultra пики расположились около 500 и 1000 метров соответственно. В целом оба графики имеют схожую тенденцию и подчиняются нормальному распределению. "
   ]
  },
  {
   "cell_type": "code",
   "execution_count": 57,
   "id": "1c9a6771",
   "metadata": {
    "scrolled": true
   },
   "outputs": [
    {
     "data": {
      "image/png": "[encoded data removed]",
      "text/plain": [
       "<Figure size 720x360 with 1 Axes>"
      ]
     },
     "metadata": {
      "needs_background": "light"
     },
     "output_type": "display_data"
    }
   ],
   "source": [
    "ax = data_free[\"duration\"].plot(kind='hist', bins = 100, figsize=(10,5), label = \"Подписка free\", grid = True)\n",
    "data_ultra['duration'].plot(kind='hist', bins = 100, figsize=(10,5), label = \"Подписка ultra\", grid = True, ax = ax)\n",
    "plt.title('Продолжительность одной поездки пользователей с подписками free и ultra')\n",
    "plt.xlabel('Продолжительность(мин)')\n",
    "plt.ylabel('Количество пользователей')\n",
    "plt.legend(loc='upper right')\n",
    "plt.show()"
   ]
  },
  {
   "cell_type": "code",
   "execution_count": 58,
   "id": "07d9705f",
   "metadata": {
    "scrolled": true
   },
   "outputs": [
    {
     "name": "stdout",
     "output_type": "stream",
     "text": [
      "count    6424.000000\n",
      "mean       18.464034\n",
      "std         5.458468\n",
      "min         3.760353\n",
      "25%        14.501104\n",
      "50%        18.154805\n",
      "75%        21.824876\n",
      "max        34.962659\n",
      "Name: duration, dtype: float64\n"
     ]
    }
   ],
   "source": [
    "print(data_ultra[\"duration\"].describe())"
   ]
  },
  {
   "cell_type": "code",
   "execution_count": 59,
   "id": "abafe5ee",
   "metadata": {
    "scrolled": true
   },
   "outputs": [
    {
     "name": "stdout",
     "output_type": "stream",
     "text": [
      "count    11378.000000\n",
      "mean        17.502813\n",
      "std          6.150567\n",
      "min          2.035632\n",
      "25%         13.072623\n",
      "50%         17.359245\n",
      "75%         21.614313\n",
      "max         34.948498\n",
      "Name: duration, dtype: float64\n"
     ]
    }
   ],
   "source": [
    "print(data_free[\"duration\"].describe())"
   ]
  },
  {
   "cell_type": "markdown",
   "id": "6f3da6da",
   "metadata": {},
   "source": [
    "Медианное значение обоих графиков расположилось примерно на одинаковой отметке, равное 17-18 минутам. На графике видно, что оба графика подчиняются нормальному распределению и имеют идентичный тренд без видимых выбросов и аномалий. График подписчиков ultra накладывается на график пользователей бесплатной подписки."
   ]
  },
  {
   "cell_type": "code",
   "execution_count": 60,
   "id": "73ad9f46",
   "metadata": {},
   "outputs": [
    {
     "name": "stdout",
     "output_type": "stream",
     "text": [
      "0.5807552290268599\n",
      "0.6170800515067143\n",
      "0.48595332780811434\n"
     ]
    }
   ],
   "source": [
    "print(data[\"distance\"].corr(data[\"duration\"]))\n",
    "print(data_free[\"distance\"].corr(data_free[\"duration\"]))\n",
    "print(data_ultra[\"distance\"].corr(data_ultra[\"duration\"]))"
   ]
  },
  {
   "cell_type": "markdown",
   "id": "4d249265",
   "metadata": {},
   "source": [
    "Можно сделать вывод, что пользователи подписки ultra имеют тенденцию в целом преодолевать один диапазон расстояний. Об этом нам говорят 2 пика на короткой и длинной дистанции. Пользователи бесплатной подписки преодолевают в свою очередь более широкий диапазон расстояний. Возможно это связано с особенностью пользователей подписки ultra и их схожести. Большинство таких пользователй могут располагаться на одной територии или в целом имеют тенденцию добираться до одинаковых точек города. Если говорить о продолжительности, то отсутствует видимое отличие между двумя группами. Можно сказать, что продолжительность поездки в целом не зависит от тип подписки. Также стоит отметить положительную корреляцию между дистанцией и продолжительностью поездки. Тем не менее, корреляция у пользователей бесплатной подписки больше чем у второй группы и имеют значения равные: 0.485 и 0.617"
   ]
  },
  {
   "cell_type": "markdown",
   "id": "402d620f",
   "metadata": {},
   "source": [
    "#### Шаг 5. Подсчёт выручки"
   ]
  },
  {
   "cell_type": "code",
   "execution_count": 61,
   "id": "53049e0a",
   "metadata": {},
   "outputs": [],
   "source": [
    "data['duration'] = np.ceil(data['duration']) "
   ]
  },
  {
   "cell_type": "code",
   "execution_count": 62,
   "id": "baa666ea",
   "metadata": {},
   "outputs": [],
   "source": [
    "data_aggregated = data.pivot_table(index = [\"user_id\", \"month\", \"subscription_type\"], values = [\"distance\", \"duration\"], aggfunc = [\"count\", \"sum\"])"
   ]
  },
  {
   "cell_type": "code",
   "execution_count": 63,
   "id": "e4b9019c",
   "metadata": {},
   "outputs": [],
   "source": [
    "data_aggregated.columns = [\"Количество поездок\", \"дроп\", \"Суммарное расстояние\", \"Суммарное время\"]"
   ]
  },
  {
   "cell_type": "code",
   "execution_count": 64,
   "id": "9d590a56",
   "metadata": {},
   "outputs": [],
   "source": [
    "data_aggregated = data_aggregated.drop(columns = \"дроп\")"
   ]
  },
  {
   "cell_type": "code",
   "execution_count": 65,
   "id": "3a94341f",
   "metadata": {
    "scrolled": true
   },
   "outputs": [
    {
     "data": {
      "text/html": [
       "<div>\n",
       "<style scoped>\n",
       "    .dataframe tbody tr th:only-of-type {\n",
       "        vertical-align: middle;\n",
       "    }\n",
       "\n",
       "    .dataframe tbody tr th {\n",
       "        vertical-align: top;\n",
       "    }\n",
       "\n",
       "    .dataframe thead th {\n",
       "        text-align: right;\n",
       "    }\n",
       "</style>\n",
       "<table border=\"1\" class=\"dataframe\">\n",
       "  <thead>\n",
       "    <tr style=\"text-align: right;\">\n",
       "      <th></th>\n",
       "      <th></th>\n",
       "      <th></th>\n",
       "      <th>Количество поездок</th>\n",
       "      <th>Суммарное расстояние</th>\n",
       "      <th>Суммарное время</th>\n",
       "    </tr>\n",
       "    <tr>\n",
       "      <th>user_id</th>\n",
       "      <th>month</th>\n",
       "      <th>subscription_type</th>\n",
       "      <th></th>\n",
       "      <th></th>\n",
       "      <th></th>\n",
       "    </tr>\n",
       "  </thead>\n",
       "  <tbody>\n",
       "    <tr>\n",
       "      <th rowspan=\"5\" valign=\"top\">1</th>\n",
       "      <th>1</th>\n",
       "      <th>ultra</th>\n",
       "      <td>2</td>\n",
       "      <td>7027.511294</td>\n",
       "      <td>42.0</td>\n",
       "    </tr>\n",
       "    <tr>\n",
       "      <th>4</th>\n",
       "      <th>ultra</th>\n",
       "      <td>1</td>\n",
       "      <td>754.159807</td>\n",
       "      <td>7.0</td>\n",
       "    </tr>\n",
       "    <tr>\n",
       "      <th>8</th>\n",
       "      <th>ultra</th>\n",
       "      <td>2</td>\n",
       "      <td>6723.470560</td>\n",
       "      <td>46.0</td>\n",
       "    </tr>\n",
       "    <tr>\n",
       "      <th>10</th>\n",
       "      <th>ultra</th>\n",
       "      <td>2</td>\n",
       "      <td>5809.911100</td>\n",
       "      <td>32.0</td>\n",
       "    </tr>\n",
       "    <tr>\n",
       "      <th>11</th>\n",
       "      <th>ultra</th>\n",
       "      <td>3</td>\n",
       "      <td>7003.499363</td>\n",
       "      <td>56.0</td>\n",
       "    </tr>\n",
       "  </tbody>\n",
       "</table>\n",
       "</div>"
      ],
      "text/plain": [
       "                                 Количество поездок  Суммарное расстояние  \\\n",
       "user_id month subscription_type                                             \n",
       "1       1     ultra                               2           7027.511294   \n",
       "        4     ultra                               1            754.159807   \n",
       "        8     ultra                               2           6723.470560   \n",
       "        10    ultra                               2           5809.911100   \n",
       "        11    ultra                               3           7003.499363   \n",
       "\n",
       "                                 Суммарное время  \n",
       "user_id month subscription_type                   \n",
       "1       1     ultra                         42.0  \n",
       "        4     ultra                          7.0  \n",
       "        8     ultra                         46.0  \n",
       "        10    ultra                         32.0  \n",
       "        11    ultra                         56.0  "
      ]
     },
     "metadata": {},
     "output_type": "display_data"
    }
   ],
   "source": [
    "display(data_aggregated.head())"
   ]
  },
  {
   "cell_type": "code",
   "execution_count": 66,
   "id": "46a5a8c7",
   "metadata": {},
   "outputs": [],
   "source": [
    "def revenue(each):\n",
    "    user_id = each.name[0]\n",
    "    subs_info = data.loc[data[\"user_id\"] == user_id] \n",
    "    start_price = subs_info[\"start_ride_price\"].values[0]\n",
    "    minute_price = subs_info[\"minute_price\"].values[0]\n",
    "    subs_price =  subs_info[\"subscription_fee\"].values[0]\n",
    "    \n",
    "    return start_price * each[\"Количество поездок\"] + minute_price * np.ceil(each[\"Суммарное время\"]) + subs_price\n",
    "    \n",
    "                \n",
    "\n",
    "data_aggregated[\"Выручка\"] = data_aggregated.apply(revenue, axis=1)"
   ]
  },
  {
   "cell_type": "code",
   "execution_count": 67,
   "id": "8c77cb9d",
   "metadata": {
    "scrolled": true
   },
   "outputs": [
    {
     "data": {
      "text/html": [
       "<div>\n",
       "<style scoped>\n",
       "    .dataframe tbody tr th:only-of-type {\n",
       "        vertical-align: middle;\n",
       "    }\n",
       "\n",
       "    .dataframe tbody tr th {\n",
       "        vertical-align: top;\n",
       "    }\n",
       "\n",
       "    .dataframe thead th {\n",
       "        text-align: right;\n",
       "    }\n",
       "</style>\n",
       "<table border=\"1\" class=\"dataframe\">\n",
       "  <thead>\n",
       "    <tr style=\"text-align: right;\">\n",
       "      <th></th>\n",
       "      <th></th>\n",
       "      <th></th>\n",
       "      <th>Количество поездок</th>\n",
       "      <th>Суммарное расстояние</th>\n",
       "      <th>Суммарное время</th>\n",
       "      <th>Выручка</th>\n",
       "    </tr>\n",
       "    <tr>\n",
       "      <th>user_id</th>\n",
       "      <th>month</th>\n",
       "      <th>subscription_type</th>\n",
       "      <th></th>\n",
       "      <th></th>\n",
       "      <th></th>\n",
       "      <th></th>\n",
       "    </tr>\n",
       "  </thead>\n",
       "  <tbody>\n",
       "    <tr>\n",
       "      <th rowspan=\"5\" valign=\"top\">1</th>\n",
       "      <th>1</th>\n",
       "      <th>ultra</th>\n",
       "      <td>2</td>\n",
       "      <td>7027.511294</td>\n",
       "      <td>42.0</td>\n",
       "      <td>451.0</td>\n",
       "    </tr>\n",
       "    <tr>\n",
       "      <th>4</th>\n",
       "      <th>ultra</th>\n",
       "      <td>1</td>\n",
       "      <td>754.159807</td>\n",
       "      <td>7.0</td>\n",
       "      <td>241.0</td>\n",
       "    </tr>\n",
       "    <tr>\n",
       "      <th>8</th>\n",
       "      <th>ultra</th>\n",
       "      <td>2</td>\n",
       "      <td>6723.470560</td>\n",
       "      <td>46.0</td>\n",
       "      <td>475.0</td>\n",
       "    </tr>\n",
       "    <tr>\n",
       "      <th>10</th>\n",
       "      <th>ultra</th>\n",
       "      <td>2</td>\n",
       "      <td>5809.911100</td>\n",
       "      <td>32.0</td>\n",
       "      <td>391.0</td>\n",
       "    </tr>\n",
       "    <tr>\n",
       "      <th>11</th>\n",
       "      <th>ultra</th>\n",
       "      <td>3</td>\n",
       "      <td>7003.499363</td>\n",
       "      <td>56.0</td>\n",
       "      <td>535.0</td>\n",
       "    </tr>\n",
       "  </tbody>\n",
       "</table>\n",
       "</div>"
      ],
      "text/plain": [
       "                                 Количество поездок  Суммарное расстояние  \\\n",
       "user_id month subscription_type                                             \n",
       "1       1     ultra                               2           7027.511294   \n",
       "        4     ultra                               1            754.159807   \n",
       "        8     ultra                               2           6723.470560   \n",
       "        10    ultra                               2           5809.911100   \n",
       "        11    ultra                               3           7003.499363   \n",
       "\n",
       "                                 Суммарное время  Выручка  \n",
       "user_id month subscription_type                            \n",
       "1       1     ultra                         42.0    451.0  \n",
       "        4     ultra                          7.0    241.0  \n",
       "        8     ultra                         46.0    475.0  \n",
       "        10    ultra                         32.0    391.0  \n",
       "        11    ultra                         56.0    535.0  "
      ]
     },
     "metadata": {},
     "output_type": "display_data"
    }
   ],
   "source": [
    "display(data_aggregated.head())"
   ]
  },
  {
   "cell_type": "markdown",
   "id": "a42cc100",
   "metadata": {},
   "source": [
    "В ходе работы был создан датафрейм с агрегированными данными о поездках, где отображены суммарное расстояние, количество поездок и суммарное время для каждого пользователя за каждый месяц. Далее был добавлен новый столбец, который содержит информацию о выручке за каждый месяц."
   ]
  },
  {
   "cell_type": "markdown",
   "id": "41545ac0",
   "metadata": {},
   "source": [
    "#### Шаг 6. Проверка гипотез"
   ]
  },
  {
   "cell_type": "markdown",
   "id": "92927949",
   "metadata": {},
   "source": [
    "Важно понять, тратят ли пользователи с подпиской больше времени на поездки? Если да, то пользователи с подпиской могут быть «выгоднее» для компании."
   ]
  },
  {
   "cell_type": "markdown",
   "id": "a9c6366b",
   "metadata": {},
   "source": [
    "Для проверки данной гипотезы нужно обозначить нулевую и альтернативную гипотезу. Нулевая гипотеза: cредняя продолжительность поездки пользователей обоих категорий равны. Так как нам важно проверить тратит ли пользователи с подпиской больше времени, мы будем использовать одностороннюю альтернативную гипотезу. Альтернативная гипотеза: пользователи с подпиской тратят больше времени на поездки чем пользователи бесплатной поездки. "
   ]
  },
  {
   "cell_type": "code",
   "execution_count": 68,
   "id": "aa692d97",
   "metadata": {},
   "outputs": [
    {
     "name": "stdout",
     "output_type": "stream",
     "text": [
      "p value: 1.1718818982528317e-25\n",
      "Отвергаем нулевую гипотезу\n"
     ]
    }
   ],
   "source": [
    "alpha = 0.05\n",
    "results = st.ttest_ind(data_ultra[\"duration\"], data_free[\"duration\"], alternative = \"greater\") \n",
    "\n",
    "print(\"p value:\", results.pvalue)\n",
    "\n",
    "if results.pvalue < alpha:\n",
    "    print('Отвергаем нулевую гипотезу')\n",
    "else:\n",
    "    print('Не отвергаем нулевую гипотезу')"
   ]
  },
  {
   "cell_type": "markdown",
   "id": "8a458eaf",
   "metadata": {},
   "source": [
    "Нулевая гипотеза была отвергнута в пользу альтернативной гипотезы. Можно сделать вывод, что средняя продолжительность поездок пользователей подписки ultra больше чем у пользователей бесплатной. Они действительно выгоднее для компании."
   ]
  },
  {
   "cell_type": "markdown",
   "id": "71396b14",
   "metadata": {},
   "source": [
    "----------------------------------------------------------------------------------------------------------------------\n",
    "----------------------------------------------------------------------------------------------------------------------\n",
    "----------------------------------------------------------------------------------------------------------------------"
   ]
  },
  {
   "cell_type": "markdown",
   "id": "45e0257f",
   "metadata": {},
   "source": [
    "Расстояние одной поездки в 3130 метров — оптимальное с точки зрения износа самоката. Можно ли сказать, что среднее расстояние, которое проезжают пользователи с подпиской за одну поездку, не превышает 3130 метров? "
   ]
  },
  {
   "cell_type": "markdown",
   "id": "7e7ee63f",
   "metadata": {},
   "source": [
    "Для проверки данной гипотезы нужно обозначить нулевую и альтернативную гипотезу. Нулевая гипотеза: среднее расстояние одной поездки у пользователей подписки ultra не превышает 3130 метров. Так как нам важно проверить проезжают ли пользователи с подпиской расстояние больше чем 3130 метров, мы будем использовать одностороннюю альтернативную гипотезу. Альтернативная гипотеза: среднее расстояние одной поездки у пользователей подписки ultra больше 3130 метров."
   ]
  },
  {
   "cell_type": "code",
   "execution_count": 69,
   "id": "dcf5fedd",
   "metadata": {
    "scrolled": true
   },
   "outputs": [
    {
     "name": "stdout",
     "output_type": "stream",
     "text": [
      "p value: 0.9738795886637892\n",
      "Не отвергаем нулевую гипотезу\n"
     ]
    }
   ],
   "source": [
    "alpha = 0.05\n",
    "value = 3130\n",
    "results = st.ttest_1samp(data_ultra[\"distance\"], value, alternative = \"greater\") \n",
    "\n",
    "print(\"p value:\", results.pvalue)\n",
    "\n",
    "if results.pvalue < alpha:\n",
    "    print('Отвергаем нулевую гипотезу')\n",
    "else:\n",
    "    print('Не отвергаем нулевую гипотезу')"
   ]
  },
  {
   "cell_type": "markdown",
   "id": "9c171f7f",
   "metadata": {},
   "source": [
    "Нулевая гипотеза не была отвергнута. Можно сделать вывод, что среднее расстояние пользователей не превышает 3130 метров. В среднем самокаты не превышают допустимый порог изнашиваемости."
   ]
  },
  {
   "cell_type": "markdown",
   "id": "798f6762",
   "metadata": {},
   "source": [
    "----------------------------------------------------------------------------------------------------------------------\n",
    "----------------------------------------------------------------------------------------------------------------------\n",
    "----------------------------------------------------------------------------------------------------------------------"
   ]
  },
  {
   "cell_type": "markdown",
   "id": "b1f2f152",
   "metadata": {},
   "source": [
    "Будет ли помесячная выручка от пользователей с подпиской по месяцам выше, чем выручка от пользователей без подписки?"
   ]
  },
  {
   "cell_type": "markdown",
   "id": "3ed90d7c",
   "metadata": {},
   "source": [
    "Для проверки данной гипотезы нужно обозначить нулевую и альтернативную гипотезу. Нулевая гипотеза: средняя помесячная выручка пользователей обоих категорий равны. Так как нам важно проверить приносят ли пользователи с подпиской выручку больше чем пользователи бесплатной подписки, мы будем использовать одностороннюю альтернативную гипотезу. Альтернативная гипотеза: помесячная выручка от пользователей с подпиской по месяцам выше, чем выручка от пользователей без подписки."
   ]
  },
  {
   "cell_type": "code",
   "execution_count": 70,
   "id": "e0afbaac",
   "metadata": {},
   "outputs": [],
   "source": [
    "revenue_ultra = data_aggregated.loc[data_aggregated.index.get_level_values('subscription_type') == 'ultra']\n",
    "revenue_free = data_aggregated.loc[data_aggregated.index.get_level_values('subscription_type') == 'free']"
   ]
  },
  {
   "cell_type": "code",
   "execution_count": 71,
   "id": "87d873a8",
   "metadata": {},
   "outputs": [
    {
     "name": "stdout",
     "output_type": "stream",
     "text": [
      "p value: 3.411057520740556e-30\n",
      "Отвергаем нулевую гипотезу\n"
     ]
    }
   ],
   "source": [
    "alpha = 0.05\n",
    "results = st.ttest_ind(revenue_ultra[\"Выручка\"], revenue_free[\"Выручка\"], alternative = \"greater\") \n",
    "\n",
    "print(\"p value:\", results.pvalue)\n",
    "\n",
    "if results.pvalue < alpha:\n",
    "    print('Отвергаем нулевую гипотезу')\n",
    "else:\n",
    "    print('Не отвергаем нулевую гипотезу')"
   ]
  },
  {
   "cell_type": "markdown",
   "id": "7122cbe1",
   "metadata": {},
   "source": [
    "Нулевая гипотеза была отвергнута в пользу альтернативной. Можно сделать вывод, что помесячная выручка от пользователей с подпиской по месяцам выше, чем выручка от пользователей без подписки."
   ]
  },
  {
   "cell_type": "markdown",
   "id": "847969dc",
   "metadata": {},
   "source": [
    "----------------------------------------------------------------------------------------------------------------------\n",
    "----------------------------------------------------------------------------------------------------------------------\n",
    "----------------------------------------------------------------------------------------------------------------------"
   ]
  },
  {
   "cell_type": "markdown",
   "id": "eaead667",
   "metadata": {},
   "source": [
    "Представьте такую ситуацию: техническая команда сервиса обновила сервера, с которыми взаимодействует мобильное приложение. Она надеется, что из-за этого количество обращений в техподдержку значимо снизилось. Некоторый файл содержит для каждого пользователя данные о количестве обращений до обновления и после него. Какой тест вам понадобился бы для проверки этой гипотезы?"
   ]
  },
  {
   "cell_type": "markdown",
   "id": "d9ccddb9",
   "metadata": {},
   "source": [
    "Мы имеем два набора данных, где один до обновления сервера, а другой после. В данном случае я бы использовал тест st.ttest_rel(), так как важно проверить гипотезу для зависимых выборок. "
   ]
  },
  {
   "cell_type": "markdown",
   "id": "292af835",
   "metadata": {},
   "source": [
    "----------------------------------------------------------------------------------------------------------------------\n",
    "----------------------------------------------------------------------------------------------------------------------\n",
    "----------------------------------------------------------------------------------------------------------------------"
   ]
  },
  {
   "cell_type": "markdown",
   "id": "ff9953ec",
   "metadata": {},
   "source": [
    "Мы имеем основания считать, что средняя продолжительность поездок пользователей подписки ultra больше чем у пользователей бесплатной. Они действительно выгоднее для компании. Также, результаты показали, что среднее расстояние пользователей не превышает 3130 метров. В среднем самокаты не превышают допустимый порог изнашиваемости. Наконец можно сделать вывод, что помесячная выручка от пользователей с подпиской по месяцам выше, чем выручка от пользователей без подписки. "
   ]
  },
  {
   "cell_type": "markdown",
   "id": "61213c5e",
   "metadata": {},
   "source": [
    "#### Шаг 7. Распределения"
   ]
  },
  {
   "cell_type": "markdown",
   "id": "a96688ae",
   "metadata": {},
   "source": [
    "В ходе предобработки данных в датафрейме users были устранены дубликаты. Пропуски отсутствовали. В датафрейме rides исправлен неправильный тип данных в столбце date и был добавлен новый столбец month, который хранит в себе данные о номере месяца из date. В датафреймах rides и subscriptions пропуски и дубликаты обнаружено не было.\n",
    "\n",
    "В результате исследовательского анализа данных были получены многочисленные выводы. Большинство пользователей обосновалось в Пятигорске, Екатеринбурге и Ростове-на-Дону. Меньше всего пользователей находится в Москве. Возможно присутствует связь с наличием большого количества конкурентов в столице или развитой транспортной инфраструктуры. Пользователей подписки free на 19% больше чем ultra. Возможно пользователи не понимают выгоду от приобретения платной подписки или редко пользуются самокатом. Стоимость старта бесплатной подписки в 4 раза меньше чем абоненская плата. Пользователи могут не распологать информацией, что если они совершают как минимум 4 поездки в месяц, то они уже окупают платную подписку. Основной аудиторией являются люди в возрасте от 20 до 30 лет, их доля составляет 77%. Но больше всего самокатами пользуются 25 летние пользователи. Можно выделить 2 разных типа дистанции, которым соответствуют собственные пики. На короткой дистанции до 1500 метров, большинство пользователей проезжают около 650 метров. На большой дистанции значения расположились около 3000 метров. Касательно продолжительности поездки, то доля поездок от 15 до 20 минут составляет 79% от всех поездок. Большинство пользователей заканчивают поездку за 17 минут.\n",
    "\n",
    "При проверке гипотех были получены следующие выводы: Мы имеем основания считать, что средняя продолжительность поездок пользователей подписки ultra больше чем у пользователей бесплатной. Они действительно выгоднее для компании. Также, результаты показали, что среднее расстояние пользователей не превышает 3130 метров. В среднем самокаты не превышают допустимый порог изнашиваемости. Наконец можно сделать вывод, что помесячная выручка от пользователей с подпиской по месяцам выше, чем выручка от пользователей без подписки. "
   ]
  }
 ],
 "metadata": {
  "ExecuteTimeLog": [
   {
    "duration": 1284,
    "start_time": "2024-08-13T14:22:16.009Z"
   },
   {
    "duration": 3,
    "start_time": "2024-08-13T14:22:17.764Z"
   },
   {
    "duration": 368,
    "start_time": "2024-08-13T14:23:47.651Z"
   },
   {
    "duration": 107,
    "start_time": "2024-08-13T14:33:01.650Z"
   },
   {
    "duration": 11,
    "start_time": "2024-08-13T14:33:16.196Z"
   },
   {
    "duration": 9,
    "start_time": "2024-08-13T14:33:19.739Z"
   },
   {
    "duration": 11,
    "start_time": "2024-08-13T14:33:51.292Z"
   },
   {
    "duration": 12,
    "start_time": "2024-08-13T14:34:17.214Z"
   },
   {
    "duration": 268,
    "start_time": "2024-08-13T14:36:36.665Z"
   },
   {
    "duration": 402,
    "start_time": "2024-08-13T14:36:52.125Z"
   },
   {
    "duration": 355,
    "start_time": "2024-08-13T14:36:57.299Z"
   },
   {
    "duration": 337,
    "start_time": "2024-08-13T14:37:04.277Z"
   },
   {
    "duration": 293,
    "start_time": "2024-08-13T14:37:07.819Z"
   },
   {
    "duration": 3,
    "start_time": "2024-08-13T14:38:11.260Z"
   },
   {
    "duration": 4,
    "start_time": "2024-08-13T14:38:19.734Z"
   },
   {
    "duration": 274,
    "start_time": "2024-08-13T14:38:42.164Z"
   },
   {
    "duration": 396,
    "start_time": "2024-08-13T14:38:45.633Z"
   },
   {
    "duration": 29,
    "start_time": "2024-08-13T14:43:22.595Z"
   },
   {
    "duration": 11,
    "start_time": "2024-08-13T14:43:47.638Z"
   },
   {
    "duration": 414,
    "start_time": "2024-08-13T14:43:47.651Z"
   },
   {
    "duration": 13,
    "start_time": "2024-08-13T14:48:09.239Z"
   },
   {
    "duration": 69,
    "start_time": "2024-08-13T14:48:14.396Z"
   },
   {
    "duration": 7,
    "start_time": "2024-08-13T14:48:20.031Z"
   },
   {
    "duration": 10,
    "start_time": "2024-08-13T14:48:21.711Z"
   },
   {
    "duration": 387,
    "start_time": "2024-08-13T14:48:23.669Z"
   },
   {
    "duration": 1106,
    "start_time": "2024-08-13T15:14:03.344Z"
   },
   {
    "duration": 136,
    "start_time": "2024-08-13T15:14:04.452Z"
   },
   {
    "duration": 15,
    "start_time": "2024-08-13T15:14:04.590Z"
   },
   {
    "duration": 18,
    "start_time": "2024-08-13T15:14:04.607Z"
   },
   {
    "duration": 323,
    "start_time": "2024-08-13T15:14:04.627Z"
   },
   {
    "duration": 3,
    "start_time": "2024-08-13T15:14:04.952Z"
   },
   {
    "duration": 35,
    "start_time": "2024-08-13T15:14:04.957Z"
   },
   {
    "duration": 66,
    "start_time": "2024-08-13T15:14:04.993Z"
   },
   {
    "duration": 414,
    "start_time": "2024-08-13T15:14:05.060Z"
   },
   {
    "duration": 8,
    "start_time": "2024-08-13T15:14:05.476Z"
   },
   {
    "duration": 37,
    "start_time": "2024-08-13T15:14:05.486Z"
   },
   {
    "duration": 38,
    "start_time": "2024-08-13T15:14:05.525Z"
   },
   {
    "duration": 33,
    "start_time": "2024-08-13T15:14:05.565Z"
   },
   {
    "duration": 6,
    "start_time": "2024-08-13T15:15:05.847Z"
   },
   {
    "duration": 7,
    "start_time": "2024-08-13T15:15:27.941Z"
   },
   {
    "duration": 5,
    "start_time": "2024-08-13T15:15:34.459Z"
   },
   {
    "duration": 121,
    "start_time": "2024-08-13T15:15:59.085Z"
   },
   {
    "duration": 7,
    "start_time": "2024-08-13T15:18:33.599Z"
   },
   {
    "duration": 7,
    "start_time": "2024-08-13T15:19:13.132Z"
   },
   {
    "duration": 6,
    "start_time": "2024-08-13T15:19:16.813Z"
   },
   {
    "duration": 4,
    "start_time": "2024-08-13T15:19:55.127Z"
   },
   {
    "duration": 3,
    "start_time": "2024-08-13T15:19:58.171Z"
   },
   {
    "duration": 1163,
    "start_time": "2024-08-13T15:21:57.343Z"
   },
   {
    "duration": 5,
    "start_time": "2024-08-13T15:22:48.272Z"
   },
   {
    "duration": 4,
    "start_time": "2024-08-13T15:22:54.489Z"
   },
   {
    "duration": 7,
    "start_time": "2024-08-13T15:22:57.467Z"
   },
   {
    "duration": 14,
    "start_time": "2024-08-13T15:23:03.898Z"
   },
   {
    "duration": 4,
    "start_time": "2024-08-13T15:23:05.240Z"
   },
   {
    "duration": 4,
    "start_time": "2024-08-13T15:23:05.762Z"
   },
   {
    "duration": 5,
    "start_time": "2024-08-13T15:23:07.204Z"
   },
   {
    "duration": 4,
    "start_time": "2024-08-13T15:23:22.404Z"
   },
   {
    "duration": 7,
    "start_time": "2024-08-13T15:23:34.551Z"
   },
   {
    "duration": 14,
    "start_time": "2024-08-13T15:23:37.561Z"
   },
   {
    "duration": 5,
    "start_time": "2024-08-13T15:23:45.566Z"
   },
   {
    "duration": 4,
    "start_time": "2024-08-13T15:23:48.195Z"
   },
   {
    "duration": 8,
    "start_time": "2024-08-13T15:24:15.790Z"
   },
   {
    "duration": 8,
    "start_time": "2024-08-13T15:24:20.843Z"
   },
   {
    "duration": 7,
    "start_time": "2024-08-13T15:24:26.593Z"
   },
   {
    "duration": 8,
    "start_time": "2024-08-13T15:25:55.009Z"
   },
   {
    "duration": 6,
    "start_time": "2024-08-13T15:27:17.036Z"
   },
   {
    "duration": 4,
    "start_time": "2024-08-13T15:27:51.533Z"
   },
   {
    "duration": 4,
    "start_time": "2024-08-13T15:27:53.057Z"
   },
   {
    "duration": 1149,
    "start_time": "2024-08-13T15:31:40.930Z"
   },
   {
    "duration": 125,
    "start_time": "2024-08-13T15:31:42.081Z"
   },
   {
    "duration": 12,
    "start_time": "2024-08-13T15:31:42.207Z"
   },
   {
    "duration": 23,
    "start_time": "2024-08-13T15:31:42.221Z"
   },
   {
    "duration": 308,
    "start_time": "2024-08-13T15:31:42.246Z"
   },
   {
    "duration": 4,
    "start_time": "2024-08-13T15:31:42.556Z"
   },
   {
    "duration": 63,
    "start_time": "2024-08-13T15:31:42.562Z"
   },
   {
    "duration": 62,
    "start_time": "2024-08-13T15:31:42.627Z"
   },
   {
    "duration": 412,
    "start_time": "2024-08-13T15:31:42.691Z"
   },
   {
    "duration": 8,
    "start_time": "2024-08-13T15:31:43.105Z"
   },
   {
    "duration": 38,
    "start_time": "2024-08-13T15:31:43.115Z"
   },
   {
    "duration": 7,
    "start_time": "2024-08-13T15:31:43.155Z"
   },
   {
    "duration": 35,
    "start_time": "2024-08-13T15:31:43.164Z"
   },
   {
    "duration": 22,
    "start_time": "2024-08-13T15:31:43.202Z"
   },
   {
    "duration": 31,
    "start_time": "2024-08-13T15:31:43.226Z"
   },
   {
    "duration": 46,
    "start_time": "2024-08-13T15:31:43.258Z"
   },
   {
    "duration": 34,
    "start_time": "2024-08-13T15:31:43.305Z"
   },
   {
    "duration": 28,
    "start_time": "2024-08-13T15:31:43.341Z"
   },
   {
    "duration": 27,
    "start_time": "2024-08-13T15:31:43.370Z"
   },
   {
    "duration": 38,
    "start_time": "2024-08-13T15:31:43.399Z"
   },
   {
    "duration": 48,
    "start_time": "2024-08-13T15:31:43.440Z"
   },
   {
    "duration": 22450,
    "start_time": "2024-08-13T15:40:03.290Z"
   },
   {
    "duration": 100,
    "start_time": "2024-08-13T15:41:47.481Z"
   },
   {
    "duration": 16,
    "start_time": "2024-08-13T15:43:51.329Z"
   },
   {
    "duration": 223,
    "start_time": "2024-08-13T15:43:58.793Z"
   },
   {
    "duration": 13,
    "start_time": "2024-08-13T15:44:12.857Z"
   },
   {
    "duration": 206,
    "start_time": "2024-08-13T15:45:55.010Z"
   },
   {
    "duration": 183,
    "start_time": "2024-08-13T15:46:15.644Z"
   },
   {
    "duration": 416,
    "start_time": "2024-08-13T15:46:22.573Z"
   },
   {
    "duration": 281,
    "start_time": "2024-08-13T15:46:29.700Z"
   },
   {
    "duration": 229,
    "start_time": "2024-08-13T15:46:34.283Z"
   },
   {
    "duration": 199,
    "start_time": "2024-08-13T15:46:38.983Z"
   },
   {
    "duration": 183,
    "start_time": "2024-08-13T15:46:43.422Z"
   },
   {
    "duration": 195,
    "start_time": "2024-08-13T15:46:49.927Z"
   },
   {
    "duration": 185,
    "start_time": "2024-08-13T15:46:52.942Z"
   },
   {
    "duration": 213,
    "start_time": "2024-08-13T15:46:59.143Z"
   },
   {
    "duration": 6,
    "start_time": "2024-08-13T15:47:14.052Z"
   },
   {
    "duration": 12,
    "start_time": "2024-08-13T15:47:45.515Z"
   },
   {
    "duration": 5,
    "start_time": "2024-08-13T15:47:55.977Z"
   },
   {
    "duration": 202,
    "start_time": "2024-08-13T15:49:22.725Z"
   },
   {
    "duration": 228,
    "start_time": "2024-08-13T15:53:30.333Z"
   },
   {
    "duration": 179,
    "start_time": "2024-08-13T15:53:42.058Z"
   },
   {
    "duration": 165,
    "start_time": "2024-08-13T15:54:40.964Z"
   },
   {
    "duration": 150,
    "start_time": "2024-08-13T15:54:45.074Z"
   },
   {
    "duration": 5,
    "start_time": "2024-08-13T15:55:12.964Z"
   },
   {
    "duration": 295,
    "start_time": "2024-08-13T15:57:44.453Z"
   },
   {
    "duration": 176,
    "start_time": "2024-08-13T15:59:21.521Z"
   },
   {
    "duration": 169,
    "start_time": "2024-08-13T15:59:32.641Z"
   },
   {
    "duration": 163,
    "start_time": "2024-08-13T16:00:04.495Z"
   },
   {
    "duration": 199,
    "start_time": "2024-08-13T16:00:16.923Z"
   },
   {
    "duration": 44,
    "start_time": "2024-08-13T17:24:28.614Z"
   },
   {
    "duration": 1083,
    "start_time": "2024-08-13T17:24:32.957Z"
   },
   {
    "duration": 367,
    "start_time": "2024-08-13T17:24:34.042Z"
   },
   {
    "duration": 15,
    "start_time": "2024-08-13T17:24:34.410Z"
   },
   {
    "duration": 14,
    "start_time": "2024-08-13T17:24:34.427Z"
   },
   {
    "duration": 254,
    "start_time": "2024-08-13T17:24:34.442Z"
   },
   {
    "duration": 6,
    "start_time": "2024-08-13T17:24:34.697Z"
   },
   {
    "duration": 20,
    "start_time": "2024-08-13T17:24:34.705Z"
   },
   {
    "duration": 30,
    "start_time": "2024-08-13T17:24:34.726Z"
   },
   {
    "duration": 310,
    "start_time": "2024-08-13T17:24:34.757Z"
   },
   {
    "duration": 7,
    "start_time": "2024-08-13T17:24:35.068Z"
   },
   {
    "duration": 18,
    "start_time": "2024-08-13T17:24:35.076Z"
   },
   {
    "duration": 13,
    "start_time": "2024-08-13T17:24:35.095Z"
   },
   {
    "duration": 24,
    "start_time": "2024-08-13T17:24:35.109Z"
   },
   {
    "duration": 20,
    "start_time": "2024-08-13T17:24:35.135Z"
   },
   {
    "duration": 20,
    "start_time": "2024-08-13T17:24:35.156Z"
   },
   {
    "duration": 15,
    "start_time": "2024-08-13T17:24:35.177Z"
   },
   {
    "duration": 14,
    "start_time": "2024-08-13T17:24:35.193Z"
   },
   {
    "duration": 9,
    "start_time": "2024-08-13T17:24:35.209Z"
   },
   {
    "duration": 18,
    "start_time": "2024-08-13T17:24:35.219Z"
   },
   {
    "duration": 166,
    "start_time": "2024-08-13T17:24:35.239Z"
   },
   {
    "duration": 20,
    "start_time": "2024-08-13T17:24:35.406Z"
   },
   {
    "duration": 200,
    "start_time": "2024-08-13T17:24:35.427Z"
   },
   {
    "duration": 4,
    "start_time": "2024-08-13T17:24:35.629Z"
   },
   {
    "duration": 136,
    "start_time": "2024-08-13T17:24:35.635Z"
   },
   {
    "duration": 4,
    "start_time": "2024-08-13T17:24:35.773Z"
   },
   {
    "duration": 160,
    "start_time": "2024-08-13T17:24:35.778Z"
   },
   {
    "duration": 168,
    "start_time": "2024-08-13T17:24:39.001Z"
   },
   {
    "duration": 153,
    "start_time": "2024-08-13T17:24:44.170Z"
   },
   {
    "duration": 144,
    "start_time": "2024-08-13T17:24:55.037Z"
   },
   {
    "duration": 165,
    "start_time": "2024-08-13T17:24:58.251Z"
   },
   {
    "duration": 207,
    "start_time": "2024-08-13T17:25:08.059Z"
   },
   {
    "duration": 7,
    "start_time": "2024-08-13T17:25:27.444Z"
   },
   {
    "duration": 4,
    "start_time": "2024-08-13T17:25:39.888Z"
   },
   {
    "duration": 8,
    "start_time": "2024-08-13T17:28:24.779Z"
   },
   {
    "duration": 90,
    "start_time": "2024-08-13T17:28:38.240Z"
   },
   {
    "duration": 7,
    "start_time": "2024-08-13T17:28:46.615Z"
   },
   {
    "duration": 8,
    "start_time": "2024-08-13T17:29:22.151Z"
   },
   {
    "duration": 7,
    "start_time": "2024-08-13T17:29:32.963Z"
   },
   {
    "duration": 7,
    "start_time": "2024-08-13T17:29:37.378Z"
   },
   {
    "duration": 7,
    "start_time": "2024-08-13T17:29:39.520Z"
   },
   {
    "duration": 7,
    "start_time": "2024-08-13T17:29:42.903Z"
   },
   {
    "duration": 9,
    "start_time": "2024-08-13T17:29:45.148Z"
   },
   {
    "duration": 6,
    "start_time": "2024-08-13T17:30:31.967Z"
   },
   {
    "duration": 7,
    "start_time": "2024-08-13T17:30:39.775Z"
   },
   {
    "duration": 7,
    "start_time": "2024-08-13T17:30:50.359Z"
   },
   {
    "duration": 183,
    "start_time": "2024-08-13T17:31:39.120Z"
   },
   {
    "duration": 187,
    "start_time": "2024-08-13T17:32:01.393Z"
   },
   {
    "duration": 113,
    "start_time": "2024-08-13T17:32:09.472Z"
   },
   {
    "duration": 156,
    "start_time": "2024-08-13T17:32:21.752Z"
   },
   {
    "duration": 142,
    "start_time": "2024-08-13T17:32:25.683Z"
   },
   {
    "duration": 148,
    "start_time": "2024-08-13T17:32:31.477Z"
   },
   {
    "duration": 147,
    "start_time": "2024-08-13T17:32:34.030Z"
   },
   {
    "duration": 134,
    "start_time": "2024-08-13T17:32:36.821Z"
   },
   {
    "duration": 150,
    "start_time": "2024-08-13T17:32:40.957Z"
   },
   {
    "duration": 199,
    "start_time": "2024-08-13T17:32:54.832Z"
   },
   {
    "duration": 154,
    "start_time": "2024-08-13T17:32:56.963Z"
   },
   {
    "duration": 150,
    "start_time": "2024-08-13T17:32:58.848Z"
   },
   {
    "duration": 146,
    "start_time": "2024-08-13T17:33:01.667Z"
   },
   {
    "duration": 142,
    "start_time": "2024-08-13T17:33:07.751Z"
   },
   {
    "duration": 85,
    "start_time": "2024-08-13T17:34:03.955Z"
   },
   {
    "duration": 79,
    "start_time": "2024-08-13T17:34:11.384Z"
   },
   {
    "duration": 84,
    "start_time": "2024-08-13T17:34:14.085Z"
   },
   {
    "duration": 88,
    "start_time": "2024-08-13T17:34:18.207Z"
   },
   {
    "duration": 80,
    "start_time": "2024-08-13T17:34:20.589Z"
   },
   {
    "duration": 77,
    "start_time": "2024-08-13T17:35:15.080Z"
   },
   {
    "duration": 76,
    "start_time": "2024-08-13T17:35:18.801Z"
   },
   {
    "duration": 99,
    "start_time": "2024-08-13T17:35:22.704Z"
   },
   {
    "duration": 159,
    "start_time": "2024-08-13T17:35:26.833Z"
   },
   {
    "duration": 76,
    "start_time": "2024-08-13T17:35:31.364Z"
   },
   {
    "duration": 76,
    "start_time": "2024-08-13T17:35:33.568Z"
   },
   {
    "duration": 79,
    "start_time": "2024-08-13T17:35:38.144Z"
   },
   {
    "duration": 123,
    "start_time": "2024-08-13T17:35:46.881Z"
   },
   {
    "duration": 2,
    "start_time": "2024-08-13T17:36:15.958Z"
   },
   {
    "duration": 71,
    "start_time": "2024-08-13T17:36:15.961Z"
   },
   {
    "duration": 7,
    "start_time": "2024-08-13T17:36:16.033Z"
   },
   {
    "duration": 15,
    "start_time": "2024-08-13T17:36:16.041Z"
   },
   {
    "duration": 231,
    "start_time": "2024-08-13T17:36:16.057Z"
   },
   {
    "duration": 4,
    "start_time": "2024-08-13T17:36:16.290Z"
   },
   {
    "duration": 43,
    "start_time": "2024-08-13T17:36:16.295Z"
   },
   {
    "duration": 28,
    "start_time": "2024-08-13T17:36:16.340Z"
   },
   {
    "duration": 369,
    "start_time": "2024-08-13T17:36:16.369Z"
   },
   {
    "duration": 6,
    "start_time": "2024-08-13T17:36:16.739Z"
   },
   {
    "duration": 48,
    "start_time": "2024-08-13T17:36:16.746Z"
   },
   {
    "duration": 11,
    "start_time": "2024-08-13T17:36:16.796Z"
   },
   {
    "duration": 6,
    "start_time": "2024-08-13T17:36:16.808Z"
   },
   {
    "duration": 12,
    "start_time": "2024-08-13T17:36:16.815Z"
   },
   {
    "duration": 6,
    "start_time": "2024-08-13T17:36:16.829Z"
   },
   {
    "duration": 17,
    "start_time": "2024-08-13T17:36:16.836Z"
   },
   {
    "duration": 12,
    "start_time": "2024-08-13T17:36:16.855Z"
   },
   {
    "duration": 23,
    "start_time": "2024-08-13T17:36:16.868Z"
   },
   {
    "duration": 5,
    "start_time": "2024-08-13T17:36:16.892Z"
   },
   {
    "duration": 17,
    "start_time": "2024-08-13T17:36:16.898Z"
   },
   {
    "duration": 34,
    "start_time": "2024-08-13T17:36:16.916Z"
   },
   {
    "duration": 188,
    "start_time": "2024-08-13T17:36:16.951Z"
   },
   {
    "duration": 4,
    "start_time": "2024-08-13T17:36:17.141Z"
   },
   {
    "duration": 146,
    "start_time": "2024-08-13T17:36:17.146Z"
   },
   {
    "duration": 5,
    "start_time": "2024-08-13T17:36:17.301Z"
   },
   {
    "duration": 164,
    "start_time": "2024-08-13T17:36:17.308Z"
   },
   {
    "duration": 6,
    "start_time": "2024-08-13T17:36:17.473Z"
   },
   {
    "duration": 10,
    "start_time": "2024-08-13T17:36:17.480Z"
   },
   {
    "duration": 82,
    "start_time": "2024-08-13T17:36:17.491Z"
   },
   {
    "duration": 150,
    "start_time": "2024-08-13T17:36:17.575Z"
   },
   {
    "duration": 146,
    "start_time": "2024-08-13T17:36:24.286Z"
   },
   {
    "duration": 140,
    "start_time": "2024-08-13T17:36:28.994Z"
   },
   {
    "duration": 148,
    "start_time": "2024-08-13T17:36:48.640Z"
   },
   {
    "duration": 147,
    "start_time": "2024-08-13T17:36:53.170Z"
   },
   {
    "duration": 218,
    "start_time": "2024-08-13T17:37:52.615Z"
   },
   {
    "duration": 136,
    "start_time": "2024-08-13T17:37:56.120Z"
   },
   {
    "duration": 7,
    "start_time": "2024-08-13T17:39:14.024Z"
   },
   {
    "duration": 5,
    "start_time": "2024-08-13T17:39:15.718Z"
   },
   {
    "duration": 188,
    "start_time": "2024-08-13T17:40:53.127Z"
   },
   {
    "duration": 159,
    "start_time": "2024-08-13T17:40:59.469Z"
   },
   {
    "duration": 180,
    "start_time": "2024-08-13T17:41:02.048Z"
   },
   {
    "duration": 86,
    "start_time": "2024-08-13T17:45:57.000Z"
   },
   {
    "duration": 90,
    "start_time": "2024-08-13T17:46:04.369Z"
   },
   {
    "duration": 89,
    "start_time": "2024-08-13T17:46:08.316Z"
   },
   {
    "duration": 85,
    "start_time": "2024-08-13T17:46:31.774Z"
   },
   {
    "duration": 86,
    "start_time": "2024-08-13T17:46:34.115Z"
   },
   {
    "duration": 86,
    "start_time": "2024-08-13T17:46:37.376Z"
   },
   {
    "duration": 95,
    "start_time": "2024-08-13T17:46:40.906Z"
   },
   {
    "duration": 97,
    "start_time": "2024-08-13T17:46:42.720Z"
   },
   {
    "duration": 89,
    "start_time": "2024-08-13T17:46:46.691Z"
   },
   {
    "duration": 175,
    "start_time": "2024-08-13T17:46:50.178Z"
   },
   {
    "duration": 104,
    "start_time": "2024-08-13T17:46:52.619Z"
   },
   {
    "duration": 105,
    "start_time": "2024-08-13T17:46:54.630Z"
   },
   {
    "duration": 89,
    "start_time": "2024-08-13T17:46:56.900Z"
   },
   {
    "duration": 87,
    "start_time": "2024-08-13T17:46:59.560Z"
   },
   {
    "duration": 123,
    "start_time": "2024-08-13T17:47:02.693Z"
   },
   {
    "duration": 85,
    "start_time": "2024-08-13T17:47:35.940Z"
   },
   {
    "duration": 88,
    "start_time": "2024-08-13T17:47:38.589Z"
   },
   {
    "duration": 103,
    "start_time": "2024-08-13T17:47:40.723Z"
   },
   {
    "duration": 92,
    "start_time": "2024-08-13T17:47:43.953Z"
   },
   {
    "duration": 88,
    "start_time": "2024-08-13T17:47:47.310Z"
   },
   {
    "duration": 86,
    "start_time": "2024-08-13T17:47:49.302Z"
   },
   {
    "duration": 87,
    "start_time": "2024-08-13T17:47:51.139Z"
   },
   {
    "duration": 92,
    "start_time": "2024-08-13T17:48:00.239Z"
   },
   {
    "duration": 9,
    "start_time": "2024-08-13T17:48:19.986Z"
   },
   {
    "duration": 8,
    "start_time": "2024-08-13T17:48:43.124Z"
   },
   {
    "duration": 4,
    "start_time": "2024-08-13T17:49:00.688Z"
   },
   {
    "duration": 5,
    "start_time": "2024-08-13T17:49:07.930Z"
   },
   {
    "duration": 6,
    "start_time": "2024-08-13T17:49:18.766Z"
   },
   {
    "duration": 3,
    "start_time": "2024-08-13T17:49:27.342Z"
   },
   {
    "duration": 7,
    "start_time": "2024-08-13T17:49:39.877Z"
   },
   {
    "duration": 9,
    "start_time": "2024-08-13T17:50:29.321Z"
   },
   {
    "duration": 7,
    "start_time": "2024-08-13T17:51:17.674Z"
   },
   {
    "duration": 8,
    "start_time": "2024-08-13T17:51:20.114Z"
   },
   {
    "duration": 8,
    "start_time": "2024-08-13T17:51:22.264Z"
   },
   {
    "duration": 9,
    "start_time": "2024-08-13T17:51:24.050Z"
   },
   {
    "duration": 240,
    "start_time": "2024-08-13T17:51:37.038Z"
   },
   {
    "duration": 7,
    "start_time": "2024-08-13T17:51:59.303Z"
   },
   {
    "duration": 8,
    "start_time": "2024-08-13T17:52:40.636Z"
   },
   {
    "duration": 213,
    "start_time": "2024-08-13T17:53:43.652Z"
   },
   {
    "duration": 7,
    "start_time": "2024-08-13T17:54:04.365Z"
   },
   {
    "duration": 1264,
    "start_time": "2024-08-14T10:19:48.610Z"
   },
   {
    "duration": 421,
    "start_time": "2024-08-14T10:19:49.876Z"
   },
   {
    "duration": 12,
    "start_time": "2024-08-14T10:19:50.298Z"
   },
   {
    "duration": 12,
    "start_time": "2024-08-14T10:19:50.312Z"
   },
   {
    "duration": 299,
    "start_time": "2024-08-14T10:19:50.325Z"
   },
   {
    "duration": 4,
    "start_time": "2024-08-14T10:19:50.625Z"
   },
   {
    "duration": 85,
    "start_time": "2024-08-14T10:19:50.630Z"
   },
   {
    "duration": 11,
    "start_time": "2024-08-14T10:19:50.717Z"
   },
   {
    "duration": 390,
    "start_time": "2024-08-14T10:19:50.730Z"
   },
   {
    "duration": 7,
    "start_time": "2024-08-14T10:19:51.126Z"
   },
   {
    "duration": 17,
    "start_time": "2024-08-14T10:19:51.135Z"
   },
   {
    "duration": 23,
    "start_time": "2024-08-14T10:19:51.153Z"
   },
   {
    "duration": 6,
    "start_time": "2024-08-14T10:19:51.178Z"
   },
   {
    "duration": 11,
    "start_time": "2024-08-14T10:19:51.186Z"
   },
   {
    "duration": 34,
    "start_time": "2024-08-14T10:19:51.198Z"
   },
   {
    "duration": 52,
    "start_time": "2024-08-14T10:19:51.234Z"
   },
   {
    "duration": 7,
    "start_time": "2024-08-14T10:19:51.288Z"
   },
   {
    "duration": 17,
    "start_time": "2024-08-14T10:19:51.297Z"
   },
   {
    "duration": 19,
    "start_time": "2024-08-14T10:19:51.316Z"
   },
   {
    "duration": 16,
    "start_time": "2024-08-14T10:19:51.337Z"
   },
   {
    "duration": 25,
    "start_time": "2024-08-14T10:19:51.354Z"
   },
   {
    "duration": 232,
    "start_time": "2024-08-14T10:19:51.381Z"
   },
   {
    "duration": 11,
    "start_time": "2024-08-14T10:19:51.614Z"
   },
   {
    "duration": 157,
    "start_time": "2024-08-14T10:19:51.626Z"
   },
   {
    "duration": 5,
    "start_time": "2024-08-14T10:19:51.784Z"
   },
   {
    "duration": 183,
    "start_time": "2024-08-14T10:19:51.791Z"
   },
   {
    "duration": 106,
    "start_time": "2024-08-14T10:19:51.976Z"
   },
   {
    "duration": 104,
    "start_time": "2024-08-14T10:19:52.085Z"
   },
   {
    "duration": 0,
    "start_time": "2024-08-14T10:19:52.191Z"
   },
   {
    "duration": 0,
    "start_time": "2024-08-14T10:19:52.192Z"
   },
   {
    "duration": 0,
    "start_time": "2024-08-14T10:19:52.194Z"
   },
   {
    "duration": 0,
    "start_time": "2024-08-14T10:19:52.195Z"
   },
   {
    "duration": 0,
    "start_time": "2024-08-14T10:19:52.196Z"
   },
   {
    "duration": 0,
    "start_time": "2024-08-14T10:19:52.198Z"
   },
   {
    "duration": 1060,
    "start_time": "2024-08-14T10:19:59.225Z"
   },
   {
    "duration": 136,
    "start_time": "2024-08-14T10:20:00.287Z"
   },
   {
    "duration": 12,
    "start_time": "2024-08-14T10:20:00.425Z"
   },
   {
    "duration": 31,
    "start_time": "2024-08-14T10:20:00.438Z"
   },
   {
    "duration": 340,
    "start_time": "2024-08-14T10:20:00.471Z"
   },
   {
    "duration": 4,
    "start_time": "2024-08-14T10:20:00.813Z"
   },
   {
    "duration": 43,
    "start_time": "2024-08-14T10:20:00.818Z"
   },
   {
    "duration": 77,
    "start_time": "2024-08-14T10:20:00.863Z"
   },
   {
    "duration": 420,
    "start_time": "2024-08-14T10:20:00.942Z"
   },
   {
    "duration": 6,
    "start_time": "2024-08-14T10:20:01.364Z"
   },
   {
    "duration": 131,
    "start_time": "2024-08-14T10:20:01.372Z"
   },
   {
    "duration": 40,
    "start_time": "2024-08-14T10:20:01.505Z"
   },
   {
    "duration": 68,
    "start_time": "2024-08-14T10:20:01.546Z"
   },
   {
    "duration": 59,
    "start_time": "2024-08-14T10:20:01.616Z"
   },
   {
    "duration": 26,
    "start_time": "2024-08-14T10:20:01.676Z"
   },
   {
    "duration": 19,
    "start_time": "2024-08-14T10:20:01.704Z"
   },
   {
    "duration": 19,
    "start_time": "2024-08-14T10:20:01.724Z"
   },
   {
    "duration": 27,
    "start_time": "2024-08-14T10:20:01.745Z"
   },
   {
    "duration": 30,
    "start_time": "2024-08-14T10:20:01.774Z"
   },
   {
    "duration": 9,
    "start_time": "2024-08-14T10:20:01.806Z"
   },
   {
    "duration": 34,
    "start_time": "2024-08-14T10:20:01.816Z"
   },
   {
    "duration": 243,
    "start_time": "2024-08-14T10:20:01.851Z"
   },
   {
    "duration": 5,
    "start_time": "2024-08-14T10:20:02.096Z"
   },
   {
    "duration": 154,
    "start_time": "2024-08-14T10:20:02.102Z"
   },
   {
    "duration": 5,
    "start_time": "2024-08-14T10:20:02.257Z"
   },
   {
    "duration": 199,
    "start_time": "2024-08-14T10:20:02.264Z"
   },
   {
    "duration": 108,
    "start_time": "2024-08-14T10:20:02.465Z"
   },
   {
    "duration": 97,
    "start_time": "2024-08-14T10:20:02.574Z"
   },
   {
    "duration": 0,
    "start_time": "2024-08-14T10:20:02.673Z"
   },
   {
    "duration": 0,
    "start_time": "2024-08-14T10:20:02.674Z"
   },
   {
    "duration": 0,
    "start_time": "2024-08-14T10:20:02.675Z"
   },
   {
    "duration": 0,
    "start_time": "2024-08-14T10:20:02.676Z"
   },
   {
    "duration": 0,
    "start_time": "2024-08-14T10:20:02.677Z"
   },
   {
    "duration": 0,
    "start_time": "2024-08-14T10:20:02.678Z"
   },
   {
    "duration": 7,
    "start_time": "2024-08-14T10:20:32.746Z"
   },
   {
    "duration": 4,
    "start_time": "2024-08-14T10:20:34.693Z"
   },
   {
    "duration": 9,
    "start_time": "2024-08-14T10:20:53.752Z"
   },
   {
    "duration": 173,
    "start_time": "2024-08-14T10:20:57.865Z"
   },
   {
    "duration": 9,
    "start_time": "2024-08-14T10:21:01.289Z"
   },
   {
    "duration": 4,
    "start_time": "2024-08-14T10:21:03.468Z"
   },
   {
    "duration": 278,
    "start_time": "2024-08-14T10:21:06.265Z"
   },
   {
    "duration": 181,
    "start_time": "2024-08-14T10:21:09.268Z"
   },
   {
    "duration": 262,
    "start_time": "2024-08-14T10:21:12.502Z"
   },
   {
    "duration": 9,
    "start_time": "2024-08-14T10:21:15.356Z"
   },
   {
    "duration": 260,
    "start_time": "2024-08-14T10:22:21.817Z"
   },
   {
    "duration": 263,
    "start_time": "2024-08-14T10:22:41.141Z"
   },
   {
    "duration": 264,
    "start_time": "2024-08-14T10:23:52.146Z"
   },
   {
    "duration": 259,
    "start_time": "2024-08-14T10:23:56.417Z"
   },
   {
    "duration": 9,
    "start_time": "2024-08-14T10:24:18.403Z"
   },
   {
    "duration": 294,
    "start_time": "2024-08-14T10:24:35.841Z"
   },
   {
    "duration": 170,
    "start_time": "2024-08-14T10:24:40.766Z"
   },
   {
    "duration": 365,
    "start_time": "2024-08-14T10:24:45.070Z"
   },
   {
    "duration": 250,
    "start_time": "2024-08-14T10:24:50.077Z"
   },
   {
    "duration": 257,
    "start_time": "2024-08-14T10:24:52.870Z"
   },
   {
    "duration": 228,
    "start_time": "2024-08-14T10:24:56.918Z"
   },
   {
    "duration": 371,
    "start_time": "2024-08-14T10:25:01.342Z"
   },
   {
    "duration": 111,
    "start_time": "2024-08-14T10:27:58.242Z"
   },
   {
    "duration": 121,
    "start_time": "2024-08-14T10:28:06.005Z"
   },
   {
    "duration": 113,
    "start_time": "2024-08-14T10:28:24.445Z"
   },
   {
    "duration": 112,
    "start_time": "2024-08-14T10:28:27.044Z"
   },
   {
    "duration": 101,
    "start_time": "2024-08-14T10:28:49.739Z"
   },
   {
    "duration": 100,
    "start_time": "2024-08-14T10:28:52.207Z"
   },
   {
    "duration": 100,
    "start_time": "2024-08-14T10:29:05.639Z"
   },
   {
    "duration": 115,
    "start_time": "2024-08-14T10:29:51.163Z"
   },
   {
    "duration": 10,
    "start_time": "2024-08-14T10:30:48.080Z"
   },
   {
    "duration": 9,
    "start_time": "2024-08-14T10:31:19.348Z"
   },
   {
    "duration": 9,
    "start_time": "2024-08-14T10:32:43.492Z"
   },
   {
    "duration": 9,
    "start_time": "2024-08-14T10:33:00.937Z"
   },
   {
    "duration": 269,
    "start_time": "2024-08-14T10:34:17.074Z"
   },
   {
    "duration": 382,
    "start_time": "2024-08-14T10:34:26.764Z"
   },
   {
    "duration": 8,
    "start_time": "2024-08-14T10:35:08.709Z"
   },
   {
    "duration": 57,
    "start_time": "2024-08-14T10:35:34.994Z"
   },
   {
    "duration": 10,
    "start_time": "2024-08-14T10:35:37.306Z"
   },
   {
    "duration": 8,
    "start_time": "2024-08-14T10:35:41.206Z"
   },
   {
    "duration": 8,
    "start_time": "2024-08-14T10:40:01.924Z"
   },
   {
    "duration": 9,
    "start_time": "2024-08-14T10:40:27.531Z"
   },
   {
    "duration": 8,
    "start_time": "2024-08-14T10:44:46.513Z"
   },
   {
    "duration": 21,
    "start_time": "2024-08-14T10:44:51.389Z"
   },
   {
    "duration": 270,
    "start_time": "2024-08-14T10:45:36.233Z"
   },
   {
    "duration": 21,
    "start_time": "2024-08-14T10:45:42.497Z"
   },
   {
    "duration": 10,
    "start_time": "2024-08-14T10:45:55.677Z"
   },
   {
    "duration": 11,
    "start_time": "2024-08-14T10:46:04.042Z"
   },
   {
    "duration": 11,
    "start_time": "2024-08-14T10:46:44.688Z"
   },
   {
    "duration": 12,
    "start_time": "2024-08-14T10:46:56.461Z"
   },
   {
    "duration": 299,
    "start_time": "2024-08-14T10:47:34.254Z"
   },
   {
    "duration": 1078,
    "start_time": "2024-08-14T10:47:44.141Z"
   },
   {
    "duration": 134,
    "start_time": "2024-08-14T10:47:45.221Z"
   },
   {
    "duration": 13,
    "start_time": "2024-08-14T10:47:45.356Z"
   },
   {
    "duration": 11,
    "start_time": "2024-08-14T10:47:45.371Z"
   },
   {
    "duration": 307,
    "start_time": "2024-08-14T10:47:45.383Z"
   },
   {
    "duration": 4,
    "start_time": "2024-08-14T10:47:45.691Z"
   },
   {
    "duration": 11,
    "start_time": "2024-08-14T10:47:45.697Z"
   },
   {
    "duration": 13,
    "start_time": "2024-08-14T10:47:45.723Z"
   },
   {
    "duration": 405,
    "start_time": "2024-08-14T10:47:45.738Z"
   },
   {
    "duration": 7,
    "start_time": "2024-08-14T10:47:46.145Z"
   },
   {
    "duration": 12,
    "start_time": "2024-08-14T10:47:46.154Z"
   },
   {
    "duration": 6,
    "start_time": "2024-08-14T10:47:46.168Z"
   },
   {
    "duration": 5,
    "start_time": "2024-08-14T10:47:46.176Z"
   },
   {
    "duration": 4,
    "start_time": "2024-08-14T10:47:46.186Z"
   },
   {
    "duration": 5,
    "start_time": "2024-08-14T10:47:46.225Z"
   },
   {
    "duration": 8,
    "start_time": "2024-08-14T10:47:46.231Z"
   },
   {
    "duration": 6,
    "start_time": "2024-08-14T10:47:46.241Z"
   },
   {
    "duration": 9,
    "start_time": "2024-08-14T10:47:46.249Z"
   },
   {
    "duration": 6,
    "start_time": "2024-08-14T10:47:46.260Z"
   },
   {
    "duration": 5,
    "start_time": "2024-08-14T10:47:46.268Z"
   },
   {
    "duration": 52,
    "start_time": "2024-08-14T10:47:46.275Z"
   },
   {
    "duration": 250,
    "start_time": "2024-08-14T10:47:46.329Z"
   },
   {
    "duration": 5,
    "start_time": "2024-08-14T10:47:46.581Z"
   },
   {
    "duration": 171,
    "start_time": "2024-08-14T10:47:46.588Z"
   },
   {
    "duration": 5,
    "start_time": "2024-08-14T10:47:46.760Z"
   },
   {
    "duration": 208,
    "start_time": "2024-08-14T10:47:46.767Z"
   },
   {
    "duration": 108,
    "start_time": "2024-08-14T10:47:46.977Z"
   },
   {
    "duration": 194,
    "start_time": "2024-08-14T10:47:47.087Z"
   },
   {
    "duration": 8,
    "start_time": "2024-08-14T10:47:47.282Z"
   },
   {
    "duration": 5,
    "start_time": "2024-08-14T10:47:47.291Z"
   },
   {
    "duration": 298,
    "start_time": "2024-08-14T10:47:47.298Z"
   },
   {
    "duration": 194,
    "start_time": "2024-08-14T10:47:47.598Z"
   },
   {
    "duration": 276,
    "start_time": "2024-08-14T10:47:47.793Z"
   },
   {
    "duration": 8,
    "start_time": "2024-08-14T10:47:48.071Z"
   },
   {
    "duration": 295,
    "start_time": "2024-08-14T10:47:48.081Z"
   },
   {
    "duration": 12,
    "start_time": "2024-08-14T10:47:48.378Z"
   },
   {
    "duration": 137,
    "start_time": "2024-08-14T10:47:48.391Z"
   },
   {
    "duration": 302,
    "start_time": "2024-08-14T10:47:48.529Z"
   },
   {
    "duration": 9,
    "start_time": "2024-08-14T10:47:48.832Z"
   },
   {
    "duration": 13,
    "start_time": "2024-08-14T10:47:48.843Z"
   },
   {
    "duration": 1037,
    "start_time": "2024-08-14T10:51:00.481Z"
   },
   {
    "duration": 134,
    "start_time": "2024-08-14T10:51:01.520Z"
   },
   {
    "duration": 11,
    "start_time": "2024-08-14T10:51:01.656Z"
   },
   {
    "duration": 48,
    "start_time": "2024-08-14T10:51:01.669Z"
   },
   {
    "duration": 377,
    "start_time": "2024-08-14T10:51:01.719Z"
   },
   {
    "duration": 4,
    "start_time": "2024-08-14T10:51:02.097Z"
   },
   {
    "duration": 46,
    "start_time": "2024-08-14T10:51:02.102Z"
   },
   {
    "duration": 27,
    "start_time": "2024-08-14T10:51:02.149Z"
   },
   {
    "duration": 398,
    "start_time": "2024-08-14T10:51:02.177Z"
   },
   {
    "duration": 6,
    "start_time": "2024-08-14T10:51:02.577Z"
   },
   {
    "duration": 24,
    "start_time": "2024-08-14T10:51:02.585Z"
   },
   {
    "duration": 6,
    "start_time": "2024-08-14T10:51:02.611Z"
   },
   {
    "duration": 14,
    "start_time": "2024-08-14T10:51:02.619Z"
   },
   {
    "duration": 8,
    "start_time": "2024-08-14T10:51:02.636Z"
   },
   {
    "duration": 73,
    "start_time": "2024-08-14T10:51:02.645Z"
   },
   {
    "duration": 68,
    "start_time": "2024-08-14T10:51:02.719Z"
   },
   {
    "duration": 15,
    "start_time": "2024-08-14T10:51:02.788Z"
   },
   {
    "duration": 34,
    "start_time": "2024-08-14T10:51:02.805Z"
   },
   {
    "duration": 14,
    "start_time": "2024-08-14T10:51:02.841Z"
   },
   {
    "duration": 28,
    "start_time": "2024-08-14T10:51:02.856Z"
   },
   {
    "duration": 11,
    "start_time": "2024-08-14T10:51:02.885Z"
   },
   {
    "duration": 210,
    "start_time": "2024-08-14T10:51:02.897Z"
   },
   {
    "duration": 5,
    "start_time": "2024-08-14T10:51:03.108Z"
   },
   {
    "duration": 185,
    "start_time": "2024-08-14T10:51:03.115Z"
   },
   {
    "duration": 5,
    "start_time": "2024-08-14T10:51:03.301Z"
   },
   {
    "duration": 200,
    "start_time": "2024-08-14T10:51:03.308Z"
   },
   {
    "duration": 103,
    "start_time": "2024-08-14T10:51:03.510Z"
   },
   {
    "duration": 181,
    "start_time": "2024-08-14T10:51:03.623Z"
   },
   {
    "duration": 8,
    "start_time": "2024-08-14T10:51:03.805Z"
   },
   {
    "duration": 12,
    "start_time": "2024-08-14T10:51:03.814Z"
   },
   {
    "duration": 297,
    "start_time": "2024-08-14T10:51:03.827Z"
   },
   {
    "duration": 207,
    "start_time": "2024-08-14T10:51:04.126Z"
   },
   {
    "duration": 283,
    "start_time": "2024-08-14T10:51:04.335Z"
   },
   {
    "duration": 8,
    "start_time": "2024-08-14T10:51:04.624Z"
   },
   {
    "duration": 285,
    "start_time": "2024-08-14T10:51:04.633Z"
   },
   {
    "duration": 14,
    "start_time": "2024-08-14T10:51:04.920Z"
   },
   {
    "duration": 9,
    "start_time": "2024-08-14T10:51:04.935Z"
   },
   {
    "duration": 142,
    "start_time": "2024-08-14T10:51:04.946Z"
   },
   {
    "duration": 299,
    "start_time": "2024-08-14T10:51:05.090Z"
   },
   {
    "duration": 9,
    "start_time": "2024-08-14T10:51:05.390Z"
   },
   {
    "duration": 9,
    "start_time": "2024-08-14T10:51:05.402Z"
   },
   {
    "duration": 108,
    "start_time": "2024-08-14T10:52:12.248Z"
   },
   {
    "duration": 7,
    "start_time": "2024-08-14T10:52:17.820Z"
   },
   {
    "duration": 7,
    "start_time": "2024-08-14T10:52:27.859Z"
   },
   {
    "duration": 7,
    "start_time": "2024-08-14T10:52:34.871Z"
   },
   {
    "duration": 14,
    "start_time": "2024-08-14T10:52:51.607Z"
   },
   {
    "duration": 8,
    "start_time": "2024-08-14T10:54:48.654Z"
   },
   {
    "duration": 1079,
    "start_time": "2024-08-14T10:55:23.111Z"
   },
   {
    "duration": 134,
    "start_time": "2024-08-14T10:55:24.192Z"
   },
   {
    "duration": 11,
    "start_time": "2024-08-14T10:55:24.328Z"
   },
   {
    "duration": 23,
    "start_time": "2024-08-14T10:55:24.340Z"
   },
   {
    "duration": 305,
    "start_time": "2024-08-14T10:55:24.365Z"
   },
   {
    "duration": 5,
    "start_time": "2024-08-14T10:55:24.672Z"
   },
   {
    "duration": 19,
    "start_time": "2024-08-14T10:55:24.679Z"
   },
   {
    "duration": 92,
    "start_time": "2024-08-14T10:55:24.700Z"
   },
   {
    "duration": 405,
    "start_time": "2024-08-14T10:55:24.794Z"
   },
   {
    "duration": 8,
    "start_time": "2024-08-14T10:55:25.201Z"
   },
   {
    "duration": 22,
    "start_time": "2024-08-14T10:55:25.210Z"
   },
   {
    "duration": 5,
    "start_time": "2024-08-14T10:55:25.233Z"
   },
   {
    "duration": 16,
    "start_time": "2024-08-14T10:55:25.240Z"
   },
   {
    "duration": 4,
    "start_time": "2024-08-14T10:55:25.259Z"
   },
   {
    "duration": 6,
    "start_time": "2024-08-14T10:55:25.264Z"
   },
   {
    "duration": 11,
    "start_time": "2024-08-14T10:55:25.271Z"
   },
   {
    "duration": 5,
    "start_time": "2024-08-14T10:55:25.283Z"
   },
   {
    "duration": 35,
    "start_time": "2024-08-14T10:55:25.289Z"
   },
   {
    "duration": 5,
    "start_time": "2024-08-14T10:55:25.326Z"
   },
   {
    "duration": 20,
    "start_time": "2024-08-14T10:55:25.332Z"
   },
   {
    "duration": 13,
    "start_time": "2024-08-14T10:55:25.354Z"
   },
   {
    "duration": 213,
    "start_time": "2024-08-14T10:55:25.370Z"
   },
   {
    "duration": 4,
    "start_time": "2024-08-14T10:55:25.585Z"
   },
   {
    "duration": 171,
    "start_time": "2024-08-14T10:55:25.591Z"
   },
   {
    "duration": 5,
    "start_time": "2024-08-14T10:55:25.764Z"
   },
   {
    "duration": 196,
    "start_time": "2024-08-14T10:55:25.770Z"
   },
   {
    "duration": 113,
    "start_time": "2024-08-14T10:55:25.968Z"
   },
   {
    "duration": 177,
    "start_time": "2024-08-14T10:55:26.083Z"
   },
   {
    "duration": 8,
    "start_time": "2024-08-14T10:55:26.261Z"
   },
   {
    "duration": 5,
    "start_time": "2024-08-14T10:55:26.270Z"
   },
   {
    "duration": 297,
    "start_time": "2024-08-14T10:55:26.277Z"
   },
   {
    "duration": 193,
    "start_time": "2024-08-14T10:55:26.576Z"
   },
   {
    "duration": 272,
    "start_time": "2024-08-14T10:55:26.771Z"
   },
   {
    "duration": 8,
    "start_time": "2024-08-14T10:55:27.045Z"
   },
   {
    "duration": 286,
    "start_time": "2024-08-14T10:55:27.054Z"
   },
   {
    "duration": 12,
    "start_time": "2024-08-14T10:55:27.341Z"
   },
   {
    "duration": 14,
    "start_time": "2024-08-14T10:55:27.354Z"
   },
   {
    "duration": 7,
    "start_time": "2024-08-14T10:55:27.370Z"
   },
   {
    "duration": 148,
    "start_time": "2024-08-14T10:55:27.379Z"
   },
   {
    "duration": 295,
    "start_time": "2024-08-14T10:55:27.529Z"
   },
   {
    "duration": 9,
    "start_time": "2024-08-14T10:55:27.827Z"
   },
   {
    "duration": 8,
    "start_time": "2024-08-14T10:55:27.838Z"
   },
   {
    "duration": 131,
    "start_time": "2024-08-14T11:17:20.476Z"
   },
   {
    "duration": 17,
    "start_time": "2024-08-14T11:18:12.552Z"
   },
   {
    "duration": 39,
    "start_time": "2024-08-14T11:18:21.722Z"
   },
   {
    "duration": 9,
    "start_time": "2024-08-14T11:21:49.428Z"
   },
   {
    "duration": 6,
    "start_time": "2024-08-14T11:22:16.405Z"
   },
   {
    "duration": 11,
    "start_time": "2024-08-14T11:22:32.557Z"
   },
   {
    "duration": 6,
    "start_time": "2024-08-14T11:23:36.733Z"
   },
   {
    "duration": 17,
    "start_time": "2024-08-14T11:23:49.561Z"
   },
   {
    "duration": 18,
    "start_time": "2024-08-14T11:24:07.669Z"
   },
   {
    "duration": 32,
    "start_time": "2024-08-14T11:26:30.976Z"
   },
   {
    "duration": 15,
    "start_time": "2024-08-14T11:27:53.871Z"
   },
   {
    "duration": 14,
    "start_time": "2024-08-14T11:27:57.662Z"
   },
   {
    "duration": 13,
    "start_time": "2024-08-14T11:28:01.098Z"
   },
   {
    "duration": 13,
    "start_time": "2024-08-14T11:28:04.203Z"
   },
   {
    "duration": 10,
    "start_time": "2024-08-14T11:30:28.628Z"
   },
   {
    "duration": 9,
    "start_time": "2024-08-14T11:30:39.735Z"
   },
   {
    "duration": 24,
    "start_time": "2024-08-14T11:30:51.291Z"
   },
   {
    "duration": 7,
    "start_time": "2024-08-14T11:37:17.097Z"
   },
   {
    "duration": 4,
    "start_time": "2024-08-14T11:37:43.055Z"
   },
   {
    "duration": 15,
    "start_time": "2024-08-14T11:38:11.296Z"
   },
   {
    "duration": 14,
    "start_time": "2024-08-14T11:38:21.252Z"
   },
   {
    "duration": 436,
    "start_time": "2024-08-14T11:49:21.106Z"
   },
   {
    "duration": 516,
    "start_time": "2024-08-14T11:49:30.079Z"
   },
   {
    "duration": 430,
    "start_time": "2024-08-14T11:49:36.666Z"
   },
   {
    "duration": 428,
    "start_time": "2024-08-14T12:19:36.568Z"
   },
   {
    "duration": 8,
    "start_time": "2024-08-14T12:20:27.002Z"
   },
   {
    "duration": 7,
    "start_time": "2024-08-14T12:20:34.617Z"
   },
   {
    "duration": 11,
    "start_time": "2024-08-14T12:24:41.564Z"
   },
   {
    "duration": 10,
    "start_time": "2024-08-14T12:27:02.740Z"
   },
   {
    "duration": 548,
    "start_time": "2024-08-14T12:31:08.915Z"
   },
   {
    "duration": 7,
    "start_time": "2024-08-14T12:31:31.070Z"
   },
   {
    "duration": 7,
    "start_time": "2024-08-14T12:31:42.897Z"
   },
   {
    "duration": 4,
    "start_time": "2024-08-14T12:36:19.298Z"
   },
   {
    "duration": 7,
    "start_time": "2024-08-14T12:44:12.974Z"
   },
   {
    "duration": 3,
    "start_time": "2024-08-14T12:54:50.794Z"
   },
   {
    "duration": 4,
    "start_time": "2024-08-14T12:56:32.739Z"
   },
   {
    "duration": 3,
    "start_time": "2024-08-14T12:57:04.680Z"
   },
   {
    "duration": 23,
    "start_time": "2024-08-14T12:59:08.723Z"
   },
   {
    "duration": 9,
    "start_time": "2024-08-14T12:59:20.307Z"
   },
   {
    "duration": 17,
    "start_time": "2024-08-14T12:59:27.406Z"
   },
   {
    "duration": 21,
    "start_time": "2024-08-14T12:59:49.500Z"
   },
   {
    "duration": 21,
    "start_time": "2024-08-14T12:59:51.210Z"
   },
   {
    "duration": 3,
    "start_time": "2024-08-14T13:03:34.263Z"
   },
   {
    "duration": 14,
    "start_time": "2024-08-14T13:03:35.916Z"
   },
   {
    "duration": 3,
    "start_time": "2024-08-14T13:03:58.122Z"
   },
   {
    "duration": 15,
    "start_time": "2024-08-14T13:03:59.823Z"
   },
   {
    "duration": 8,
    "start_time": "2024-08-14T13:04:13.887Z"
   },
   {
    "duration": 10,
    "start_time": "2024-08-14T13:08:08.638Z"
   },
   {
    "duration": 1207,
    "start_time": "2024-08-15T08:53:40.212Z"
   },
   {
    "duration": 313,
    "start_time": "2024-08-15T08:53:41.421Z"
   },
   {
    "duration": 13,
    "start_time": "2024-08-15T08:53:41.736Z"
   },
   {
    "duration": 11,
    "start_time": "2024-08-15T08:53:41.751Z"
   },
   {
    "duration": 337,
    "start_time": "2024-08-15T08:53:41.763Z"
   },
   {
    "duration": 3,
    "start_time": "2024-08-15T08:53:42.102Z"
   },
   {
    "duration": 10,
    "start_time": "2024-08-15T08:53:42.106Z"
   },
   {
    "duration": 22,
    "start_time": "2024-08-15T08:53:42.117Z"
   },
   {
    "duration": 359,
    "start_time": "2024-08-15T08:53:42.141Z"
   },
   {
    "duration": 6,
    "start_time": "2024-08-15T08:53:42.503Z"
   },
   {
    "duration": 32,
    "start_time": "2024-08-15T08:53:42.510Z"
   },
   {
    "duration": 4,
    "start_time": "2024-08-15T08:53:42.543Z"
   },
   {
    "duration": 5,
    "start_time": "2024-08-15T08:53:42.549Z"
   },
   {
    "duration": 22,
    "start_time": "2024-08-15T08:53:42.556Z"
   },
   {
    "duration": 15,
    "start_time": "2024-08-15T08:53:42.580Z"
   },
   {
    "duration": 17,
    "start_time": "2024-08-15T08:53:42.596Z"
   },
   {
    "duration": 5,
    "start_time": "2024-08-15T08:53:42.614Z"
   },
   {
    "duration": 6,
    "start_time": "2024-08-15T08:53:42.620Z"
   },
   {
    "duration": 4,
    "start_time": "2024-08-15T08:53:42.628Z"
   },
   {
    "duration": 4,
    "start_time": "2024-08-15T08:53:42.633Z"
   },
   {
    "duration": 6,
    "start_time": "2024-08-15T08:53:42.639Z"
   },
   {
    "duration": 230,
    "start_time": "2024-08-15T08:53:42.646Z"
   },
   {
    "duration": 6,
    "start_time": "2024-08-15T08:53:42.878Z"
   },
   {
    "duration": 203,
    "start_time": "2024-08-15T08:53:42.885Z"
   },
   {
    "duration": 6,
    "start_time": "2024-08-15T08:53:43.089Z"
   },
   {
    "duration": 189,
    "start_time": "2024-08-15T08:53:43.096Z"
   },
   {
    "duration": 112,
    "start_time": "2024-08-15T08:53:43.287Z"
   },
   {
    "duration": 172,
    "start_time": "2024-08-15T08:53:43.402Z"
   },
   {
    "duration": 9,
    "start_time": "2024-08-15T08:53:43.575Z"
   },
   {
    "duration": 6,
    "start_time": "2024-08-15T08:53:43.585Z"
   },
   {
    "duration": 281,
    "start_time": "2024-08-15T08:53:43.593Z"
   },
   {
    "duration": 182,
    "start_time": "2024-08-15T08:53:43.876Z"
   },
   {
    "duration": 249,
    "start_time": "2024-08-15T08:53:44.060Z"
   },
   {
    "duration": 9,
    "start_time": "2024-08-15T08:53:44.311Z"
   },
   {
    "duration": 261,
    "start_time": "2024-08-15T08:53:44.322Z"
   },
   {
    "duration": 12,
    "start_time": "2024-08-15T08:53:44.585Z"
   },
   {
    "duration": 13,
    "start_time": "2024-08-15T08:53:44.598Z"
   },
   {
    "duration": 134,
    "start_time": "2024-08-15T08:53:44.613Z"
   },
   {
    "duration": 273,
    "start_time": "2024-08-15T08:53:44.749Z"
   },
   {
    "duration": 15,
    "start_time": "2024-08-15T08:53:45.024Z"
   },
   {
    "duration": 57,
    "start_time": "2024-08-15T08:53:45.041Z"
   },
   {
    "duration": 48,
    "start_time": "2024-08-15T08:53:45.100Z"
   },
   {
    "duration": 30,
    "start_time": "2024-08-15T08:53:45.150Z"
   },
   {
    "duration": 43,
    "start_time": "2024-08-15T08:53:45.182Z"
   },
   {
    "duration": 26,
    "start_time": "2024-08-15T08:53:45.227Z"
   },
   {
    "duration": 13,
    "start_time": "2024-08-15T08:53:45.255Z"
   },
   {
    "duration": 25,
    "start_time": "2024-08-15T08:53:45.270Z"
   },
   {
    "duration": 38,
    "start_time": "2024-08-15T08:53:45.296Z"
   },
   {
    "duration": 47,
    "start_time": "2024-08-15T08:53:45.336Z"
   },
   {
    "duration": 58,
    "start_time": "2024-08-15T08:53:45.384Z"
   },
   {
    "duration": 23,
    "start_time": "2024-08-15T08:53:45.444Z"
   },
   {
    "duration": 5,
    "start_time": "2024-08-15T08:53:45.469Z"
   },
   {
    "duration": 16,
    "start_time": "2024-08-15T08:53:45.475Z"
   },
   {
    "duration": 386,
    "start_time": "2024-08-15T08:53:45.493Z"
   },
   {
    "duration": 8,
    "start_time": "2024-08-15T08:53:45.880Z"
   },
   {
    "duration": 6,
    "start_time": "2024-08-15T08:53:45.889Z"
   },
   {
    "duration": 475,
    "start_time": "2024-08-15T08:53:45.896Z"
   },
   {
    "duration": 7,
    "start_time": "2024-08-15T08:53:46.372Z"
   },
   {
    "duration": 78,
    "start_time": "2024-08-15T08:53:46.380Z"
   },
   {
    "duration": 5,
    "start_time": "2024-08-15T08:53:46.460Z"
   },
   {
    "duration": 3,
    "start_time": "2024-08-15T08:53:46.467Z"
   },
   {
    "duration": 23,
    "start_time": "2024-08-15T08:53:46.471Z"
   },
   {
    "duration": 3,
    "start_time": "2024-08-15T08:53:46.495Z"
   },
   {
    "duration": 13,
    "start_time": "2024-08-15T08:53:46.499Z"
   },
   {
    "duration": 15,
    "start_time": "2024-08-15T08:53:46.513Z"
   },
   {
    "duration": 100,
    "start_time": "2024-08-15T09:02:26.238Z"
   },
   {
    "duration": 14,
    "start_time": "2024-08-15T09:02:43.372Z"
   },
   {
    "duration": 2512,
    "start_time": "2024-08-15T09:14:16.356Z"
   },
   {
    "duration": 63,
    "start_time": "2024-08-15T09:24:31.469Z"
   },
   {
    "duration": 46,
    "start_time": "2024-08-15T09:27:05.650Z"
   },
   {
    "duration": 1053,
    "start_time": "2024-08-15T09:27:12.334Z"
   },
   {
    "duration": 336,
    "start_time": "2024-08-15T09:27:13.389Z"
   },
   {
    "duration": 11,
    "start_time": "2024-08-15T09:27:13.727Z"
   },
   {
    "duration": 23,
    "start_time": "2024-08-15T09:27:13.740Z"
   },
   {
    "duration": 323,
    "start_time": "2024-08-15T09:27:13.765Z"
   },
   {
    "duration": 4,
    "start_time": "2024-08-15T09:27:14.089Z"
   },
   {
    "duration": 11,
    "start_time": "2024-08-15T09:27:14.094Z"
   },
   {
    "duration": 16,
    "start_time": "2024-08-15T09:27:14.106Z"
   },
   {
    "duration": 396,
    "start_time": "2024-08-15T09:27:14.137Z"
   },
   {
    "duration": 8,
    "start_time": "2024-08-15T09:27:14.537Z"
   },
   {
    "duration": 12,
    "start_time": "2024-08-15T09:27:14.547Z"
   },
   {
    "duration": 52,
    "start_time": "2024-08-15T09:27:14.560Z"
   },
   {
    "duration": 20,
    "start_time": "2024-08-15T09:27:14.614Z"
   },
   {
    "duration": 4,
    "start_time": "2024-08-15T09:27:14.639Z"
   },
   {
    "duration": 17,
    "start_time": "2024-08-15T09:27:14.645Z"
   },
   {
    "duration": 33,
    "start_time": "2024-08-15T09:27:14.664Z"
   },
   {
    "duration": 8,
    "start_time": "2024-08-15T09:27:14.699Z"
   },
   {
    "duration": 12,
    "start_time": "2024-08-15T09:27:14.709Z"
   },
   {
    "duration": 6,
    "start_time": "2024-08-15T09:27:14.723Z"
   },
   {
    "duration": 9,
    "start_time": "2024-08-15T09:27:14.730Z"
   },
   {
    "duration": 8,
    "start_time": "2024-08-15T09:27:14.741Z"
   },
   {
    "duration": 212,
    "start_time": "2024-08-15T09:27:14.751Z"
   },
   {
    "duration": 6,
    "start_time": "2024-08-15T09:27:14.965Z"
   },
   {
    "duration": 176,
    "start_time": "2024-08-15T09:27:14.973Z"
   },
   {
    "duration": 6,
    "start_time": "2024-08-15T09:27:15.151Z"
   },
   {
    "duration": 192,
    "start_time": "2024-08-15T09:27:15.159Z"
   },
   {
    "duration": 114,
    "start_time": "2024-08-15T09:27:15.352Z"
   },
   {
    "duration": 172,
    "start_time": "2024-08-15T09:27:15.467Z"
   },
   {
    "duration": 7,
    "start_time": "2024-08-15T09:27:15.641Z"
   },
   {
    "duration": 9,
    "start_time": "2024-08-15T09:27:15.649Z"
   },
   {
    "duration": 269,
    "start_time": "2024-08-15T09:27:15.659Z"
   },
   {
    "duration": 175,
    "start_time": "2024-08-15T09:27:15.930Z"
   },
   {
    "duration": 267,
    "start_time": "2024-08-15T09:27:16.106Z"
   },
   {
    "duration": 8,
    "start_time": "2024-08-15T09:27:16.375Z"
   },
   {
    "duration": 274,
    "start_time": "2024-08-15T09:27:16.385Z"
   },
   {
    "duration": 13,
    "start_time": "2024-08-15T09:27:16.661Z"
   },
   {
    "duration": 17,
    "start_time": "2024-08-15T09:27:16.675Z"
   },
   {
    "duration": 146,
    "start_time": "2024-08-15T09:27:16.693Z"
   },
   {
    "duration": 277,
    "start_time": "2024-08-15T09:27:16.841Z"
   },
   {
    "duration": 18,
    "start_time": "2024-08-15T09:27:17.120Z"
   },
   {
    "duration": 18,
    "start_time": "2024-08-15T09:27:17.143Z"
   },
   {
    "duration": 22,
    "start_time": "2024-08-15T09:27:17.163Z"
   },
   {
    "duration": 23,
    "start_time": "2024-08-15T09:27:17.187Z"
   },
   {
    "duration": 43,
    "start_time": "2024-08-15T09:27:17.211Z"
   },
   {
    "duration": 13,
    "start_time": "2024-08-15T09:27:17.256Z"
   },
   {
    "duration": 8,
    "start_time": "2024-08-15T09:27:17.270Z"
   },
   {
    "duration": 10,
    "start_time": "2024-08-15T09:27:17.279Z"
   },
   {
    "duration": 13,
    "start_time": "2024-08-15T09:27:17.290Z"
   },
   {
    "duration": 45,
    "start_time": "2024-08-15T09:27:17.304Z"
   },
   {
    "duration": 5,
    "start_time": "2024-08-15T09:27:17.351Z"
   },
   {
    "duration": 17,
    "start_time": "2024-08-15T09:27:17.358Z"
   },
   {
    "duration": 9,
    "start_time": "2024-08-15T09:27:17.377Z"
   },
   {
    "duration": 18,
    "start_time": "2024-08-15T09:27:17.387Z"
   },
   {
    "duration": 434,
    "start_time": "2024-08-15T09:27:17.406Z"
   },
   {
    "duration": 7,
    "start_time": "2024-08-15T09:27:17.842Z"
   },
   {
    "duration": 15,
    "start_time": "2024-08-15T09:27:17.850Z"
   },
   {
    "duration": 550,
    "start_time": "2024-08-15T09:27:17.866Z"
   },
   {
    "duration": 8,
    "start_time": "2024-08-15T09:27:18.418Z"
   },
   {
    "duration": 8,
    "start_time": "2024-08-15T09:27:18.438Z"
   },
   {
    "duration": 5,
    "start_time": "2024-08-15T09:27:18.448Z"
   },
   {
    "duration": 11,
    "start_time": "2024-08-15T09:27:18.455Z"
   },
   {
    "duration": 28,
    "start_time": "2024-08-15T09:27:18.467Z"
   },
   {
    "duration": 6,
    "start_time": "2024-08-15T09:27:18.496Z"
   },
   {
    "duration": 5,
    "start_time": "2024-08-15T09:27:18.503Z"
   },
   {
    "duration": 26,
    "start_time": "2024-08-15T09:27:18.509Z"
   },
   {
    "duration": 1099,
    "start_time": "2024-08-15T09:27:18.536Z"
   },
   {
    "duration": 1008,
    "start_time": "2024-08-15T09:27:41.073Z"
   },
   {
    "duration": 966,
    "start_time": "2024-08-15T09:28:49.714Z"
   },
   {
    "duration": 22,
    "start_time": "2024-08-15T09:31:09.961Z"
   },
   {
    "duration": 19,
    "start_time": "2024-08-15T09:32:24.274Z"
   },
   {
    "duration": 967,
    "start_time": "2024-08-15T09:34:39.574Z"
   },
   {
    "duration": 865,
    "start_time": "2024-08-15T09:35:12.412Z"
   },
   {
    "duration": 948,
    "start_time": "2024-08-15T09:35:40.409Z"
   },
   {
    "duration": 989,
    "start_time": "2024-08-15T09:40:57.641Z"
   },
   {
    "duration": 876,
    "start_time": "2024-08-15T09:41:43.652Z"
   },
   {
    "duration": 884,
    "start_time": "2024-08-15T09:42:13.697Z"
   },
   {
    "duration": 1059,
    "start_time": "2024-08-15T09:42:45.132Z"
   },
   {
    "duration": 1119,
    "start_time": "2024-08-15T09:44:57.640Z"
   },
   {
    "duration": 328,
    "start_time": "2024-08-15T09:44:58.761Z"
   },
   {
    "duration": 12,
    "start_time": "2024-08-15T09:44:59.091Z"
   },
   {
    "duration": 20,
    "start_time": "2024-08-15T09:44:59.104Z"
   },
   {
    "duration": 290,
    "start_time": "2024-08-15T09:44:59.125Z"
   },
   {
    "duration": 3,
    "start_time": "2024-08-15T09:44:59.417Z"
   },
   {
    "duration": 43,
    "start_time": "2024-08-15T09:44:59.421Z"
   },
   {
    "duration": 18,
    "start_time": "2024-08-15T09:44:59.466Z"
   },
   {
    "duration": 390,
    "start_time": "2024-08-15T09:44:59.485Z"
   },
   {
    "duration": 8,
    "start_time": "2024-08-15T09:44:59.878Z"
   },
   {
    "duration": 19,
    "start_time": "2024-08-15T09:44:59.887Z"
   },
   {
    "duration": 5,
    "start_time": "2024-08-15T09:44:59.908Z"
   },
   {
    "duration": 26,
    "start_time": "2024-08-15T09:44:59.914Z"
   },
   {
    "duration": 4,
    "start_time": "2024-08-15T09:44:59.941Z"
   },
   {
    "duration": 4,
    "start_time": "2024-08-15T09:44:59.947Z"
   },
   {
    "duration": 9,
    "start_time": "2024-08-15T09:44:59.953Z"
   },
   {
    "duration": 12,
    "start_time": "2024-08-15T09:44:59.963Z"
   },
   {
    "duration": 18,
    "start_time": "2024-08-15T09:44:59.976Z"
   },
   {
    "duration": 6,
    "start_time": "2024-08-15T09:44:59.996Z"
   },
   {
    "duration": 22,
    "start_time": "2024-08-15T09:45:00.004Z"
   },
   {
    "duration": 50,
    "start_time": "2024-08-15T09:45:00.028Z"
   },
   {
    "duration": 414,
    "start_time": "2024-08-15T09:45:00.080Z"
   },
   {
    "duration": 20,
    "start_time": "2024-08-15T09:45:00.496Z"
   },
   {
    "duration": 186,
    "start_time": "2024-08-15T09:45:00.517Z"
   },
   {
    "duration": 5,
    "start_time": "2024-08-15T09:45:00.705Z"
   },
   {
    "duration": 378,
    "start_time": "2024-08-15T09:45:00.711Z"
   },
   {
    "duration": 100,
    "start_time": "2024-08-15T09:45:01.091Z"
   },
   {
    "duration": 203,
    "start_time": "2024-08-15T09:45:01.195Z"
   },
   {
    "duration": 8,
    "start_time": "2024-08-15T09:45:01.399Z"
   },
   {
    "duration": 55,
    "start_time": "2024-08-15T09:45:01.408Z"
   },
   {
    "duration": 321,
    "start_time": "2024-08-15T09:45:01.465Z"
   },
   {
    "duration": 207,
    "start_time": "2024-08-15T09:45:01.787Z"
   },
   {
    "duration": 285,
    "start_time": "2024-08-15T09:45:01.996Z"
   },
   {
    "duration": 9,
    "start_time": "2024-08-15T09:45:02.282Z"
   },
   {
    "duration": 292,
    "start_time": "2024-08-15T09:45:02.292Z"
   },
   {
    "duration": 13,
    "start_time": "2024-08-15T09:45:02.585Z"
   },
   {
    "duration": 14,
    "start_time": "2024-08-15T09:45:02.600Z"
   },
   {
    "duration": 142,
    "start_time": "2024-08-15T09:45:02.616Z"
   },
   {
    "duration": 286,
    "start_time": "2024-08-15T09:45:02.759Z"
   },
   {
    "duration": 9,
    "start_time": "2024-08-15T09:45:03.046Z"
   },
   {
    "duration": 25,
    "start_time": "2024-08-15T09:45:03.057Z"
   },
   {
    "duration": 21,
    "start_time": "2024-08-15T09:45:03.084Z"
   },
   {
    "duration": 24,
    "start_time": "2024-08-15T09:45:03.107Z"
   },
   {
    "duration": 29,
    "start_time": "2024-08-15T09:45:03.137Z"
   },
   {
    "duration": 13,
    "start_time": "2024-08-15T09:45:03.167Z"
   },
   {
    "duration": 62,
    "start_time": "2024-08-15T09:45:03.181Z"
   },
   {
    "duration": 10,
    "start_time": "2024-08-15T09:45:03.244Z"
   },
   {
    "duration": 7,
    "start_time": "2024-08-15T09:45:03.255Z"
   },
   {
    "duration": 22,
    "start_time": "2024-08-15T09:45:03.264Z"
   },
   {
    "duration": 8,
    "start_time": "2024-08-15T09:45:03.287Z"
   },
   {
    "duration": 19,
    "start_time": "2024-08-15T09:45:03.296Z"
   },
   {
    "duration": 7,
    "start_time": "2024-08-15T09:45:03.338Z"
   },
   {
    "duration": 30,
    "start_time": "2024-08-15T09:45:03.346Z"
   },
   {
    "duration": 433,
    "start_time": "2024-08-15T09:45:03.378Z"
   },
   {
    "duration": 7,
    "start_time": "2024-08-15T09:45:03.812Z"
   },
   {
    "duration": 20,
    "start_time": "2024-08-15T09:45:03.821Z"
   },
   {
    "duration": 474,
    "start_time": "2024-08-15T09:45:03.843Z"
   },
   {
    "duration": 7,
    "start_time": "2024-08-15T09:45:04.319Z"
   },
   {
    "duration": 7,
    "start_time": "2024-08-15T09:45:04.337Z"
   },
   {
    "duration": 7,
    "start_time": "2024-08-15T09:45:04.346Z"
   },
   {
    "duration": 68,
    "start_time": "2024-08-15T09:45:04.354Z"
   },
   {
    "duration": 20,
    "start_time": "2024-08-15T09:45:04.424Z"
   },
   {
    "duration": 3,
    "start_time": "2024-08-15T09:45:04.445Z"
   },
   {
    "duration": 9,
    "start_time": "2024-08-15T09:45:04.449Z"
   },
   {
    "duration": 11,
    "start_time": "2024-08-15T09:45:04.460Z"
   },
   {
    "duration": 1015,
    "start_time": "2024-08-15T09:45:04.472Z"
   },
   {
    "duration": 0,
    "start_time": "2024-08-15T09:45:05.489Z"
   },
   {
    "duration": 1031,
    "start_time": "2024-08-15T09:45:17.838Z"
   },
   {
    "duration": 114,
    "start_time": "2024-08-15T09:45:18.871Z"
   },
   {
    "duration": 11,
    "start_time": "2024-08-15T09:45:18.987Z"
   },
   {
    "duration": 19,
    "start_time": "2024-08-15T09:45:18.999Z"
   },
   {
    "duration": 285,
    "start_time": "2024-08-15T09:45:19.020Z"
   },
   {
    "duration": 3,
    "start_time": "2024-08-15T09:45:19.307Z"
   },
   {
    "duration": 11,
    "start_time": "2024-08-15T09:45:19.312Z"
   },
   {
    "duration": 15,
    "start_time": "2024-08-15T09:45:19.338Z"
   },
   {
    "duration": 391,
    "start_time": "2024-08-15T09:45:19.355Z"
   },
   {
    "duration": 7,
    "start_time": "2024-08-15T09:45:19.747Z"
   },
   {
    "duration": 14,
    "start_time": "2024-08-15T09:45:19.755Z"
   },
   {
    "duration": 28,
    "start_time": "2024-08-15T09:45:19.770Z"
   },
   {
    "duration": 6,
    "start_time": "2024-08-15T09:45:19.800Z"
   },
   {
    "duration": 3,
    "start_time": "2024-08-15T09:45:19.808Z"
   },
   {
    "duration": 9,
    "start_time": "2024-08-15T09:45:19.813Z"
   },
   {
    "duration": 13,
    "start_time": "2024-08-15T09:45:19.824Z"
   },
   {
    "duration": 5,
    "start_time": "2024-08-15T09:45:19.839Z"
   },
   {
    "duration": 9,
    "start_time": "2024-08-15T09:45:19.845Z"
   },
   {
    "duration": 10,
    "start_time": "2024-08-15T09:45:19.856Z"
   },
   {
    "duration": 26,
    "start_time": "2024-08-15T09:45:19.867Z"
   },
   {
    "duration": 6,
    "start_time": "2024-08-15T09:45:19.894Z"
   },
   {
    "duration": 197,
    "start_time": "2024-08-15T09:45:19.901Z"
   },
   {
    "duration": 5,
    "start_time": "2024-08-15T09:45:20.099Z"
   },
   {
    "duration": 166,
    "start_time": "2024-08-15T09:45:20.106Z"
   },
   {
    "duration": 5,
    "start_time": "2024-08-15T09:45:20.274Z"
   },
   {
    "duration": 181,
    "start_time": "2024-08-15T09:45:20.280Z"
   },
   {
    "duration": 97,
    "start_time": "2024-08-15T09:45:20.463Z"
   },
   {
    "duration": 168,
    "start_time": "2024-08-15T09:45:20.562Z"
   },
   {
    "duration": 10,
    "start_time": "2024-08-15T09:45:20.732Z"
   },
   {
    "duration": 12,
    "start_time": "2024-08-15T09:45:20.744Z"
   },
   {
    "duration": 299,
    "start_time": "2024-08-15T09:45:20.758Z"
   },
   {
    "duration": 189,
    "start_time": "2024-08-15T09:45:21.058Z"
   },
   {
    "duration": 298,
    "start_time": "2024-08-15T09:45:21.248Z"
   },
   {
    "duration": 7,
    "start_time": "2024-08-15T09:45:21.548Z"
   },
   {
    "duration": 260,
    "start_time": "2024-08-15T09:45:21.557Z"
   },
   {
    "duration": 11,
    "start_time": "2024-08-15T09:45:21.819Z"
   },
   {
    "duration": 19,
    "start_time": "2024-08-15T09:45:21.831Z"
   },
   {
    "duration": 123,
    "start_time": "2024-08-15T09:45:21.852Z"
   },
   {
    "duration": 267,
    "start_time": "2024-08-15T09:45:21.977Z"
   },
   {
    "duration": 8,
    "start_time": "2024-08-15T09:45:22.246Z"
   },
   {
    "duration": 29,
    "start_time": "2024-08-15T09:45:22.257Z"
   },
   {
    "duration": 19,
    "start_time": "2024-08-15T09:45:22.287Z"
   },
   {
    "duration": 22,
    "start_time": "2024-08-15T09:45:22.307Z"
   },
   {
    "duration": 35,
    "start_time": "2024-08-15T09:45:22.330Z"
   },
   {
    "duration": 13,
    "start_time": "2024-08-15T09:45:22.367Z"
   },
   {
    "duration": 53,
    "start_time": "2024-08-15T09:45:22.381Z"
   },
   {
    "duration": 22,
    "start_time": "2024-08-15T09:45:22.436Z"
   },
   {
    "duration": 19,
    "start_time": "2024-08-15T09:45:22.460Z"
   },
   {
    "duration": 38,
    "start_time": "2024-08-15T09:45:22.480Z"
   },
   {
    "duration": 7,
    "start_time": "2024-08-15T09:45:22.520Z"
   },
   {
    "duration": 14,
    "start_time": "2024-08-15T09:45:22.529Z"
   },
   {
    "duration": 6,
    "start_time": "2024-08-15T09:45:22.544Z"
   },
   {
    "duration": 16,
    "start_time": "2024-08-15T09:45:22.551Z"
   },
   {
    "duration": 425,
    "start_time": "2024-08-15T09:45:22.568Z"
   },
   {
    "duration": 9,
    "start_time": "2024-08-15T09:45:22.994Z"
   },
   {
    "duration": 8,
    "start_time": "2024-08-15T09:45:23.005Z"
   },
   {
    "duration": 538,
    "start_time": "2024-08-15T09:45:23.015Z"
   },
   {
    "duration": 8,
    "start_time": "2024-08-15T09:45:23.555Z"
   },
   {
    "duration": 18,
    "start_time": "2024-08-15T09:45:23.564Z"
   },
   {
    "duration": 6,
    "start_time": "2024-08-15T09:45:23.583Z"
   },
   {
    "duration": 5,
    "start_time": "2024-08-15T09:45:23.591Z"
   },
   {
    "duration": 23,
    "start_time": "2024-08-15T09:45:23.597Z"
   },
   {
    "duration": 15,
    "start_time": "2024-08-15T09:45:23.622Z"
   },
   {
    "duration": 9,
    "start_time": "2024-08-15T09:45:23.639Z"
   },
   {
    "duration": 11,
    "start_time": "2024-08-15T09:45:23.649Z"
   },
   {
    "duration": 7125,
    "start_time": "2024-08-15T09:45:23.662Z"
   },
   {
    "duration": 11,
    "start_time": "2024-08-15T09:46:25.469Z"
   },
   {
    "duration": 7508,
    "start_time": "2024-08-15T09:47:42.687Z"
   },
   {
    "duration": 11,
    "start_time": "2024-08-15T09:47:50.196Z"
   },
   {
    "duration": 7,
    "start_time": "2024-08-15T09:57:28.729Z"
   },
   {
    "duration": 6,
    "start_time": "2024-08-15T10:04:40.247Z"
   },
   {
    "duration": 5,
    "start_time": "2024-08-15T10:05:01.997Z"
   },
   {
    "duration": 5,
    "start_time": "2024-08-15T10:07:16.062Z"
   },
   {
    "duration": 43,
    "start_time": "2024-08-15T10:18:48.022Z"
   },
   {
    "duration": 4,
    "start_time": "2024-08-15T10:18:50.806Z"
   },
   {
    "duration": 3,
    "start_time": "2024-08-15T10:18:52.794Z"
   },
   {
    "duration": 10,
    "start_time": "2024-08-15T10:18:54.690Z"
   },
   {
    "duration": 8081,
    "start_time": "2024-08-15T10:19:13.525Z"
   },
   {
    "duration": 10,
    "start_time": "2024-08-15T10:19:25.311Z"
   },
   {
    "duration": 922,
    "start_time": "2024-08-15T10:19:41.173Z"
   },
   {
    "duration": 1020,
    "start_time": "2024-08-15T10:20:12.566Z"
   },
   {
    "duration": 11,
    "start_time": "2024-08-15T10:20:19.834Z"
   },
   {
    "duration": 1012,
    "start_time": "2024-08-15T10:20:24.870Z"
   },
   {
    "duration": 1073,
    "start_time": "2024-08-15T10:20:31.423Z"
   },
   {
    "duration": 136,
    "start_time": "2024-08-15T10:20:32.498Z"
   },
   {
    "duration": 16,
    "start_time": "2024-08-15T10:20:32.636Z"
   },
   {
    "duration": 13,
    "start_time": "2024-08-15T10:20:32.654Z"
   },
   {
    "duration": 304,
    "start_time": "2024-08-15T10:20:32.669Z"
   },
   {
    "duration": 4,
    "start_time": "2024-08-15T10:20:32.974Z"
   },
   {
    "duration": 9,
    "start_time": "2024-08-15T10:20:32.980Z"
   },
   {
    "duration": 25,
    "start_time": "2024-08-15T10:20:32.990Z"
   },
   {
    "duration": 415,
    "start_time": "2024-08-15T10:20:33.016Z"
   },
   {
    "duration": 11,
    "start_time": "2024-08-15T10:20:33.439Z"
   },
   {
    "duration": 60,
    "start_time": "2024-08-15T10:20:33.452Z"
   },
   {
    "duration": 25,
    "start_time": "2024-08-15T10:20:33.514Z"
   },
   {
    "duration": 7,
    "start_time": "2024-08-15T10:20:33.541Z"
   },
   {
    "duration": 6,
    "start_time": "2024-08-15T10:20:33.550Z"
   },
   {
    "duration": 8,
    "start_time": "2024-08-15T10:20:33.558Z"
   },
   {
    "duration": 10,
    "start_time": "2024-08-15T10:20:33.567Z"
   },
   {
    "duration": 5,
    "start_time": "2024-08-15T10:20:33.578Z"
   },
   {
    "duration": 7,
    "start_time": "2024-08-15T10:20:33.584Z"
   },
   {
    "duration": 46,
    "start_time": "2024-08-15T10:20:33.592Z"
   },
   {
    "duration": 7,
    "start_time": "2024-08-15T10:20:33.640Z"
   },
   {
    "duration": 6,
    "start_time": "2024-08-15T10:20:33.649Z"
   },
   {
    "duration": 251,
    "start_time": "2024-08-15T10:20:33.657Z"
   },
   {
    "duration": 6,
    "start_time": "2024-08-15T10:20:33.910Z"
   },
   {
    "duration": 180,
    "start_time": "2024-08-15T10:20:33.917Z"
   },
   {
    "duration": 5,
    "start_time": "2024-08-15T10:20:34.099Z"
   },
   {
    "duration": 222,
    "start_time": "2024-08-15T10:20:34.106Z"
   },
   {
    "duration": 124,
    "start_time": "2024-08-15T10:20:34.329Z"
   },
   {
    "duration": 180,
    "start_time": "2024-08-15T10:20:34.458Z"
   },
   {
    "duration": 8,
    "start_time": "2024-08-15T10:20:34.641Z"
   },
   {
    "duration": 4,
    "start_time": "2024-08-15T10:20:34.651Z"
   },
   {
    "duration": 323,
    "start_time": "2024-08-15T10:20:34.656Z"
   },
   {
    "duration": 211,
    "start_time": "2024-08-15T10:20:34.981Z"
   },
   {
    "duration": 311,
    "start_time": "2024-08-15T10:20:35.195Z"
   },
   {
    "duration": 9,
    "start_time": "2024-08-15T10:20:35.508Z"
   },
   {
    "duration": 301,
    "start_time": "2024-08-15T10:20:35.519Z"
   },
   {
    "duration": 17,
    "start_time": "2024-08-15T10:20:35.822Z"
   },
   {
    "duration": 24,
    "start_time": "2024-08-15T10:20:35.841Z"
   },
   {
    "duration": 146,
    "start_time": "2024-08-15T10:20:35.866Z"
   },
   {
    "duration": 310,
    "start_time": "2024-08-15T10:20:36.014Z"
   },
   {
    "duration": 19,
    "start_time": "2024-08-15T10:20:36.326Z"
   },
   {
    "duration": 12,
    "start_time": "2024-08-15T10:20:36.347Z"
   },
   {
    "duration": 16,
    "start_time": "2024-08-15T10:20:36.362Z"
   },
   {
    "duration": 23,
    "start_time": "2024-08-15T10:20:36.379Z"
   },
   {
    "duration": 69,
    "start_time": "2024-08-15T10:20:36.403Z"
   },
   {
    "duration": 13,
    "start_time": "2024-08-15T10:20:36.473Z"
   },
   {
    "duration": 61,
    "start_time": "2024-08-15T10:20:36.488Z"
   },
   {
    "duration": 15,
    "start_time": "2024-08-15T10:20:36.552Z"
   },
   {
    "duration": 26,
    "start_time": "2024-08-15T10:20:36.568Z"
   },
   {
    "duration": 22,
    "start_time": "2024-08-15T10:20:36.596Z"
   },
   {
    "duration": 5,
    "start_time": "2024-08-15T10:20:36.619Z"
   },
   {
    "duration": 35,
    "start_time": "2024-08-15T10:20:36.626Z"
   },
   {
    "duration": 5,
    "start_time": "2024-08-15T10:20:36.662Z"
   },
   {
    "duration": 15,
    "start_time": "2024-08-15T10:20:36.669Z"
   },
   {
    "duration": 427,
    "start_time": "2024-08-15T10:20:36.685Z"
   },
   {
    "duration": 7,
    "start_time": "2024-08-15T10:20:37.114Z"
   },
   {
    "duration": 25,
    "start_time": "2024-08-15T10:20:37.123Z"
   },
   {
    "duration": 600,
    "start_time": "2024-08-15T10:20:37.150Z"
   },
   {
    "duration": 10,
    "start_time": "2024-08-15T10:20:37.752Z"
   },
   {
    "duration": 8,
    "start_time": "2024-08-15T10:20:37.764Z"
   },
   {
    "duration": 7,
    "start_time": "2024-08-15T10:20:37.773Z"
   },
   {
    "duration": 7,
    "start_time": "2024-08-15T10:20:37.781Z"
   },
   {
    "duration": 64,
    "start_time": "2024-08-15T10:20:37.789Z"
   },
   {
    "duration": 5,
    "start_time": "2024-08-15T10:20:37.855Z"
   },
   {
    "duration": 8,
    "start_time": "2024-08-15T10:20:37.862Z"
   },
   {
    "duration": 31,
    "start_time": "2024-08-15T10:20:37.872Z"
   },
   {
    "duration": 7900,
    "start_time": "2024-08-15T10:20:37.905Z"
   },
   {
    "duration": 10,
    "start_time": "2024-08-15T10:20:45.807Z"
   },
   {
    "duration": 24,
    "start_time": "2024-08-15T10:20:45.818Z"
   },
   {
    "duration": 9,
    "start_time": "2024-08-15T10:20:45.844Z"
   },
   {
    "duration": 1071,
    "start_time": "2024-08-15T10:20:45.856Z"
   },
   {
    "duration": 0,
    "start_time": "2024-08-15T10:20:46.928Z"
   },
   {
    "duration": 792,
    "start_time": "2024-08-15T10:20:54.790Z"
   },
   {
    "duration": 6,
    "start_time": "2024-08-15T10:22:50.057Z"
   },
   {
    "duration": 10,
    "start_time": "2024-08-15T10:22:51.883Z"
   },
   {
    "duration": 15,
    "start_time": "2024-08-15T10:24:15.027Z"
   },
   {
    "duration": 1119,
    "start_time": "2024-08-15T10:24:20.814Z"
   },
   {
    "duration": 121,
    "start_time": "2024-08-15T10:24:21.935Z"
   },
   {
    "duration": 13,
    "start_time": "2024-08-15T10:24:22.058Z"
   },
   {
    "duration": 14,
    "start_time": "2024-08-15T10:24:22.073Z"
   },
   {
    "duration": 302,
    "start_time": "2024-08-15T10:24:22.089Z"
   },
   {
    "duration": 3,
    "start_time": "2024-08-15T10:24:22.393Z"
   },
   {
    "duration": 18,
    "start_time": "2024-08-15T10:24:22.398Z"
   },
   {
    "duration": 22,
    "start_time": "2024-08-15T10:24:22.418Z"
   },
   {
    "duration": 366,
    "start_time": "2024-08-15T10:24:22.442Z"
   },
   {
    "duration": 9,
    "start_time": "2024-08-15T10:24:22.817Z"
   },
   {
    "duration": 18,
    "start_time": "2024-08-15T10:24:22.828Z"
   },
   {
    "duration": 9,
    "start_time": "2024-08-15T10:24:22.848Z"
   },
   {
    "duration": 11,
    "start_time": "2024-08-15T10:24:22.858Z"
   },
   {
    "duration": 5,
    "start_time": "2024-08-15T10:24:22.872Z"
   },
   {
    "duration": 10,
    "start_time": "2024-08-15T10:24:22.879Z"
   },
   {
    "duration": 45,
    "start_time": "2024-08-15T10:24:22.890Z"
   },
   {
    "duration": 66,
    "start_time": "2024-08-15T10:24:22.937Z"
   },
   {
    "duration": 16,
    "start_time": "2024-08-15T10:24:23.004Z"
   },
   {
    "duration": 7,
    "start_time": "2024-08-15T10:24:23.022Z"
   },
   {
    "duration": 9,
    "start_time": "2024-08-15T10:24:23.031Z"
   },
   {
    "duration": 8,
    "start_time": "2024-08-15T10:24:23.041Z"
   },
   {
    "duration": 205,
    "start_time": "2024-08-15T10:24:23.051Z"
   },
   {
    "duration": 4,
    "start_time": "2024-08-15T10:24:23.258Z"
   },
   {
    "duration": 155,
    "start_time": "2024-08-15T10:24:23.264Z"
   },
   {
    "duration": 5,
    "start_time": "2024-08-15T10:24:23.420Z"
   },
   {
    "duration": 204,
    "start_time": "2024-08-15T10:24:23.437Z"
   },
   {
    "duration": 97,
    "start_time": "2024-08-15T10:24:23.643Z"
   },
   {
    "duration": 164,
    "start_time": "2024-08-15T10:24:23.741Z"
   },
   {
    "duration": 8,
    "start_time": "2024-08-15T10:24:23.907Z"
   },
   {
    "duration": 5,
    "start_time": "2024-08-15T10:24:23.916Z"
   },
   {
    "duration": 263,
    "start_time": "2024-08-15T10:24:23.937Z"
   },
   {
    "duration": 196,
    "start_time": "2024-08-15T10:24:24.202Z"
   },
   {
    "duration": 281,
    "start_time": "2024-08-15T10:24:24.399Z"
   },
   {
    "duration": 8,
    "start_time": "2024-08-15T10:24:24.682Z"
   },
   {
    "duration": 273,
    "start_time": "2024-08-15T10:24:24.692Z"
   },
   {
    "duration": 12,
    "start_time": "2024-08-15T10:24:24.967Z"
   },
   {
    "duration": 31,
    "start_time": "2024-08-15T10:24:24.980Z"
   },
   {
    "duration": 109,
    "start_time": "2024-08-15T10:24:25.013Z"
   },
   {
    "duration": 266,
    "start_time": "2024-08-15T10:24:25.124Z"
   },
   {
    "duration": 8,
    "start_time": "2024-08-15T10:24:25.392Z"
   },
   {
    "duration": 19,
    "start_time": "2024-08-15T10:24:25.404Z"
   },
   {
    "duration": 23,
    "start_time": "2024-08-15T10:24:25.424Z"
   },
   {
    "duration": 23,
    "start_time": "2024-08-15T10:24:25.448Z"
   },
   {
    "duration": 31,
    "start_time": "2024-08-15T10:24:25.473Z"
   },
   {
    "duration": 31,
    "start_time": "2024-08-15T10:24:25.506Z"
   },
   {
    "duration": 8,
    "start_time": "2024-08-15T10:24:25.539Z"
   },
   {
    "duration": 14,
    "start_time": "2024-08-15T10:24:25.548Z"
   },
   {
    "duration": 7,
    "start_time": "2024-08-15T10:24:25.563Z"
   },
   {
    "duration": 36,
    "start_time": "2024-08-15T10:24:25.572Z"
   },
   {
    "duration": 5,
    "start_time": "2024-08-15T10:24:25.610Z"
   },
   {
    "duration": 31,
    "start_time": "2024-08-15T10:24:25.617Z"
   },
   {
    "duration": 5,
    "start_time": "2024-08-15T10:24:25.649Z"
   },
   {
    "duration": 21,
    "start_time": "2024-08-15T10:24:25.656Z"
   },
   {
    "duration": 428,
    "start_time": "2024-08-15T10:24:25.678Z"
   },
   {
    "duration": 7,
    "start_time": "2024-08-15T10:24:26.111Z"
   },
   {
    "duration": 18,
    "start_time": "2024-08-15T10:24:26.120Z"
   },
   {
    "duration": 485,
    "start_time": "2024-08-15T10:24:26.140Z"
   },
   {
    "duration": 11,
    "start_time": "2024-08-15T10:24:26.627Z"
   },
   {
    "duration": 39,
    "start_time": "2024-08-15T10:24:26.640Z"
   },
   {
    "duration": 6,
    "start_time": "2024-08-15T10:24:26.680Z"
   },
   {
    "duration": 15,
    "start_time": "2024-08-15T10:24:26.687Z"
   },
   {
    "duration": 28,
    "start_time": "2024-08-15T10:24:26.704Z"
   },
   {
    "duration": 3,
    "start_time": "2024-08-15T10:24:26.734Z"
   },
   {
    "duration": 10,
    "start_time": "2024-08-15T10:24:26.738Z"
   },
   {
    "duration": 14,
    "start_time": "2024-08-15T10:24:26.750Z"
   },
   {
    "duration": 7104,
    "start_time": "2024-08-15T10:24:26.766Z"
   },
   {
    "duration": 9,
    "start_time": "2024-08-15T10:24:33.872Z"
   },
   {
    "duration": 34,
    "start_time": "2024-08-15T10:24:33.882Z"
   },
   {
    "duration": 20,
    "start_time": "2024-08-15T10:24:33.918Z"
   },
   {
    "duration": 945,
    "start_time": "2024-08-15T10:24:33.940Z"
   },
   {
    "duration": 0,
    "start_time": "2024-08-15T10:24:34.887Z"
   },
   {
    "duration": 28,
    "start_time": "2024-08-15T10:26:23.807Z"
   },
   {
    "duration": 3,
    "start_time": "2024-08-15T10:26:26.055Z"
   },
   {
    "duration": 3,
    "start_time": "2024-08-15T10:26:28.252Z"
   },
   {
    "duration": 10,
    "start_time": "2024-08-15T10:26:29.848Z"
   },
   {
    "duration": 7326,
    "start_time": "2024-08-15T10:26:34.184Z"
   },
   {
    "duration": 14,
    "start_time": "2024-08-15T10:26:42.946Z"
   },
   {
    "duration": 879,
    "start_time": "2024-08-15T10:26:47.944Z"
   },
   {
    "duration": 989,
    "start_time": "2024-08-15T10:26:54.432Z"
   },
   {
    "duration": 1189,
    "start_time": "2024-08-15T10:26:56.515Z"
   },
   {
    "duration": 6,
    "start_time": "2024-08-15T10:27:40.476Z"
   },
   {
    "duration": 6,
    "start_time": "2024-08-15T10:27:55.366Z"
   },
   {
    "duration": 28,
    "start_time": "2024-08-15T10:28:10.439Z"
   },
   {
    "duration": 3,
    "start_time": "2024-08-15T10:28:11.761Z"
   },
   {
    "duration": 3,
    "start_time": "2024-08-15T10:28:13.256Z"
   },
   {
    "duration": 9,
    "start_time": "2024-08-15T10:28:14.809Z"
   },
   {
    "duration": 7214,
    "start_time": "2024-08-15T10:28:18.625Z"
   },
   {
    "duration": 10,
    "start_time": "2024-08-15T10:28:28.543Z"
   },
   {
    "duration": 6,
    "start_time": "2024-08-15T10:28:32.243Z"
   },
   {
    "duration": 5,
    "start_time": "2024-08-15T10:28:37.169Z"
   },
   {
    "duration": 7,
    "start_time": "2024-08-15T10:28:41.475Z"
   },
   {
    "duration": 7416,
    "start_time": "2024-08-15T10:29:24.647Z"
   },
   {
    "duration": 1075,
    "start_time": "2024-08-15T10:29:40.553Z"
   },
   {
    "duration": 1096,
    "start_time": "2024-08-15T10:29:48.923Z"
   },
   {
    "duration": 124,
    "start_time": "2024-08-15T10:29:50.021Z"
   },
   {
    "duration": 12,
    "start_time": "2024-08-15T10:29:50.147Z"
   },
   {
    "duration": 11,
    "start_time": "2024-08-15T10:29:50.160Z"
   },
   {
    "duration": 286,
    "start_time": "2024-08-15T10:29:50.173Z"
   },
   {
    "duration": 3,
    "start_time": "2024-08-15T10:29:50.461Z"
   },
   {
    "duration": 51,
    "start_time": "2024-08-15T10:29:50.465Z"
   },
   {
    "duration": 38,
    "start_time": "2024-08-15T10:29:50.517Z"
   },
   {
    "duration": 377,
    "start_time": "2024-08-15T10:29:50.556Z"
   },
   {
    "duration": 7,
    "start_time": "2024-08-15T10:29:50.934Z"
   },
   {
    "duration": 11,
    "start_time": "2024-08-15T10:29:50.942Z"
   },
   {
    "duration": 37,
    "start_time": "2024-08-15T10:29:50.954Z"
   },
   {
    "duration": 39,
    "start_time": "2024-08-15T10:29:50.992Z"
   },
   {
    "duration": 16,
    "start_time": "2024-08-15T10:29:51.033Z"
   },
   {
    "duration": 16,
    "start_time": "2024-08-15T10:29:51.050Z"
   },
   {
    "duration": 22,
    "start_time": "2024-08-15T10:29:51.067Z"
   },
   {
    "duration": 27,
    "start_time": "2024-08-15T10:29:51.091Z"
   },
   {
    "duration": 38,
    "start_time": "2024-08-15T10:29:51.119Z"
   },
   {
    "duration": 5,
    "start_time": "2024-08-15T10:29:51.159Z"
   },
   {
    "duration": 12,
    "start_time": "2024-08-15T10:29:51.165Z"
   },
   {
    "duration": 30,
    "start_time": "2024-08-15T10:29:51.178Z"
   },
   {
    "duration": 246,
    "start_time": "2024-08-15T10:29:51.210Z"
   },
   {
    "duration": 5,
    "start_time": "2024-08-15T10:29:51.458Z"
   },
   {
    "duration": 163,
    "start_time": "2024-08-15T10:29:51.464Z"
   },
   {
    "duration": 9,
    "start_time": "2024-08-15T10:29:51.628Z"
   },
   {
    "duration": 176,
    "start_time": "2024-08-15T10:29:51.639Z"
   },
   {
    "duration": 99,
    "start_time": "2024-08-15T10:29:51.816Z"
   },
   {
    "duration": 168,
    "start_time": "2024-08-15T10:29:51.916Z"
   },
   {
    "duration": 7,
    "start_time": "2024-08-15T10:29:52.085Z"
   },
   {
    "duration": 48,
    "start_time": "2024-08-15T10:29:52.093Z"
   },
   {
    "duration": 277,
    "start_time": "2024-08-15T10:29:52.143Z"
   },
   {
    "duration": 174,
    "start_time": "2024-08-15T10:29:52.422Z"
   },
   {
    "duration": 259,
    "start_time": "2024-08-15T10:29:52.597Z"
   },
   {
    "duration": 7,
    "start_time": "2024-08-15T10:29:52.858Z"
   },
   {
    "duration": 276,
    "start_time": "2024-08-15T10:29:52.867Z"
   },
   {
    "duration": 12,
    "start_time": "2024-08-15T10:29:53.144Z"
   },
   {
    "duration": 24,
    "start_time": "2024-08-15T10:29:53.157Z"
   },
   {
    "duration": 125,
    "start_time": "2024-08-15T10:29:53.183Z"
   },
   {
    "duration": 294,
    "start_time": "2024-08-15T10:29:53.310Z"
   },
   {
    "duration": 8,
    "start_time": "2024-08-15T10:29:53.605Z"
   },
   {
    "duration": 21,
    "start_time": "2024-08-15T10:29:53.617Z"
   },
   {
    "duration": 15,
    "start_time": "2024-08-15T10:29:53.639Z"
   },
   {
    "duration": 22,
    "start_time": "2024-08-15T10:29:53.655Z"
   },
   {
    "duration": 29,
    "start_time": "2024-08-15T10:29:53.678Z"
   },
   {
    "duration": 32,
    "start_time": "2024-08-15T10:29:53.708Z"
   },
   {
    "duration": 7,
    "start_time": "2024-08-15T10:29:53.741Z"
   },
   {
    "duration": 24,
    "start_time": "2024-08-15T10:29:53.750Z"
   },
   {
    "duration": 37,
    "start_time": "2024-08-15T10:29:53.776Z"
   },
   {
    "duration": 45,
    "start_time": "2024-08-15T10:29:53.814Z"
   },
   {
    "duration": 15,
    "start_time": "2024-08-15T10:29:53.860Z"
   },
   {
    "duration": 60,
    "start_time": "2024-08-15T10:29:53.876Z"
   },
   {
    "duration": 38,
    "start_time": "2024-08-15T10:29:53.937Z"
   },
   {
    "duration": 28,
    "start_time": "2024-08-15T10:29:53.976Z"
   },
   {
    "duration": 396,
    "start_time": "2024-08-15T10:29:54.006Z"
   },
   {
    "duration": 6,
    "start_time": "2024-08-15T10:29:54.404Z"
   },
   {
    "duration": 36,
    "start_time": "2024-08-15T10:29:54.412Z"
   },
   {
    "duration": 534,
    "start_time": "2024-08-15T10:29:54.449Z"
   },
   {
    "duration": 7,
    "start_time": "2024-08-15T10:29:54.984Z"
   },
   {
    "duration": 28,
    "start_time": "2024-08-15T10:29:54.992Z"
   },
   {
    "duration": 27,
    "start_time": "2024-08-15T10:29:55.022Z"
   },
   {
    "duration": 22,
    "start_time": "2024-08-15T10:29:55.051Z"
   },
   {
    "duration": 44,
    "start_time": "2024-08-15T10:29:55.074Z"
   },
   {
    "duration": 18,
    "start_time": "2024-08-15T10:29:55.120Z"
   },
   {
    "duration": 19,
    "start_time": "2024-08-15T10:29:55.140Z"
   },
   {
    "duration": 22,
    "start_time": "2024-08-15T10:29:55.160Z"
   },
   {
    "duration": 7035,
    "start_time": "2024-08-15T10:29:55.183Z"
   },
   {
    "duration": 10,
    "start_time": "2024-08-15T10:30:02.220Z"
   },
   {
    "duration": 58,
    "start_time": "2024-08-15T10:30:02.238Z"
   },
   {
    "duration": 38,
    "start_time": "2024-08-15T10:30:02.297Z"
   },
   {
    "duration": 35,
    "start_time": "2024-08-15T10:30:02.337Z"
   },
   {
    "duration": 49,
    "start_time": "2024-08-15T10:30:02.374Z"
   },
   {
    "duration": 5,
    "start_time": "2024-08-15T10:41:27.652Z"
   },
   {
    "duration": 83,
    "start_time": "2024-08-15T10:41:27.659Z"
   },
   {
    "duration": 9,
    "start_time": "2024-08-15T10:41:27.744Z"
   },
   {
    "duration": 22,
    "start_time": "2024-08-15T10:41:27.754Z"
   },
   {
    "duration": 339,
    "start_time": "2024-08-15T10:41:27.778Z"
   },
   {
    "duration": 4,
    "start_time": "2024-08-15T10:41:28.119Z"
   },
   {
    "duration": 28,
    "start_time": "2024-08-15T10:41:28.124Z"
   },
   {
    "duration": 28,
    "start_time": "2024-08-15T10:41:28.153Z"
   },
   {
    "duration": 364,
    "start_time": "2024-08-15T10:41:28.183Z"
   },
   {
    "duration": 7,
    "start_time": "2024-08-15T10:41:28.548Z"
   },
   {
    "duration": 61,
    "start_time": "2024-08-15T10:41:28.556Z"
   },
   {
    "duration": 23,
    "start_time": "2024-08-15T10:41:28.619Z"
   },
   {
    "duration": 10,
    "start_time": "2024-08-15T10:41:28.643Z"
   },
   {
    "duration": 14,
    "start_time": "2024-08-15T10:41:28.654Z"
   },
   {
    "duration": 13,
    "start_time": "2024-08-15T10:41:28.670Z"
   },
   {
    "duration": 11,
    "start_time": "2024-08-15T10:41:28.684Z"
   },
   {
    "duration": 26,
    "start_time": "2024-08-15T10:41:28.696Z"
   },
   {
    "duration": 33,
    "start_time": "2024-08-15T10:41:28.724Z"
   },
   {
    "duration": 27,
    "start_time": "2024-08-15T10:41:28.759Z"
   },
   {
    "duration": 25,
    "start_time": "2024-08-15T10:41:28.788Z"
   },
   {
    "duration": 32,
    "start_time": "2024-08-15T10:41:28.815Z"
   },
   {
    "duration": 197,
    "start_time": "2024-08-15T10:41:28.849Z"
   },
   {
    "duration": 5,
    "start_time": "2024-08-15T10:41:29.047Z"
   },
   {
    "duration": 167,
    "start_time": "2024-08-15T10:41:29.054Z"
   },
   {
    "duration": 5,
    "start_time": "2024-08-15T10:41:29.223Z"
   },
   {
    "duration": 196,
    "start_time": "2024-08-15T10:41:29.230Z"
   },
   {
    "duration": 239,
    "start_time": "2024-08-15T10:41:29.428Z"
   },
   {
    "duration": 162,
    "start_time": "2024-08-15T10:41:29.669Z"
   },
   {
    "duration": 8,
    "start_time": "2024-08-15T10:41:29.836Z"
   },
   {
    "duration": 35,
    "start_time": "2024-08-15T10:41:29.845Z"
   },
   {
    "duration": 268,
    "start_time": "2024-08-15T10:41:29.882Z"
   },
   {
    "duration": 121,
    "start_time": "2024-08-15T10:41:30.151Z"
   },
   {
    "duration": 254,
    "start_time": "2024-08-15T10:41:30.273Z"
   },
   {
    "duration": 13,
    "start_time": "2024-08-15T10:41:30.529Z"
   },
   {
    "duration": 332,
    "start_time": "2024-08-15T10:41:30.543Z"
   },
   {
    "duration": 12,
    "start_time": "2024-08-15T10:41:30.876Z"
   },
   {
    "duration": 329,
    "start_time": "2024-08-15T10:41:30.889Z"
   },
   {
    "duration": 389,
    "start_time": "2024-08-15T10:41:31.220Z"
   },
   {
    "duration": 402,
    "start_time": "2024-08-15T10:41:31.611Z"
   },
   {
    "duration": 8,
    "start_time": "2024-08-15T10:41:32.014Z"
   },
   {
    "duration": 35,
    "start_time": "2024-08-15T10:41:32.023Z"
   },
   {
    "duration": 117,
    "start_time": "2024-08-15T10:41:32.060Z"
   },
   {
    "duration": 121,
    "start_time": "2024-08-15T10:41:32.179Z"
   },
   {
    "duration": 29,
    "start_time": "2024-08-15T10:41:32.302Z"
   },
   {
    "duration": 12,
    "start_time": "2024-08-15T10:41:32.332Z"
   },
   {
    "duration": 32,
    "start_time": "2024-08-15T10:41:32.346Z"
   },
   {
    "duration": 14,
    "start_time": "2024-08-15T10:41:32.380Z"
   },
   {
    "duration": 23,
    "start_time": "2024-08-15T10:41:32.395Z"
   },
   {
    "duration": 44,
    "start_time": "2024-08-15T10:41:32.419Z"
   },
   {
    "duration": 6,
    "start_time": "2024-08-15T10:41:32.464Z"
   },
   {
    "duration": 24,
    "start_time": "2024-08-15T10:41:32.477Z"
   },
   {
    "duration": 88,
    "start_time": "2024-08-15T10:41:32.503Z"
   },
   {
    "duration": 60,
    "start_time": "2024-08-15T10:41:32.593Z"
   },
   {
    "duration": 418,
    "start_time": "2024-08-15T10:41:32.655Z"
   },
   {
    "duration": 7,
    "start_time": "2024-08-15T10:41:33.075Z"
   },
   {
    "duration": 6,
    "start_time": "2024-08-15T10:41:33.084Z"
   },
   {
    "duration": 435,
    "start_time": "2024-08-15T10:41:33.091Z"
   },
   {
    "duration": 13,
    "start_time": "2024-08-15T10:41:33.529Z"
   },
   {
    "duration": 7,
    "start_time": "2024-08-15T10:41:33.543Z"
   },
   {
    "duration": 5,
    "start_time": "2024-08-15T10:41:33.552Z"
   },
   {
    "duration": 3,
    "start_time": "2024-08-15T10:41:33.559Z"
   },
   {
    "duration": 45,
    "start_time": "2024-08-15T10:41:33.563Z"
   },
   {
    "duration": 3,
    "start_time": "2024-08-15T10:41:33.610Z"
   },
   {
    "duration": 5,
    "start_time": "2024-08-15T10:41:33.614Z"
   },
   {
    "duration": 28,
    "start_time": "2024-08-15T10:41:33.620Z"
   },
   {
    "duration": 7175,
    "start_time": "2024-08-15T10:41:33.650Z"
   },
   {
    "duration": 14,
    "start_time": "2024-08-15T10:41:40.827Z"
   },
   {
    "duration": 14,
    "start_time": "2024-08-15T10:41:40.843Z"
   },
   {
    "duration": 4,
    "start_time": "2024-08-15T10:41:40.859Z"
   },
   {
    "duration": 6,
    "start_time": "2024-08-15T10:41:40.865Z"
   },
   {
    "duration": 6,
    "start_time": "2024-08-15T10:41:40.872Z"
   },
   {
    "duration": 47,
    "start_time": "2024-08-15T20:14:47.871Z"
   },
   {
    "duration": 1185,
    "start_time": "2024-08-15T20:14:53.915Z"
   },
   {
    "duration": 459,
    "start_time": "2024-08-15T20:14:55.102Z"
   },
   {
    "duration": 12,
    "start_time": "2024-08-15T20:14:55.563Z"
   },
   {
    "duration": 22,
    "start_time": "2024-08-15T20:14:55.577Z"
   },
   {
    "duration": 289,
    "start_time": "2024-08-15T20:14:55.600Z"
   },
   {
    "duration": 4,
    "start_time": "2024-08-15T20:14:55.890Z"
   },
   {
    "duration": 14,
    "start_time": "2024-08-15T20:14:55.895Z"
   },
   {
    "duration": 9,
    "start_time": "2024-08-15T20:14:55.911Z"
   },
   {
    "duration": 381,
    "start_time": "2024-08-15T20:14:55.922Z"
   },
   {
    "duration": 6,
    "start_time": "2024-08-15T20:14:56.306Z"
   },
   {
    "duration": 12,
    "start_time": "2024-08-15T20:14:56.313Z"
   },
   {
    "duration": 13,
    "start_time": "2024-08-15T20:14:56.327Z"
   },
   {
    "duration": 5,
    "start_time": "2024-08-15T20:14:56.341Z"
   },
   {
    "duration": 6,
    "start_time": "2024-08-15T20:14:56.347Z"
   },
   {
    "duration": 29,
    "start_time": "2024-08-15T20:14:56.354Z"
   },
   {
    "duration": 10,
    "start_time": "2024-08-15T20:14:56.384Z"
   },
   {
    "duration": 5,
    "start_time": "2024-08-15T20:14:56.395Z"
   },
   {
    "duration": 6,
    "start_time": "2024-08-15T20:14:56.401Z"
   },
   {
    "duration": 14,
    "start_time": "2024-08-15T20:14:56.409Z"
   },
   {
    "duration": 7,
    "start_time": "2024-08-15T20:14:56.424Z"
   },
   {
    "duration": 24,
    "start_time": "2024-08-15T20:14:56.432Z"
   },
   {
    "duration": 209,
    "start_time": "2024-08-15T20:14:56.457Z"
   },
   {
    "duration": 5,
    "start_time": "2024-08-15T20:14:56.667Z"
   },
   {
    "duration": 154,
    "start_time": "2024-08-15T20:14:56.682Z"
   },
   {
    "duration": 5,
    "start_time": "2024-08-15T20:14:56.838Z"
   },
   {
    "duration": 176,
    "start_time": "2024-08-15T20:14:56.844Z"
   },
   {
    "duration": 103,
    "start_time": "2024-08-15T20:14:57.021Z"
   },
   {
    "duration": 174,
    "start_time": "2024-08-15T20:14:57.127Z"
   },
   {
    "duration": 7,
    "start_time": "2024-08-15T20:14:57.303Z"
   },
   {
    "duration": 20,
    "start_time": "2024-08-15T20:14:57.312Z"
   },
   {
    "duration": 275,
    "start_time": "2024-08-15T20:14:57.334Z"
   },
   {
    "duration": 178,
    "start_time": "2024-08-15T20:14:57.611Z"
   },
   {
    "duration": 250,
    "start_time": "2024-08-15T20:14:57.791Z"
   },
   {
    "duration": 8,
    "start_time": "2024-08-15T20:14:58.043Z"
   },
   {
    "duration": 272,
    "start_time": "2024-08-15T20:14:58.052Z"
   },
   {
    "duration": 11,
    "start_time": "2024-08-15T20:14:58.325Z"
   },
   {
    "duration": 14,
    "start_time": "2024-08-15T20:14:58.337Z"
   },
   {
    "duration": 132,
    "start_time": "2024-08-15T20:14:58.352Z"
   },
   {
    "duration": 263,
    "start_time": "2024-08-15T20:14:58.486Z"
   },
   {
    "duration": 8,
    "start_time": "2024-08-15T20:14:58.750Z"
   },
   {
    "duration": 26,
    "start_time": "2024-08-15T20:14:58.760Z"
   },
   {
    "duration": 16,
    "start_time": "2024-08-15T20:14:58.787Z"
   },
   {
    "duration": 22,
    "start_time": "2024-08-15T20:14:58.804Z"
   },
   {
    "duration": 55,
    "start_time": "2024-08-15T20:14:58.829Z"
   },
   {
    "duration": 13,
    "start_time": "2024-08-15T20:14:58.885Z"
   },
   {
    "duration": 6,
    "start_time": "2024-08-15T20:14:58.900Z"
   },
   {
    "duration": 11,
    "start_time": "2024-08-15T20:14:58.908Z"
   },
   {
    "duration": 10,
    "start_time": "2024-08-15T20:14:58.920Z"
   },
   {
    "duration": 54,
    "start_time": "2024-08-15T20:14:58.932Z"
   },
   {
    "duration": 5,
    "start_time": "2024-08-15T20:14:58.987Z"
   },
   {
    "duration": 14,
    "start_time": "2024-08-15T20:14:58.994Z"
   },
   {
    "duration": 7,
    "start_time": "2024-08-15T20:14:59.009Z"
   },
   {
    "duration": 19,
    "start_time": "2024-08-15T20:14:59.017Z"
   },
   {
    "duration": 411,
    "start_time": "2024-08-15T20:14:59.037Z"
   },
   {
    "duration": 6,
    "start_time": "2024-08-15T20:14:59.450Z"
   },
   {
    "duration": 6,
    "start_time": "2024-08-15T20:14:59.458Z"
   },
   {
    "duration": 470,
    "start_time": "2024-08-15T20:14:59.482Z"
   },
   {
    "duration": 6,
    "start_time": "2024-08-15T20:14:59.954Z"
   },
   {
    "duration": 23,
    "start_time": "2024-08-15T20:14:59.962Z"
   },
   {
    "duration": 6,
    "start_time": "2024-08-15T20:14:59.986Z"
   },
   {
    "duration": 7,
    "start_time": "2024-08-15T20:14:59.993Z"
   },
   {
    "duration": 44,
    "start_time": "2024-08-15T20:15:00.001Z"
   },
   {
    "duration": 8,
    "start_time": "2024-08-15T20:15:00.047Z"
   },
   {
    "duration": 9,
    "start_time": "2024-08-15T20:15:00.056Z"
   },
   {
    "duration": 31,
    "start_time": "2024-08-15T20:15:00.067Z"
   },
   {
    "duration": 6689,
    "start_time": "2024-08-15T20:15:00.100Z"
   },
   {
    "duration": 9,
    "start_time": "2024-08-15T20:15:06.791Z"
   },
   {
    "duration": 19,
    "start_time": "2024-08-15T20:15:06.802Z"
   },
   {
    "duration": 18,
    "start_time": "2024-08-15T20:15:06.823Z"
   },
   {
    "duration": 10,
    "start_time": "2024-08-15T20:15:06.842Z"
   },
   {
    "duration": 5,
    "start_time": "2024-08-15T20:15:06.854Z"
   },
   {
    "duration": 164,
    "start_time": "2024-08-15T20:15:46.185Z"
   },
   {
    "duration": 97,
    "start_time": "2024-08-15T20:17:23.108Z"
   },
   {
    "duration": 137,
    "start_time": "2024-08-15T20:17:52.617Z"
   },
   {
    "duration": 134,
    "start_time": "2024-08-15T20:18:04.396Z"
   },
   {
    "duration": 169,
    "start_time": "2024-08-15T20:18:27.178Z"
   },
   {
    "duration": 993,
    "start_time": "2024-08-15T20:28:35.447Z"
   },
   {
    "duration": 129,
    "start_time": "2024-08-15T20:28:36.442Z"
   },
   {
    "duration": 11,
    "start_time": "2024-08-15T20:28:36.572Z"
   },
   {
    "duration": 11,
    "start_time": "2024-08-15T20:28:36.585Z"
   },
   {
    "duration": 278,
    "start_time": "2024-08-15T20:28:36.597Z"
   },
   {
    "duration": 7,
    "start_time": "2024-08-15T20:28:36.876Z"
   },
   {
    "duration": 40,
    "start_time": "2024-08-15T20:28:36.884Z"
   },
   {
    "duration": 23,
    "start_time": "2024-08-15T20:28:36.926Z"
   },
   {
    "duration": 352,
    "start_time": "2024-08-15T20:28:36.950Z"
   },
   {
    "duration": 7,
    "start_time": "2024-08-15T20:28:37.305Z"
   },
   {
    "duration": 40,
    "start_time": "2024-08-15T20:28:37.313Z"
   },
   {
    "duration": 5,
    "start_time": "2024-08-15T20:28:37.355Z"
   },
   {
    "duration": 4,
    "start_time": "2024-08-15T20:28:37.362Z"
   },
   {
    "duration": 3,
    "start_time": "2024-08-15T20:28:37.367Z"
   },
   {
    "duration": 10,
    "start_time": "2024-08-15T20:28:37.372Z"
   },
   {
    "duration": 7,
    "start_time": "2024-08-15T20:28:37.384Z"
   },
   {
    "duration": 23,
    "start_time": "2024-08-15T20:28:37.392Z"
   },
   {
    "duration": 7,
    "start_time": "2024-08-15T20:28:37.417Z"
   },
   {
    "duration": 4,
    "start_time": "2024-08-15T20:28:37.426Z"
   },
   {
    "duration": 4,
    "start_time": "2024-08-15T20:28:37.431Z"
   },
   {
    "duration": 8,
    "start_time": "2024-08-15T20:28:37.436Z"
   },
   {
    "duration": 195,
    "start_time": "2024-08-15T20:28:37.446Z"
   },
   {
    "duration": 5,
    "start_time": "2024-08-15T20:28:37.643Z"
   },
   {
    "duration": 157,
    "start_time": "2024-08-15T20:28:37.650Z"
   },
   {
    "duration": 5,
    "start_time": "2024-08-15T20:28:37.809Z"
   },
   {
    "duration": 175,
    "start_time": "2024-08-15T20:28:37.815Z"
   },
   {
    "duration": 101,
    "start_time": "2024-08-15T20:28:37.991Z"
   },
   {
    "duration": 174,
    "start_time": "2024-08-15T20:28:38.097Z"
   },
   {
    "duration": 10,
    "start_time": "2024-08-15T20:28:38.272Z"
   },
   {
    "duration": 6,
    "start_time": "2024-08-15T20:28:38.283Z"
   },
   {
    "duration": 273,
    "start_time": "2024-08-15T20:28:38.290Z"
   },
   {
    "duration": 180,
    "start_time": "2024-08-15T20:28:38.564Z"
   },
   {
    "duration": 261,
    "start_time": "2024-08-15T20:28:38.745Z"
   },
   {
    "duration": 10,
    "start_time": "2024-08-15T20:28:39.008Z"
   },
   {
    "duration": 259,
    "start_time": "2024-08-15T20:28:39.019Z"
   },
   {
    "duration": 12,
    "start_time": "2024-08-15T20:28:39.281Z"
   },
   {
    "duration": 13,
    "start_time": "2024-08-15T20:28:39.294Z"
   },
   {
    "duration": 128,
    "start_time": "2024-08-15T20:28:39.309Z"
   },
   {
    "duration": 257,
    "start_time": "2024-08-15T20:28:39.439Z"
   },
   {
    "duration": 7,
    "start_time": "2024-08-15T20:28:39.698Z"
   },
   {
    "duration": 20,
    "start_time": "2024-08-15T20:28:39.707Z"
   },
   {
    "duration": 16,
    "start_time": "2024-08-15T20:28:39.728Z"
   },
   {
    "duration": 42,
    "start_time": "2024-08-15T20:28:39.745Z"
   },
   {
    "duration": 28,
    "start_time": "2024-08-15T20:28:39.788Z"
   },
   {
    "duration": 16,
    "start_time": "2024-08-15T20:28:39.818Z"
   },
   {
    "duration": 7,
    "start_time": "2024-08-15T20:28:39.836Z"
   },
   {
    "duration": 39,
    "start_time": "2024-08-15T20:28:39.844Z"
   },
   {
    "duration": 7,
    "start_time": "2024-08-15T20:28:39.885Z"
   },
   {
    "duration": 23,
    "start_time": "2024-08-15T20:28:39.893Z"
   },
   {
    "duration": 5,
    "start_time": "2024-08-15T20:28:39.917Z"
   },
   {
    "duration": 19,
    "start_time": "2024-08-15T20:28:39.924Z"
   },
   {
    "duration": 15,
    "start_time": "2024-08-15T20:28:39.945Z"
   },
   {
    "duration": 28,
    "start_time": "2024-08-15T20:28:39.962Z"
   },
   {
    "duration": 431,
    "start_time": "2024-08-15T20:28:39.992Z"
   },
   {
    "duration": 7,
    "start_time": "2024-08-15T20:28:40.424Z"
   },
   {
    "duration": 6,
    "start_time": "2024-08-15T20:28:40.432Z"
   },
   {
    "duration": 499,
    "start_time": "2024-08-15T20:28:40.440Z"
   },
   {
    "duration": 7,
    "start_time": "2024-08-15T20:28:40.941Z"
   },
   {
    "duration": 15,
    "start_time": "2024-08-15T20:28:40.949Z"
   },
   {
    "duration": 20,
    "start_time": "2024-08-15T20:28:40.965Z"
   },
   {
    "duration": 4,
    "start_time": "2024-08-15T20:28:40.986Z"
   },
   {
    "duration": 32,
    "start_time": "2024-08-15T20:28:40.991Z"
   },
   {
    "duration": 3,
    "start_time": "2024-08-15T20:28:41.025Z"
   },
   {
    "duration": 4,
    "start_time": "2024-08-15T20:28:41.030Z"
   },
   {
    "duration": 17,
    "start_time": "2024-08-15T20:28:41.036Z"
   },
   {
    "duration": 6636,
    "start_time": "2024-08-15T20:28:41.055Z"
   },
   {
    "duration": 10,
    "start_time": "2024-08-15T20:28:47.692Z"
   },
   {
    "duration": 6,
    "start_time": "2024-08-15T20:28:47.703Z"
   },
   {
    "duration": 5,
    "start_time": "2024-08-15T20:28:47.710Z"
   },
   {
    "duration": 16,
    "start_time": "2024-08-15T20:28:47.716Z"
   },
   {
    "duration": 5,
    "start_time": "2024-08-15T20:28:47.733Z"
   }
  ],
  "kernelspec": {
   "display_name": "Python [conda env:base] *",
   "language": "python",
   "name": "conda-base-py"
  },
  "language_info": {
   "codemirror_mode": {
    "name": "ipython",
    "version": 3
   },
   "file_extension": ".py",
   "mimetype": "text/x-python",
   "name": "python",
   "nbconvert_exporter": "python",
   "pygments_lexer": "ipython3",
   "version": "3.11.7"
  },
  "toc": {
   "base_numbering": 1,
   "nav_menu": {},
   "number_sections": true,
   "sideBar": true,
   "skip_h1_title": true,
   "title_cell": "Table of Contents",
   "title_sidebar": "Contents",
   "toc_cell": false,
   "toc_position": {
    "height": "calc(100% - 180px)",
    "left": "10px",
    "top": "150px",
    "width": "165px"
   },
   "toc_section_display": true,
   "toc_window_display": true
  }
 },
 "nbformat": 4,
 "nbformat_minor": 5
}
