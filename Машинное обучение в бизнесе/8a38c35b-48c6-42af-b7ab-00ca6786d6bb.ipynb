{
 "cells": [
  {
   "cell_type": "markdown",
   "metadata": {},
   "source": [
    "# Выбор локации для скважины"
   ]
  },
  {
   "cell_type": "markdown",
   "metadata": {},
   "source": [
    "Допустим, вы работаете в добывающей компании «ГлавРосГосНефть». Нужно решить, где бурить новую скважину.\n",
    "\n",
    "Вам предоставлены пробы нефти в трёх регионах: в каждом 10 000 месторождений, где измерили качество нефти и объём её запасов. Постройте модель машинного обучения, которая поможет определить регион, где добыча принесёт наибольшую прибыль. Проанализируйте возможную прибыль и риски техникой *Bootstrap.*\n",
    "\n",
    "Шаги для выбора локации:\n",
    "\n",
    "- В избранном регионе ищут месторождения, для каждого определяют значения признаков;\n",
    "- Строят модель и оценивают объём запасов;\n",
    "- Выбирают месторождения с самым высокими оценками значений. Количество месторождений зависит от бюджета компании и стоимости разработки одной скважины;\n",
    "- Прибыль равна суммарной прибыли отобранных месторождений."
   ]
  },
  {
   "cell_type": "markdown",
   "metadata": {},
   "source": [
    "# Описание данных\n",
    "Данные геологоразведки трёх регионов находятся в файлах: \n",
    "* /datasets/geo_data_0.csv\n",
    "* /datasets/geo_data_1.csv\n",
    "* /datasets/geo_data_2.csv"
   ]
  },
  {
   "cell_type": "markdown",
   "metadata": {},
   "source": [
    "* id — уникальный идентификатор скважины;\n",
    "* f0, f1, f2 — три признака точек (неважно, что они означают, но сами признаки значимы);\n",
    "* product — объём запасов в скважине (тыс. баррелей)."
   ]
  },
  {
   "cell_type": "markdown",
   "metadata": {},
   "source": [
    "## Загрузка и подготовка данных"
   ]
  },
  {
   "cell_type": "code",
   "execution_count": 1,
   "metadata": {},
   "outputs": [],
   "source": [
    "!pip install -q phik"
   ]
  },
  {
   "cell_type": "code",
   "execution_count": 2,
   "metadata": {},
   "outputs": [],
   "source": [
    "from scipy import stats as st\n",
    "\n",
    "import matplotlib\n",
    "import math\n",
    "import matplotlib.pyplot as plt\n",
    "import numpy as np\n",
    "import pandas as pd\n",
    "import seaborn as sns\n",
    "from phik import phik_matrix\n",
    "from phik.report import plot_correlation_matrix\n",
    "from sklearn.compose import ColumnTransformer\n",
    "from sklearn.impute import SimpleImputer\n",
    "from sklearn.linear_model import LinearRegression, LogisticRegression, Ridge, Lasso, ElasticNet\n",
    "\n",
    "from sklearn.metrics import (\n",
    "    accuracy_score,\n",
    "    confusion_matrix,\n",
    "    f1_score,\n",
    "    mean_absolute_error,\n",
    "    mean_squared_error,\n",
    "    precision_score,\n",
    "    recall_score,\n",
    "    r2_score,\n",
    "    roc_auc_score,\n",
    "    roc_curve,\n",
    "    RocCurveDisplay,\n",
    "    make_scorer\n",
    ")\n",
    "from sklearn.model_selection import RandomizedSearchCV, train_test_split, GridSearchCV\n",
    "from sklearn.neighbors import KNeighborsClassifier\n",
    "from sklearn.pipeline import Pipeline\n",
    "from sklearn.preprocessing import (\n",
    "    LabelEncoder,\n",
    "    MinMaxScaler,\n",
    "    OneHotEncoder,\n",
    "    OrdinalEncoder,\n",
    "    StandardScaler,\n",
    ")\n",
    "from sklearn.svm import SVC, SVR\n",
    "from sklearn.tree import DecisionTreeClassifier, DecisionTreeRegressor"
   ]
  },
  {
   "cell_type": "code",
   "execution_count": 3,
   "metadata": {},
   "outputs": [],
   "source": [
    "RANDOM_STATE = 42"
   ]
  },
  {
   "cell_type": "code",
   "execution_count": 4,
   "metadata": {},
   "outputs": [],
   "source": [
    "data_geo1 = pd.read_csv(\"/datasets/geo_data_0.csv\")\n",
    "data_geo2 = pd.read_csv(\"/datasets/geo_data_1.csv\")\n",
    "data_geo3 = pd.read_csv(\"/datasets/geo_data_2.csv\")"
   ]
  },
  {
   "cell_type": "code",
   "execution_count": 5,
   "metadata": {},
   "outputs": [
    {
     "data": {
      "text/html": [
       "<div>\n",
       "<style scoped>\n",
       "    .dataframe tbody tr th:only-of-type {\n",
       "        vertical-align: middle;\n",
       "    }\n",
       "\n",
       "    .dataframe tbody tr th {\n",
       "        vertical-align: top;\n",
       "    }\n",
       "\n",
       "    .dataframe thead th {\n",
       "        text-align: right;\n",
       "    }\n",
       "</style>\n",
       "<table border=\"1\" class=\"dataframe\">\n",
       "  <thead>\n",
       "    <tr style=\"text-align: right;\">\n",
       "      <th></th>\n",
       "      <th>id</th>\n",
       "      <th>f0</th>\n",
       "      <th>f1</th>\n",
       "      <th>f2</th>\n",
       "      <th>product</th>\n",
       "    </tr>\n",
       "  </thead>\n",
       "  <tbody>\n",
       "    <tr>\n",
       "      <th>0</th>\n",
       "      <td>txEyH</td>\n",
       "      <td>0.705745</td>\n",
       "      <td>-0.497823</td>\n",
       "      <td>1.221170</td>\n",
       "      <td>105.280062</td>\n",
       "    </tr>\n",
       "    <tr>\n",
       "      <th>1</th>\n",
       "      <td>2acmU</td>\n",
       "      <td>1.334711</td>\n",
       "      <td>-0.340164</td>\n",
       "      <td>4.365080</td>\n",
       "      <td>73.037750</td>\n",
       "    </tr>\n",
       "    <tr>\n",
       "      <th>2</th>\n",
       "      <td>409Wp</td>\n",
       "      <td>1.022732</td>\n",
       "      <td>0.151990</td>\n",
       "      <td>1.419926</td>\n",
       "      <td>85.265647</td>\n",
       "    </tr>\n",
       "    <tr>\n",
       "      <th>3</th>\n",
       "      <td>iJLyR</td>\n",
       "      <td>-0.032172</td>\n",
       "      <td>0.139033</td>\n",
       "      <td>2.978566</td>\n",
       "      <td>168.620776</td>\n",
       "    </tr>\n",
       "    <tr>\n",
       "      <th>4</th>\n",
       "      <td>Xdl7t</td>\n",
       "      <td>1.988431</td>\n",
       "      <td>0.155413</td>\n",
       "      <td>4.751769</td>\n",
       "      <td>154.036647</td>\n",
       "    </tr>\n",
       "  </tbody>\n",
       "</table>\n",
       "</div>"
      ],
      "text/plain": [
       "      id        f0        f1        f2     product\n",
       "0  txEyH  0.705745 -0.497823  1.221170  105.280062\n",
       "1  2acmU  1.334711 -0.340164  4.365080   73.037750\n",
       "2  409Wp  1.022732  0.151990  1.419926   85.265647\n",
       "3  iJLyR -0.032172  0.139033  2.978566  168.620776\n",
       "4  Xdl7t  1.988431  0.155413  4.751769  154.036647"
      ]
     },
     "metadata": {},
     "output_type": "display_data"
    },
    {
     "data": {
      "text/html": [
       "<div>\n",
       "<style scoped>\n",
       "    .dataframe tbody tr th:only-of-type {\n",
       "        vertical-align: middle;\n",
       "    }\n",
       "\n",
       "    .dataframe tbody tr th {\n",
       "        vertical-align: top;\n",
       "    }\n",
       "\n",
       "    .dataframe thead th {\n",
       "        text-align: right;\n",
       "    }\n",
       "</style>\n",
       "<table border=\"1\" class=\"dataframe\">\n",
       "  <thead>\n",
       "    <tr style=\"text-align: right;\">\n",
       "      <th></th>\n",
       "      <th>id</th>\n",
       "      <th>f0</th>\n",
       "      <th>f1</th>\n",
       "      <th>f2</th>\n",
       "      <th>product</th>\n",
       "    </tr>\n",
       "  </thead>\n",
       "  <tbody>\n",
       "    <tr>\n",
       "      <th>0</th>\n",
       "      <td>kBEdx</td>\n",
       "      <td>-15.001348</td>\n",
       "      <td>-8.276000</td>\n",
       "      <td>-0.005876</td>\n",
       "      <td>3.179103</td>\n",
       "    </tr>\n",
       "    <tr>\n",
       "      <th>1</th>\n",
       "      <td>62mP7</td>\n",
       "      <td>14.272088</td>\n",
       "      <td>-3.475083</td>\n",
       "      <td>0.999183</td>\n",
       "      <td>26.953261</td>\n",
       "    </tr>\n",
       "    <tr>\n",
       "      <th>2</th>\n",
       "      <td>vyE1P</td>\n",
       "      <td>6.263187</td>\n",
       "      <td>-5.948386</td>\n",
       "      <td>5.001160</td>\n",
       "      <td>134.766305</td>\n",
       "    </tr>\n",
       "    <tr>\n",
       "      <th>3</th>\n",
       "      <td>KcrkZ</td>\n",
       "      <td>-13.081196</td>\n",
       "      <td>-11.506057</td>\n",
       "      <td>4.999415</td>\n",
       "      <td>137.945408</td>\n",
       "    </tr>\n",
       "    <tr>\n",
       "      <th>4</th>\n",
       "      <td>AHL4O</td>\n",
       "      <td>12.702195</td>\n",
       "      <td>-8.147433</td>\n",
       "      <td>5.004363</td>\n",
       "      <td>134.766305</td>\n",
       "    </tr>\n",
       "  </tbody>\n",
       "</table>\n",
       "</div>"
      ],
      "text/plain": [
       "      id         f0         f1        f2     product\n",
       "0  kBEdx -15.001348  -8.276000 -0.005876    3.179103\n",
       "1  62mP7  14.272088  -3.475083  0.999183   26.953261\n",
       "2  vyE1P   6.263187  -5.948386  5.001160  134.766305\n",
       "3  KcrkZ -13.081196 -11.506057  4.999415  137.945408\n",
       "4  AHL4O  12.702195  -8.147433  5.004363  134.766305"
      ]
     },
     "metadata": {},
     "output_type": "display_data"
    },
    {
     "data": {
      "text/html": [
       "<div>\n",
       "<style scoped>\n",
       "    .dataframe tbody tr th:only-of-type {\n",
       "        vertical-align: middle;\n",
       "    }\n",
       "\n",
       "    .dataframe tbody tr th {\n",
       "        vertical-align: top;\n",
       "    }\n",
       "\n",
       "    .dataframe thead th {\n",
       "        text-align: right;\n",
       "    }\n",
       "</style>\n",
       "<table border=\"1\" class=\"dataframe\">\n",
       "  <thead>\n",
       "    <tr style=\"text-align: right;\">\n",
       "      <th></th>\n",
       "      <th>id</th>\n",
       "      <th>f0</th>\n",
       "      <th>f1</th>\n",
       "      <th>f2</th>\n",
       "      <th>product</th>\n",
       "    </tr>\n",
       "  </thead>\n",
       "  <tbody>\n",
       "    <tr>\n",
       "      <th>0</th>\n",
       "      <td>fwXo0</td>\n",
       "      <td>-1.146987</td>\n",
       "      <td>0.963328</td>\n",
       "      <td>-0.828965</td>\n",
       "      <td>27.758673</td>\n",
       "    </tr>\n",
       "    <tr>\n",
       "      <th>1</th>\n",
       "      <td>WJtFt</td>\n",
       "      <td>0.262778</td>\n",
       "      <td>0.269839</td>\n",
       "      <td>-2.530187</td>\n",
       "      <td>56.069697</td>\n",
       "    </tr>\n",
       "    <tr>\n",
       "      <th>2</th>\n",
       "      <td>ovLUW</td>\n",
       "      <td>0.194587</td>\n",
       "      <td>0.289035</td>\n",
       "      <td>-5.586433</td>\n",
       "      <td>62.871910</td>\n",
       "    </tr>\n",
       "    <tr>\n",
       "      <th>3</th>\n",
       "      <td>q6cA6</td>\n",
       "      <td>2.236060</td>\n",
       "      <td>-0.553760</td>\n",
       "      <td>0.930038</td>\n",
       "      <td>114.572842</td>\n",
       "    </tr>\n",
       "    <tr>\n",
       "      <th>4</th>\n",
       "      <td>WPMUX</td>\n",
       "      <td>-0.515993</td>\n",
       "      <td>1.716266</td>\n",
       "      <td>5.899011</td>\n",
       "      <td>149.600746</td>\n",
       "    </tr>\n",
       "  </tbody>\n",
       "</table>\n",
       "</div>"
      ],
      "text/plain": [
       "      id        f0        f1        f2     product\n",
       "0  fwXo0 -1.146987  0.963328 -0.828965   27.758673\n",
       "1  WJtFt  0.262778  0.269839 -2.530187   56.069697\n",
       "2  ovLUW  0.194587  0.289035 -5.586433   62.871910\n",
       "3  q6cA6  2.236060 -0.553760  0.930038  114.572842\n",
       "4  WPMUX -0.515993  1.716266  5.899011  149.600746"
      ]
     },
     "metadata": {},
     "output_type": "display_data"
    }
   ],
   "source": [
    "display(data_geo1.head())\n",
    "display(data_geo2.head())\n",
    "display(data_geo3.head())"
   ]
  },
  {
   "cell_type": "code",
   "execution_count": 6,
   "metadata": {},
   "outputs": [
    {
     "name": "stdout",
     "output_type": "stream",
     "text": [
      "<class 'pandas.core.frame.DataFrame'>\n",
      "RangeIndex: 100000 entries, 0 to 99999\n",
      "Data columns (total 5 columns):\n",
      " #   Column   Non-Null Count   Dtype  \n",
      "---  ------   --------------   -----  \n",
      " 0   id       100000 non-null  object \n",
      " 1   f0       100000 non-null  float64\n",
      " 2   f1       100000 non-null  float64\n",
      " 3   f2       100000 non-null  float64\n",
      " 4   product  100000 non-null  float64\n",
      "dtypes: float64(4), object(1)\n",
      "memory usage: 3.8+ MB\n"
     ]
    }
   ],
   "source": [
    "data_geo1.info()"
   ]
  },
  {
   "cell_type": "code",
   "execution_count": 7,
   "metadata": {},
   "outputs": [
    {
     "name": "stdout",
     "output_type": "stream",
     "text": [
      "<class 'pandas.core.frame.DataFrame'>\n",
      "RangeIndex: 100000 entries, 0 to 99999\n",
      "Data columns (total 5 columns):\n",
      " #   Column   Non-Null Count   Dtype  \n",
      "---  ------   --------------   -----  \n",
      " 0   id       100000 non-null  object \n",
      " 1   f0       100000 non-null  float64\n",
      " 2   f1       100000 non-null  float64\n",
      " 3   f2       100000 non-null  float64\n",
      " 4   product  100000 non-null  float64\n",
      "dtypes: float64(4), object(1)\n",
      "memory usage: 3.8+ MB\n"
     ]
    }
   ],
   "source": [
    "data_geo2.info()"
   ]
  },
  {
   "cell_type": "code",
   "execution_count": 8,
   "metadata": {},
   "outputs": [
    {
     "name": "stdout",
     "output_type": "stream",
     "text": [
      "<class 'pandas.core.frame.DataFrame'>\n",
      "RangeIndex: 100000 entries, 0 to 99999\n",
      "Data columns (total 5 columns):\n",
      " #   Column   Non-Null Count   Dtype  \n",
      "---  ------   --------------   -----  \n",
      " 0   id       100000 non-null  object \n",
      " 1   f0       100000 non-null  float64\n",
      " 2   f1       100000 non-null  float64\n",
      " 3   f2       100000 non-null  float64\n",
      " 4   product  100000 non-null  float64\n",
      "dtypes: float64(4), object(1)\n",
      "memory usage: 3.8+ MB\n"
     ]
    }
   ],
   "source": [
    "data_geo3.info()"
   ]
  },
  {
   "cell_type": "markdown",
   "metadata": {},
   "source": [
    "**Итоги по обзору данных:**\n",
    "* Никаких проблем с названиями и форматом столбцов \n",
    "* Формат данных соответствует описанию датасета"
   ]
  },
  {
   "cell_type": "markdown",
   "metadata": {},
   "source": [
    "# Предобработка данных\n"
   ]
  },
  {
   "cell_type": "code",
   "execution_count": 9,
   "metadata": {},
   "outputs": [
    {
     "data": {
      "text/plain": [
       "id         0\n",
       "f0         0\n",
       "f1         0\n",
       "f2         0\n",
       "product    0\n",
       "dtype: int64"
      ]
     },
     "execution_count": 9,
     "metadata": {},
     "output_type": "execute_result"
    }
   ],
   "source": [
    "data_geo1.isna().sum()"
   ]
  },
  {
   "cell_type": "code",
   "execution_count": 10,
   "metadata": {},
   "outputs": [
    {
     "data": {
      "text/plain": [
       "id         0\n",
       "f0         0\n",
       "f1         0\n",
       "f2         0\n",
       "product    0\n",
       "dtype: int64"
      ]
     },
     "execution_count": 10,
     "metadata": {},
     "output_type": "execute_result"
    }
   ],
   "source": [
    "data_geo2.isna().sum()"
   ]
  },
  {
   "cell_type": "code",
   "execution_count": 11,
   "metadata": {},
   "outputs": [
    {
     "data": {
      "text/plain": [
       "id         0\n",
       "f0         0\n",
       "f1         0\n",
       "f2         0\n",
       "product    0\n",
       "dtype: int64"
      ]
     },
     "execution_count": 11,
     "metadata": {},
     "output_type": "execute_result"
    }
   ],
   "source": [
    "data_geo3.isna().sum()"
   ]
  },
  {
   "cell_type": "markdown",
   "metadata": {},
   "source": [
    "**Пропуски не обнаружены**"
   ]
  },
  {
   "cell_type": "code",
   "execution_count": 12,
   "metadata": {},
   "outputs": [
    {
     "data": {
      "text/plain": [
       "0"
      ]
     },
     "execution_count": 12,
     "metadata": {},
     "output_type": "execute_result"
    }
   ],
   "source": [
    "data_geo1.duplicated().sum()"
   ]
  },
  {
   "cell_type": "code",
   "execution_count": 13,
   "metadata": {},
   "outputs": [
    {
     "data": {
      "text/plain": [
       "0"
      ]
     },
     "execution_count": 13,
     "metadata": {},
     "output_type": "execute_result"
    }
   ],
   "source": [
    "data_geo2.duplicated().sum()"
   ]
  },
  {
   "cell_type": "code",
   "execution_count": 14,
   "metadata": {},
   "outputs": [
    {
     "data": {
      "text/plain": [
       "0"
      ]
     },
     "execution_count": 14,
     "metadata": {},
     "output_type": "execute_result"
    }
   ],
   "source": [
    "data_geo3.duplicated().sum()"
   ]
  },
  {
   "cell_type": "markdown",
   "metadata": {},
   "source": [
    "**Явные дубликаты отсутствуют**"
   ]
  },
  {
   "cell_type": "code",
   "execution_count": 15,
   "metadata": {},
   "outputs": [
    {
     "data": {
      "text/plain": [
       "10"
      ]
     },
     "metadata": {},
     "output_type": "display_data"
    }
   ],
   "source": [
    "display(data_geo1[\"id\"].duplicated().sum())"
   ]
  },
  {
   "cell_type": "code",
   "execution_count": 16,
   "metadata": {},
   "outputs": [
    {
     "data": {
      "text/html": [
       "<div>\n",
       "<style scoped>\n",
       "    .dataframe tbody tr th:only-of-type {\n",
       "        vertical-align: middle;\n",
       "    }\n",
       "\n",
       "    .dataframe tbody tr th {\n",
       "        vertical-align: top;\n",
       "    }\n",
       "\n",
       "    .dataframe thead th {\n",
       "        text-align: right;\n",
       "    }\n",
       "</style>\n",
       "<table border=\"1\" class=\"dataframe\">\n",
       "  <thead>\n",
       "    <tr style=\"text-align: right;\">\n",
       "      <th></th>\n",
       "      <th>id</th>\n",
       "      <th>f0</th>\n",
       "      <th>f1</th>\n",
       "      <th>f2</th>\n",
       "      <th>product</th>\n",
       "    </tr>\n",
       "  </thead>\n",
       "  <tbody>\n",
       "    <tr>\n",
       "      <th>7530</th>\n",
       "      <td>HZww2</td>\n",
       "      <td>1.061194</td>\n",
       "      <td>-0.373969</td>\n",
       "      <td>10.430210</td>\n",
       "      <td>158.828695</td>\n",
       "    </tr>\n",
       "    <tr>\n",
       "      <th>41724</th>\n",
       "      <td>bxg6G</td>\n",
       "      <td>-0.823752</td>\n",
       "      <td>0.546319</td>\n",
       "      <td>3.630479</td>\n",
       "      <td>93.007798</td>\n",
       "    </tr>\n",
       "    <tr>\n",
       "      <th>51970</th>\n",
       "      <td>A5aEY</td>\n",
       "      <td>-0.180335</td>\n",
       "      <td>0.935548</td>\n",
       "      <td>-2.094773</td>\n",
       "      <td>33.020205</td>\n",
       "    </tr>\n",
       "    <tr>\n",
       "      <th>63593</th>\n",
       "      <td>QcMuo</td>\n",
       "      <td>0.635635</td>\n",
       "      <td>-0.473422</td>\n",
       "      <td>0.862670</td>\n",
       "      <td>64.578675</td>\n",
       "    </tr>\n",
       "    <tr>\n",
       "      <th>66136</th>\n",
       "      <td>74z30</td>\n",
       "      <td>1.084962</td>\n",
       "      <td>-0.312358</td>\n",
       "      <td>6.990771</td>\n",
       "      <td>127.643327</td>\n",
       "    </tr>\n",
       "    <tr>\n",
       "      <th>69163</th>\n",
       "      <td>AGS9W</td>\n",
       "      <td>-0.933795</td>\n",
       "      <td>0.116194</td>\n",
       "      <td>-3.655896</td>\n",
       "      <td>19.230453</td>\n",
       "    </tr>\n",
       "    <tr>\n",
       "      <th>75715</th>\n",
       "      <td>Tdehs</td>\n",
       "      <td>0.112079</td>\n",
       "      <td>0.430296</td>\n",
       "      <td>3.218993</td>\n",
       "      <td>60.964018</td>\n",
       "    </tr>\n",
       "    <tr>\n",
       "      <th>90815</th>\n",
       "      <td>fiKDv</td>\n",
       "      <td>0.049883</td>\n",
       "      <td>0.841313</td>\n",
       "      <td>6.394613</td>\n",
       "      <td>137.346586</td>\n",
       "    </tr>\n",
       "    <tr>\n",
       "      <th>92341</th>\n",
       "      <td>TtcGQ</td>\n",
       "      <td>0.110711</td>\n",
       "      <td>1.022689</td>\n",
       "      <td>0.911381</td>\n",
       "      <td>101.318008</td>\n",
       "    </tr>\n",
       "    <tr>\n",
       "      <th>97785</th>\n",
       "      <td>bsk9y</td>\n",
       "      <td>0.378429</td>\n",
       "      <td>0.005837</td>\n",
       "      <td>0.160827</td>\n",
       "      <td>160.637302</td>\n",
       "    </tr>\n",
       "  </tbody>\n",
       "</table>\n",
       "</div>"
      ],
      "text/plain": [
       "          id        f0        f1         f2     product\n",
       "7530   HZww2  1.061194 -0.373969  10.430210  158.828695\n",
       "41724  bxg6G -0.823752  0.546319   3.630479   93.007798\n",
       "51970  A5aEY -0.180335  0.935548  -2.094773   33.020205\n",
       "63593  QcMuo  0.635635 -0.473422   0.862670   64.578675\n",
       "66136  74z30  1.084962 -0.312358   6.990771  127.643327\n",
       "69163  AGS9W -0.933795  0.116194  -3.655896   19.230453\n",
       "75715  Tdehs  0.112079  0.430296   3.218993   60.964018\n",
       "90815  fiKDv  0.049883  0.841313   6.394613  137.346586\n",
       "92341  TtcGQ  0.110711  1.022689   0.911381  101.318008\n",
       "97785  bsk9y  0.378429  0.005837   0.160827  160.637302"
      ]
     },
     "metadata": {},
     "output_type": "display_data"
    }
   ],
   "source": [
    "display(data_geo1.loc[data_geo1[\"id\"].duplicated()])"
   ]
  },
  {
   "cell_type": "code",
   "execution_count": 17,
   "metadata": {},
   "outputs": [],
   "source": [
    "def print_duplicated(data):\n",
    "    for each in list(data.loc[data[\"id\"].duplicated()][\"id\"]):\n",
    "        display(data.loc[data[\"id\"] == each])\n",
    "        "
   ]
  },
  {
   "cell_type": "code",
   "execution_count": 18,
   "metadata": {},
   "outputs": [
    {
     "data": {
      "text/html": [
       "<div>\n",
       "<style scoped>\n",
       "    .dataframe tbody tr th:only-of-type {\n",
       "        vertical-align: middle;\n",
       "    }\n",
       "\n",
       "    .dataframe tbody tr th {\n",
       "        vertical-align: top;\n",
       "    }\n",
       "\n",
       "    .dataframe thead th {\n",
       "        text-align: right;\n",
       "    }\n",
       "</style>\n",
       "<table border=\"1\" class=\"dataframe\">\n",
       "  <thead>\n",
       "    <tr style=\"text-align: right;\">\n",
       "      <th></th>\n",
       "      <th>id</th>\n",
       "      <th>f0</th>\n",
       "      <th>f1</th>\n",
       "      <th>f2</th>\n",
       "      <th>product</th>\n",
       "    </tr>\n",
       "  </thead>\n",
       "  <tbody>\n",
       "    <tr>\n",
       "      <th>931</th>\n",
       "      <td>HZww2</td>\n",
       "      <td>0.755284</td>\n",
       "      <td>0.368511</td>\n",
       "      <td>1.863211</td>\n",
       "      <td>30.681774</td>\n",
       "    </tr>\n",
       "    <tr>\n",
       "      <th>7530</th>\n",
       "      <td>HZww2</td>\n",
       "      <td>1.061194</td>\n",
       "      <td>-0.373969</td>\n",
       "      <td>10.430210</td>\n",
       "      <td>158.828695</td>\n",
       "    </tr>\n",
       "  </tbody>\n",
       "</table>\n",
       "</div>"
      ],
      "text/plain": [
       "         id        f0        f1         f2     product\n",
       "931   HZww2  0.755284  0.368511   1.863211   30.681774\n",
       "7530  HZww2  1.061194 -0.373969  10.430210  158.828695"
      ]
     },
     "metadata": {},
     "output_type": "display_data"
    },
    {
     "data": {
      "text/html": [
       "<div>\n",
       "<style scoped>\n",
       "    .dataframe tbody tr th:only-of-type {\n",
       "        vertical-align: middle;\n",
       "    }\n",
       "\n",
       "    .dataframe tbody tr th {\n",
       "        vertical-align: top;\n",
       "    }\n",
       "\n",
       "    .dataframe thead th {\n",
       "        text-align: right;\n",
       "    }\n",
       "</style>\n",
       "<table border=\"1\" class=\"dataframe\">\n",
       "  <thead>\n",
       "    <tr style=\"text-align: right;\">\n",
       "      <th></th>\n",
       "      <th>id</th>\n",
       "      <th>f0</th>\n",
       "      <th>f1</th>\n",
       "      <th>f2</th>\n",
       "      <th>product</th>\n",
       "    </tr>\n",
       "  </thead>\n",
       "  <tbody>\n",
       "    <tr>\n",
       "      <th>1364</th>\n",
       "      <td>bxg6G</td>\n",
       "      <td>0.411645</td>\n",
       "      <td>0.856830</td>\n",
       "      <td>-3.653440</td>\n",
       "      <td>73.604260</td>\n",
       "    </tr>\n",
       "    <tr>\n",
       "      <th>41724</th>\n",
       "      <td>bxg6G</td>\n",
       "      <td>-0.823752</td>\n",
       "      <td>0.546319</td>\n",
       "      <td>3.630479</td>\n",
       "      <td>93.007798</td>\n",
       "    </tr>\n",
       "  </tbody>\n",
       "</table>\n",
       "</div>"
      ],
      "text/plain": [
       "          id        f0        f1        f2    product\n",
       "1364   bxg6G  0.411645  0.856830 -3.653440  73.604260\n",
       "41724  bxg6G -0.823752  0.546319  3.630479  93.007798"
      ]
     },
     "metadata": {},
     "output_type": "display_data"
    },
    {
     "data": {
      "text/html": [
       "<div>\n",
       "<style scoped>\n",
       "    .dataframe tbody tr th:only-of-type {\n",
       "        vertical-align: middle;\n",
       "    }\n",
       "\n",
       "    .dataframe tbody tr th {\n",
       "        vertical-align: top;\n",
       "    }\n",
       "\n",
       "    .dataframe thead th {\n",
       "        text-align: right;\n",
       "    }\n",
       "</style>\n",
       "<table border=\"1\" class=\"dataframe\">\n",
       "  <thead>\n",
       "    <tr style=\"text-align: right;\">\n",
       "      <th></th>\n",
       "      <th>id</th>\n",
       "      <th>f0</th>\n",
       "      <th>f1</th>\n",
       "      <th>f2</th>\n",
       "      <th>product</th>\n",
       "    </tr>\n",
       "  </thead>\n",
       "  <tbody>\n",
       "    <tr>\n",
       "      <th>3389</th>\n",
       "      <td>A5aEY</td>\n",
       "      <td>-0.039949</td>\n",
       "      <td>0.156872</td>\n",
       "      <td>0.209861</td>\n",
       "      <td>89.249364</td>\n",
       "    </tr>\n",
       "    <tr>\n",
       "      <th>51970</th>\n",
       "      <td>A5aEY</td>\n",
       "      <td>-0.180335</td>\n",
       "      <td>0.935548</td>\n",
       "      <td>-2.094773</td>\n",
       "      <td>33.020205</td>\n",
       "    </tr>\n",
       "  </tbody>\n",
       "</table>\n",
       "</div>"
      ],
      "text/plain": [
       "          id        f0        f1        f2    product\n",
       "3389   A5aEY -0.039949  0.156872  0.209861  89.249364\n",
       "51970  A5aEY -0.180335  0.935548 -2.094773  33.020205"
      ]
     },
     "metadata": {},
     "output_type": "display_data"
    },
    {
     "data": {
      "text/html": [
       "<div>\n",
       "<style scoped>\n",
       "    .dataframe tbody tr th:only-of-type {\n",
       "        vertical-align: middle;\n",
       "    }\n",
       "\n",
       "    .dataframe tbody tr th {\n",
       "        vertical-align: top;\n",
       "    }\n",
       "\n",
       "    .dataframe thead th {\n",
       "        text-align: right;\n",
       "    }\n",
       "</style>\n",
       "<table border=\"1\" class=\"dataframe\">\n",
       "  <thead>\n",
       "    <tr style=\"text-align: right;\">\n",
       "      <th></th>\n",
       "      <th>id</th>\n",
       "      <th>f0</th>\n",
       "      <th>f1</th>\n",
       "      <th>f2</th>\n",
       "      <th>product</th>\n",
       "    </tr>\n",
       "  </thead>\n",
       "  <tbody>\n",
       "    <tr>\n",
       "      <th>1949</th>\n",
       "      <td>QcMuo</td>\n",
       "      <td>0.506563</td>\n",
       "      <td>-0.323775</td>\n",
       "      <td>-2.215583</td>\n",
       "      <td>75.496502</td>\n",
       "    </tr>\n",
       "    <tr>\n",
       "      <th>63593</th>\n",
       "      <td>QcMuo</td>\n",
       "      <td>0.635635</td>\n",
       "      <td>-0.473422</td>\n",
       "      <td>0.862670</td>\n",
       "      <td>64.578675</td>\n",
       "    </tr>\n",
       "  </tbody>\n",
       "</table>\n",
       "</div>"
      ],
      "text/plain": [
       "          id        f0        f1        f2    product\n",
       "1949   QcMuo  0.506563 -0.323775 -2.215583  75.496502\n",
       "63593  QcMuo  0.635635 -0.473422  0.862670  64.578675"
      ]
     },
     "metadata": {},
     "output_type": "display_data"
    },
    {
     "data": {
      "text/html": [
       "<div>\n",
       "<style scoped>\n",
       "    .dataframe tbody tr th:only-of-type {\n",
       "        vertical-align: middle;\n",
       "    }\n",
       "\n",
       "    .dataframe tbody tr th {\n",
       "        vertical-align: top;\n",
       "    }\n",
       "\n",
       "    .dataframe thead th {\n",
       "        text-align: right;\n",
       "    }\n",
       "</style>\n",
       "<table border=\"1\" class=\"dataframe\">\n",
       "  <thead>\n",
       "    <tr style=\"text-align: right;\">\n",
       "      <th></th>\n",
       "      <th>id</th>\n",
       "      <th>f0</th>\n",
       "      <th>f1</th>\n",
       "      <th>f2</th>\n",
       "      <th>product</th>\n",
       "    </tr>\n",
       "  </thead>\n",
       "  <tbody>\n",
       "    <tr>\n",
       "      <th>64022</th>\n",
       "      <td>74z30</td>\n",
       "      <td>0.741456</td>\n",
       "      <td>0.459229</td>\n",
       "      <td>5.153109</td>\n",
       "      <td>140.771492</td>\n",
       "    </tr>\n",
       "    <tr>\n",
       "      <th>66136</th>\n",
       "      <td>74z30</td>\n",
       "      <td>1.084962</td>\n",
       "      <td>-0.312358</td>\n",
       "      <td>6.990771</td>\n",
       "      <td>127.643327</td>\n",
       "    </tr>\n",
       "  </tbody>\n",
       "</table>\n",
       "</div>"
      ],
      "text/plain": [
       "          id        f0        f1        f2     product\n",
       "64022  74z30  0.741456  0.459229  5.153109  140.771492\n",
       "66136  74z30  1.084962 -0.312358  6.990771  127.643327"
      ]
     },
     "metadata": {},
     "output_type": "display_data"
    },
    {
     "data": {
      "text/html": [
       "<div>\n",
       "<style scoped>\n",
       "    .dataframe tbody tr th:only-of-type {\n",
       "        vertical-align: middle;\n",
       "    }\n",
       "\n",
       "    .dataframe tbody tr th {\n",
       "        vertical-align: top;\n",
       "    }\n",
       "\n",
       "    .dataframe thead th {\n",
       "        text-align: right;\n",
       "    }\n",
       "</style>\n",
       "<table border=\"1\" class=\"dataframe\">\n",
       "  <thead>\n",
       "    <tr style=\"text-align: right;\">\n",
       "      <th></th>\n",
       "      <th>id</th>\n",
       "      <th>f0</th>\n",
       "      <th>f1</th>\n",
       "      <th>f2</th>\n",
       "      <th>product</th>\n",
       "    </tr>\n",
       "  </thead>\n",
       "  <tbody>\n",
       "    <tr>\n",
       "      <th>42529</th>\n",
       "      <td>AGS9W</td>\n",
       "      <td>1.454747</td>\n",
       "      <td>-0.479651</td>\n",
       "      <td>0.683380</td>\n",
       "      <td>126.370504</td>\n",
       "    </tr>\n",
       "    <tr>\n",
       "      <th>69163</th>\n",
       "      <td>AGS9W</td>\n",
       "      <td>-0.933795</td>\n",
       "      <td>0.116194</td>\n",
       "      <td>-3.655896</td>\n",
       "      <td>19.230453</td>\n",
       "    </tr>\n",
       "  </tbody>\n",
       "</table>\n",
       "</div>"
      ],
      "text/plain": [
       "          id        f0        f1        f2     product\n",
       "42529  AGS9W  1.454747 -0.479651  0.683380  126.370504\n",
       "69163  AGS9W -0.933795  0.116194 -3.655896   19.230453"
      ]
     },
     "metadata": {},
     "output_type": "display_data"
    },
    {
     "data": {
      "text/html": [
       "<div>\n",
       "<style scoped>\n",
       "    .dataframe tbody tr th:only-of-type {\n",
       "        vertical-align: middle;\n",
       "    }\n",
       "\n",
       "    .dataframe tbody tr th {\n",
       "        vertical-align: top;\n",
       "    }\n",
       "\n",
       "    .dataframe thead th {\n",
       "        text-align: right;\n",
       "    }\n",
       "</style>\n",
       "<table border=\"1\" class=\"dataframe\">\n",
       "  <thead>\n",
       "    <tr style=\"text-align: right;\">\n",
       "      <th></th>\n",
       "      <th>id</th>\n",
       "      <th>f0</th>\n",
       "      <th>f1</th>\n",
       "      <th>f2</th>\n",
       "      <th>product</th>\n",
       "    </tr>\n",
       "  </thead>\n",
       "  <tbody>\n",
       "    <tr>\n",
       "      <th>21426</th>\n",
       "      <td>Tdehs</td>\n",
       "      <td>0.829407</td>\n",
       "      <td>0.298807</td>\n",
       "      <td>-0.049563</td>\n",
       "      <td>96.035308</td>\n",
       "    </tr>\n",
       "    <tr>\n",
       "      <th>75715</th>\n",
       "      <td>Tdehs</td>\n",
       "      <td>0.112079</td>\n",
       "      <td>0.430296</td>\n",
       "      <td>3.218993</td>\n",
       "      <td>60.964018</td>\n",
       "    </tr>\n",
       "  </tbody>\n",
       "</table>\n",
       "</div>"
      ],
      "text/plain": [
       "          id        f0        f1        f2    product\n",
       "21426  Tdehs  0.829407  0.298807 -0.049563  96.035308\n",
       "75715  Tdehs  0.112079  0.430296  3.218993  60.964018"
      ]
     },
     "metadata": {},
     "output_type": "display_data"
    },
    {
     "data": {
      "text/html": [
       "<div>\n",
       "<style scoped>\n",
       "    .dataframe tbody tr th:only-of-type {\n",
       "        vertical-align: middle;\n",
       "    }\n",
       "\n",
       "    .dataframe tbody tr th {\n",
       "        vertical-align: top;\n",
       "    }\n",
       "\n",
       "    .dataframe thead th {\n",
       "        text-align: right;\n",
       "    }\n",
       "</style>\n",
       "<table border=\"1\" class=\"dataframe\">\n",
       "  <thead>\n",
       "    <tr style=\"text-align: right;\">\n",
       "      <th></th>\n",
       "      <th>id</th>\n",
       "      <th>f0</th>\n",
       "      <th>f1</th>\n",
       "      <th>f2</th>\n",
       "      <th>product</th>\n",
       "    </tr>\n",
       "  </thead>\n",
       "  <tbody>\n",
       "    <tr>\n",
       "      <th>16633</th>\n",
       "      <td>fiKDv</td>\n",
       "      <td>0.157341</td>\n",
       "      <td>1.028359</td>\n",
       "      <td>5.585586</td>\n",
       "      <td>95.817889</td>\n",
       "    </tr>\n",
       "    <tr>\n",
       "      <th>90815</th>\n",
       "      <td>fiKDv</td>\n",
       "      <td>0.049883</td>\n",
       "      <td>0.841313</td>\n",
       "      <td>6.394613</td>\n",
       "      <td>137.346586</td>\n",
       "    </tr>\n",
       "  </tbody>\n",
       "</table>\n",
       "</div>"
      ],
      "text/plain": [
       "          id        f0        f1        f2     product\n",
       "16633  fiKDv  0.157341  1.028359  5.585586   95.817889\n",
       "90815  fiKDv  0.049883  0.841313  6.394613  137.346586"
      ]
     },
     "metadata": {},
     "output_type": "display_data"
    },
    {
     "data": {
      "text/html": [
       "<div>\n",
       "<style scoped>\n",
       "    .dataframe tbody tr th:only-of-type {\n",
       "        vertical-align: middle;\n",
       "    }\n",
       "\n",
       "    .dataframe tbody tr th {\n",
       "        vertical-align: top;\n",
       "    }\n",
       "\n",
       "    .dataframe thead th {\n",
       "        text-align: right;\n",
       "    }\n",
       "</style>\n",
       "<table border=\"1\" class=\"dataframe\">\n",
       "  <thead>\n",
       "    <tr style=\"text-align: right;\">\n",
       "      <th></th>\n",
       "      <th>id</th>\n",
       "      <th>f0</th>\n",
       "      <th>f1</th>\n",
       "      <th>f2</th>\n",
       "      <th>product</th>\n",
       "    </tr>\n",
       "  </thead>\n",
       "  <tbody>\n",
       "    <tr>\n",
       "      <th>60140</th>\n",
       "      <td>TtcGQ</td>\n",
       "      <td>0.569276</td>\n",
       "      <td>-0.104876</td>\n",
       "      <td>6.440215</td>\n",
       "      <td>85.350186</td>\n",
       "    </tr>\n",
       "    <tr>\n",
       "      <th>92341</th>\n",
       "      <td>TtcGQ</td>\n",
       "      <td>0.110711</td>\n",
       "      <td>1.022689</td>\n",
       "      <td>0.911381</td>\n",
       "      <td>101.318008</td>\n",
       "    </tr>\n",
       "  </tbody>\n",
       "</table>\n",
       "</div>"
      ],
      "text/plain": [
       "          id        f0        f1        f2     product\n",
       "60140  TtcGQ  0.569276 -0.104876  6.440215   85.350186\n",
       "92341  TtcGQ  0.110711  1.022689  0.911381  101.318008"
      ]
     },
     "metadata": {},
     "output_type": "display_data"
    },
    {
     "data": {
      "text/html": [
       "<div>\n",
       "<style scoped>\n",
       "    .dataframe tbody tr th:only-of-type {\n",
       "        vertical-align: middle;\n",
       "    }\n",
       "\n",
       "    .dataframe tbody tr th {\n",
       "        vertical-align: top;\n",
       "    }\n",
       "\n",
       "    .dataframe thead th {\n",
       "        text-align: right;\n",
       "    }\n",
       "</style>\n",
       "<table border=\"1\" class=\"dataframe\">\n",
       "  <thead>\n",
       "    <tr style=\"text-align: right;\">\n",
       "      <th></th>\n",
       "      <th>id</th>\n",
       "      <th>f0</th>\n",
       "      <th>f1</th>\n",
       "      <th>f2</th>\n",
       "      <th>product</th>\n",
       "    </tr>\n",
       "  </thead>\n",
       "  <tbody>\n",
       "    <tr>\n",
       "      <th>89582</th>\n",
       "      <td>bsk9y</td>\n",
       "      <td>0.398908</td>\n",
       "      <td>-0.400253</td>\n",
       "      <td>10.122376</td>\n",
       "      <td>163.433078</td>\n",
       "    </tr>\n",
       "    <tr>\n",
       "      <th>97785</th>\n",
       "      <td>bsk9y</td>\n",
       "      <td>0.378429</td>\n",
       "      <td>0.005837</td>\n",
       "      <td>0.160827</td>\n",
       "      <td>160.637302</td>\n",
       "    </tr>\n",
       "  </tbody>\n",
       "</table>\n",
       "</div>"
      ],
      "text/plain": [
       "          id        f0        f1         f2     product\n",
       "89582  bsk9y  0.398908 -0.400253  10.122376  163.433078\n",
       "97785  bsk9y  0.378429  0.005837   0.160827  160.637302"
      ]
     },
     "metadata": {},
     "output_type": "display_data"
    }
   ],
   "source": [
    "print_duplicated(data_geo1)"
   ]
  },
  {
   "cell_type": "markdown",
   "metadata": {},
   "source": [
    "При изучении неявных дубликатов, аномальные значения и причины для дубликатов найдены не были. По этой причине, можно смело удалять дубликаты из-за их малого количества относительно общего сета данных."
   ]
  },
  {
   "cell_type": "code",
   "execution_count": 19,
   "metadata": {},
   "outputs": [
    {
     "data": {
      "text/html": [
       "<div>\n",
       "<style scoped>\n",
       "    .dataframe tbody tr th:only-of-type {\n",
       "        vertical-align: middle;\n",
       "    }\n",
       "\n",
       "    .dataframe tbody tr th {\n",
       "        vertical-align: top;\n",
       "    }\n",
       "\n",
       "    .dataframe thead th {\n",
       "        text-align: right;\n",
       "    }\n",
       "</style>\n",
       "<table border=\"1\" class=\"dataframe\">\n",
       "  <thead>\n",
       "    <tr style=\"text-align: right;\">\n",
       "      <th></th>\n",
       "      <th>id</th>\n",
       "      <th>f0</th>\n",
       "      <th>f1</th>\n",
       "      <th>f2</th>\n",
       "      <th>product</th>\n",
       "    </tr>\n",
       "  </thead>\n",
       "  <tbody>\n",
       "    <tr>\n",
       "      <th>1305</th>\n",
       "      <td>LHZR0</td>\n",
       "      <td>11.170835</td>\n",
       "      <td>-1.945066</td>\n",
       "      <td>3.002872</td>\n",
       "      <td>80.859783</td>\n",
       "    </tr>\n",
       "    <tr>\n",
       "      <th>41906</th>\n",
       "      <td>LHZR0</td>\n",
       "      <td>-8.989672</td>\n",
       "      <td>-4.286607</td>\n",
       "      <td>2.009139</td>\n",
       "      <td>57.085625</td>\n",
       "    </tr>\n",
       "  </tbody>\n",
       "</table>\n",
       "</div>"
      ],
      "text/plain": [
       "          id         f0        f1        f2    product\n",
       "1305   LHZR0  11.170835 -1.945066  3.002872  80.859783\n",
       "41906  LHZR0  -8.989672 -4.286607  2.009139  57.085625"
      ]
     },
     "metadata": {},
     "output_type": "display_data"
    },
    {
     "data": {
      "text/html": [
       "<div>\n",
       "<style scoped>\n",
       "    .dataframe tbody tr th:only-of-type {\n",
       "        vertical-align: middle;\n",
       "    }\n",
       "\n",
       "    .dataframe tbody tr th {\n",
       "        vertical-align: top;\n",
       "    }\n",
       "\n",
       "    .dataframe thead th {\n",
       "        text-align: right;\n",
       "    }\n",
       "</style>\n",
       "<table border=\"1\" class=\"dataframe\">\n",
       "  <thead>\n",
       "    <tr style=\"text-align: right;\">\n",
       "      <th></th>\n",
       "      <th>id</th>\n",
       "      <th>f0</th>\n",
       "      <th>f1</th>\n",
       "      <th>f2</th>\n",
       "      <th>product</th>\n",
       "    </tr>\n",
       "  </thead>\n",
       "  <tbody>\n",
       "    <tr>\n",
       "      <th>2721</th>\n",
       "      <td>bfPNe</td>\n",
       "      <td>-9.494442</td>\n",
       "      <td>-5.463692</td>\n",
       "      <td>4.006042</td>\n",
       "      <td>110.992147</td>\n",
       "    </tr>\n",
       "    <tr>\n",
       "      <th>82178</th>\n",
       "      <td>bfPNe</td>\n",
       "      <td>-6.202799</td>\n",
       "      <td>-4.820045</td>\n",
       "      <td>2.995107</td>\n",
       "      <td>84.038886</td>\n",
       "    </tr>\n",
       "  </tbody>\n",
       "</table>\n",
       "</div>"
      ],
      "text/plain": [
       "          id        f0        f1        f2     product\n",
       "2721   bfPNe -9.494442 -5.463692  4.006042  110.992147\n",
       "82178  bfPNe -6.202799 -4.820045  2.995107   84.038886"
      ]
     },
     "metadata": {},
     "output_type": "display_data"
    },
    {
     "data": {
      "text/html": [
       "<div>\n",
       "<style scoped>\n",
       "    .dataframe tbody tr th:only-of-type {\n",
       "        vertical-align: middle;\n",
       "    }\n",
       "\n",
       "    .dataframe tbody tr th {\n",
       "        vertical-align: top;\n",
       "    }\n",
       "\n",
       "    .dataframe thead th {\n",
       "        text-align: right;\n",
       "    }\n",
       "</style>\n",
       "<table border=\"1\" class=\"dataframe\">\n",
       "  <thead>\n",
       "    <tr style=\"text-align: right;\">\n",
       "      <th></th>\n",
       "      <th>id</th>\n",
       "      <th>f0</th>\n",
       "      <th>f1</th>\n",
       "      <th>f2</th>\n",
       "      <th>product</th>\n",
       "    </tr>\n",
       "  </thead>\n",
       "  <tbody>\n",
       "    <tr>\n",
       "      <th>47591</th>\n",
       "      <td>wt4Uk</td>\n",
       "      <td>-9.091098</td>\n",
       "      <td>-8.109279</td>\n",
       "      <td>-0.002314</td>\n",
       "      <td>3.179103</td>\n",
       "    </tr>\n",
       "    <tr>\n",
       "      <th>82873</th>\n",
       "      <td>wt4Uk</td>\n",
       "      <td>10.259972</td>\n",
       "      <td>-9.376355</td>\n",
       "      <td>4.994297</td>\n",
       "      <td>134.766305</td>\n",
       "    </tr>\n",
       "  </tbody>\n",
       "</table>\n",
       "</div>"
      ],
      "text/plain": [
       "          id         f0        f1        f2     product\n",
       "47591  wt4Uk  -9.091098 -8.109279 -0.002314    3.179103\n",
       "82873  wt4Uk  10.259972 -9.376355  4.994297  134.766305"
      ]
     },
     "metadata": {},
     "output_type": "display_data"
    },
    {
     "data": {
      "text/html": [
       "<div>\n",
       "<style scoped>\n",
       "    .dataframe tbody tr th:only-of-type {\n",
       "        vertical-align: middle;\n",
       "    }\n",
       "\n",
       "    .dataframe tbody tr th {\n",
       "        vertical-align: top;\n",
       "    }\n",
       "\n",
       "    .dataframe thead th {\n",
       "        text-align: right;\n",
       "    }\n",
       "</style>\n",
       "<table border=\"1\" class=\"dataframe\">\n",
       "  <thead>\n",
       "    <tr style=\"text-align: right;\">\n",
       "      <th></th>\n",
       "      <th>id</th>\n",
       "      <th>f0</th>\n",
       "      <th>f1</th>\n",
       "      <th>f2</th>\n",
       "      <th>product</th>\n",
       "    </tr>\n",
       "  </thead>\n",
       "  <tbody>\n",
       "    <tr>\n",
       "      <th>5849</th>\n",
       "      <td>5ltQ6</td>\n",
       "      <td>-3.435401</td>\n",
       "      <td>-12.296043</td>\n",
       "      <td>1.999796</td>\n",
       "      <td>57.085625</td>\n",
       "    </tr>\n",
       "    <tr>\n",
       "      <th>84461</th>\n",
       "      <td>5ltQ6</td>\n",
       "      <td>18.213839</td>\n",
       "      <td>2.191999</td>\n",
       "      <td>3.993869</td>\n",
       "      <td>107.813044</td>\n",
       "    </tr>\n",
       "  </tbody>\n",
       "</table>\n",
       "</div>"
      ],
      "text/plain": [
       "          id         f0         f1        f2     product\n",
       "5849   5ltQ6  -3.435401 -12.296043  1.999796   57.085625\n",
       "84461  5ltQ6  18.213839   2.191999  3.993869  107.813044"
      ]
     },
     "metadata": {},
     "output_type": "display_data"
    }
   ],
   "source": [
    "print_duplicated(data_geo2)"
   ]
  },
  {
   "cell_type": "code",
   "execution_count": 20,
   "metadata": {},
   "outputs": [
    {
     "data": {
      "text/html": [
       "<div>\n",
       "<style scoped>\n",
       "    .dataframe tbody tr th:only-of-type {\n",
       "        vertical-align: middle;\n",
       "    }\n",
       "\n",
       "    .dataframe tbody tr th {\n",
       "        vertical-align: top;\n",
       "    }\n",
       "\n",
       "    .dataframe thead th {\n",
       "        text-align: right;\n",
       "    }\n",
       "</style>\n",
       "<table border=\"1\" class=\"dataframe\">\n",
       "  <thead>\n",
       "    <tr style=\"text-align: right;\">\n",
       "      <th></th>\n",
       "      <th>id</th>\n",
       "      <th>f0</th>\n",
       "      <th>f1</th>\n",
       "      <th>f2</th>\n",
       "      <th>product</th>\n",
       "    </tr>\n",
       "  </thead>\n",
       "  <tbody>\n",
       "    <tr>\n",
       "      <th>28039</th>\n",
       "      <td>xCHr8</td>\n",
       "      <td>1.633027</td>\n",
       "      <td>0.368135</td>\n",
       "      <td>-2.378367</td>\n",
       "      <td>6.120525</td>\n",
       "    </tr>\n",
       "    <tr>\n",
       "      <th>43233</th>\n",
       "      <td>xCHr8</td>\n",
       "      <td>-0.847066</td>\n",
       "      <td>2.101796</td>\n",
       "      <td>5.597130</td>\n",
       "      <td>184.388641</td>\n",
       "    </tr>\n",
       "  </tbody>\n",
       "</table>\n",
       "</div>"
      ],
      "text/plain": [
       "          id        f0        f1        f2     product\n",
       "28039  xCHr8  1.633027  0.368135 -2.378367    6.120525\n",
       "43233  xCHr8 -0.847066  2.101796  5.597130  184.388641"
      ]
     },
     "metadata": {},
     "output_type": "display_data"
    },
    {
     "data": {
      "text/html": [
       "<div>\n",
       "<style scoped>\n",
       "    .dataframe tbody tr th:only-of-type {\n",
       "        vertical-align: middle;\n",
       "    }\n",
       "\n",
       "    .dataframe tbody tr th {\n",
       "        vertical-align: top;\n",
       "    }\n",
       "\n",
       "    .dataframe thead th {\n",
       "        text-align: right;\n",
       "    }\n",
       "</style>\n",
       "<table border=\"1\" class=\"dataframe\">\n",
       "  <thead>\n",
       "    <tr style=\"text-align: right;\">\n",
       "      <th></th>\n",
       "      <th>id</th>\n",
       "      <th>f0</th>\n",
       "      <th>f1</th>\n",
       "      <th>f2</th>\n",
       "      <th>product</th>\n",
       "    </tr>\n",
       "  </thead>\n",
       "  <tbody>\n",
       "    <tr>\n",
       "      <th>11449</th>\n",
       "      <td>VF7Jo</td>\n",
       "      <td>2.122656</td>\n",
       "      <td>-0.858275</td>\n",
       "      <td>5.746001</td>\n",
       "      <td>181.716817</td>\n",
       "    </tr>\n",
       "    <tr>\n",
       "      <th>49564</th>\n",
       "      <td>VF7Jo</td>\n",
       "      <td>-0.883115</td>\n",
       "      <td>0.560537</td>\n",
       "      <td>0.723601</td>\n",
       "      <td>136.233420</td>\n",
       "    </tr>\n",
       "  </tbody>\n",
       "</table>\n",
       "</div>"
      ],
      "text/plain": [
       "          id        f0        f1        f2     product\n",
       "11449  VF7Jo  2.122656 -0.858275  5.746001  181.716817\n",
       "49564  VF7Jo -0.883115  0.560537  0.723601  136.233420"
      ]
     },
     "metadata": {},
     "output_type": "display_data"
    },
    {
     "data": {
      "text/html": [
       "<div>\n",
       "<style scoped>\n",
       "    .dataframe tbody tr th:only-of-type {\n",
       "        vertical-align: middle;\n",
       "    }\n",
       "\n",
       "    .dataframe tbody tr th {\n",
       "        vertical-align: top;\n",
       "    }\n",
       "\n",
       "    .dataframe thead th {\n",
       "        text-align: right;\n",
       "    }\n",
       "</style>\n",
       "<table border=\"1\" class=\"dataframe\">\n",
       "  <thead>\n",
       "    <tr style=\"text-align: right;\">\n",
       "      <th></th>\n",
       "      <th>id</th>\n",
       "      <th>f0</th>\n",
       "      <th>f1</th>\n",
       "      <th>f2</th>\n",
       "      <th>product</th>\n",
       "    </tr>\n",
       "  </thead>\n",
       "  <tbody>\n",
       "    <tr>\n",
       "      <th>45404</th>\n",
       "      <td>KUPhW</td>\n",
       "      <td>0.231846</td>\n",
       "      <td>-1.698941</td>\n",
       "      <td>4.990775</td>\n",
       "      <td>11.716299</td>\n",
       "    </tr>\n",
       "    <tr>\n",
       "      <th>55967</th>\n",
       "      <td>KUPhW</td>\n",
       "      <td>1.211150</td>\n",
       "      <td>3.176408</td>\n",
       "      <td>5.543540</td>\n",
       "      <td>132.831802</td>\n",
       "    </tr>\n",
       "  </tbody>\n",
       "</table>\n",
       "</div>"
      ],
      "text/plain": [
       "          id        f0        f1        f2     product\n",
       "45404  KUPhW  0.231846 -1.698941  4.990775   11.716299\n",
       "55967  KUPhW  1.211150  3.176408  5.543540  132.831802"
      ]
     },
     "metadata": {},
     "output_type": "display_data"
    },
    {
     "data": {
      "text/html": [
       "<div>\n",
       "<style scoped>\n",
       "    .dataframe tbody tr th:only-of-type {\n",
       "        vertical-align: middle;\n",
       "    }\n",
       "\n",
       "    .dataframe tbody tr th {\n",
       "        vertical-align: top;\n",
       "    }\n",
       "\n",
       "    .dataframe thead th {\n",
       "        text-align: right;\n",
       "    }\n",
       "</style>\n",
       "<table border=\"1\" class=\"dataframe\">\n",
       "  <thead>\n",
       "    <tr style=\"text-align: right;\">\n",
       "      <th></th>\n",
       "      <th>id</th>\n",
       "      <th>f0</th>\n",
       "      <th>f1</th>\n",
       "      <th>f2</th>\n",
       "      <th>product</th>\n",
       "    </tr>\n",
       "  </thead>\n",
       "  <tbody>\n",
       "    <tr>\n",
       "      <th>44378</th>\n",
       "      <td>Vcm5J</td>\n",
       "      <td>-1.229484</td>\n",
       "      <td>-2.439204</td>\n",
       "      <td>1.222909</td>\n",
       "      <td>137.968290</td>\n",
       "    </tr>\n",
       "    <tr>\n",
       "      <th>95090</th>\n",
       "      <td>Vcm5J</td>\n",
       "      <td>2.587702</td>\n",
       "      <td>1.986875</td>\n",
       "      <td>2.482245</td>\n",
       "      <td>92.327572</td>\n",
       "    </tr>\n",
       "  </tbody>\n",
       "</table>\n",
       "</div>"
      ],
      "text/plain": [
       "          id        f0        f1        f2     product\n",
       "44378  Vcm5J -1.229484 -2.439204  1.222909  137.968290\n",
       "95090  Vcm5J  2.587702  1.986875  2.482245   92.327572"
      ]
     },
     "metadata": {},
     "output_type": "display_data"
    }
   ],
   "source": [
    "print_duplicated(data_geo3)"
   ]
  },
  {
   "cell_type": "code",
   "execution_count": 21,
   "metadata": {},
   "outputs": [],
   "source": [
    "data_geo1 = data_geo1.drop_duplicates(subset='id').reset_index(drop=True)\n",
    "data_geo2 = data_geo2.drop_duplicates(subset='id').reset_index(drop=True)\n",
    "data_geo3 = data_geo3.drop_duplicates(subset='id').reset_index(drop=True)"
   ]
  },
  {
   "cell_type": "code",
   "execution_count": 22,
   "metadata": {},
   "outputs": [
    {
     "name": "stdout",
     "output_type": "stream",
     "text": [
      "<class 'pandas.core.frame.DataFrame'>\n",
      "RangeIndex: 99990 entries, 0 to 99989\n",
      "Data columns (total 5 columns):\n",
      " #   Column   Non-Null Count  Dtype  \n",
      "---  ------   --------------  -----  \n",
      " 0   id       99990 non-null  object \n",
      " 1   f0       99990 non-null  float64\n",
      " 2   f1       99990 non-null  float64\n",
      " 3   f2       99990 non-null  float64\n",
      " 4   product  99990 non-null  float64\n",
      "dtypes: float64(4), object(1)\n",
      "memory usage: 3.8+ MB\n",
      "<class 'pandas.core.frame.DataFrame'>\n",
      "RangeIndex: 99996 entries, 0 to 99995\n",
      "Data columns (total 5 columns):\n",
      " #   Column   Non-Null Count  Dtype  \n",
      "---  ------   --------------  -----  \n",
      " 0   id       99996 non-null  object \n",
      " 1   f0       99996 non-null  float64\n",
      " 2   f1       99996 non-null  float64\n",
      " 3   f2       99996 non-null  float64\n",
      " 4   product  99996 non-null  float64\n",
      "dtypes: float64(4), object(1)\n",
      "memory usage: 3.8+ MB\n",
      "<class 'pandas.core.frame.DataFrame'>\n",
      "RangeIndex: 99996 entries, 0 to 99995\n",
      "Data columns (total 5 columns):\n",
      " #   Column   Non-Null Count  Dtype  \n",
      "---  ------   --------------  -----  \n",
      " 0   id       99996 non-null  object \n",
      " 1   f0       99996 non-null  float64\n",
      " 2   f1       99996 non-null  float64\n",
      " 3   f2       99996 non-null  float64\n",
      " 4   product  99996 non-null  float64\n",
      "dtypes: float64(4), object(1)\n",
      "memory usage: 3.8+ MB\n"
     ]
    }
   ],
   "source": [
    "data_geo1.info()\n",
    "data_geo2.info()\n",
    "data_geo3.info()"
   ]
  },
  {
   "cell_type": "markdown",
   "metadata": {},
   "source": [
    "**Итоги по предобработке данных:**\n",
    "* Пропусков нет\n",
    "* Неявные дубликаты были обработаны\n",
    "* Явных дубликатов нет"
   ]
  },
  {
   "cell_type": "markdown",
   "metadata": {},
   "source": [
    "# Исследовательский анализ данных"
   ]
  },
  {
   "cell_type": "code",
   "execution_count": 83,
   "metadata": {},
   "outputs": [],
   "source": [
    "def plot_hist(data, name, number, x_beg = None, x_end = None):\n",
    "    data[name].plot(kind=\"hist\", bins = number, figsize=(8,5), title=f\"Гистограмма для '{name}'\", grid = True, edgecolor = \"black\")\n",
    "    plt.xlabel(f\"{name}\")\n",
    "    plt.ylabel(\"Частота\")\n",
    "    if x_beg is not None and x_end is not None:\n",
    "        plt.xlim(x_beg, x_end)\n",
    "    plt.show()"
   ]
  },
  {
   "cell_type": "code",
   "execution_count": 24,
   "metadata": {},
   "outputs": [],
   "source": [
    "def plot_box(data, name, lower, upper):\n",
    "    plt.ylim(lower, upper)\n",
    "    data.boxplot(name)"
   ]
  },
  {
   "cell_type": "code",
   "execution_count": 25,
   "metadata": {},
   "outputs": [],
   "source": [
    "def plot_pie(data, name):\n",
    "    count = data[name].value_counts()\n",
    "    plt.figure(figsize=(10, 5))\n",
    "    count.plot(kind=\"pie\", autopct=\"%1.1f%%\", startangle=90)\n",
    "    plt.title(f\"Круговая диаграмма для '{name}'\")\n",
    "    plt.ylabel('')\n",
    "    plt.show()"
   ]
  },
  {
   "cell_type": "code",
   "execution_count": 26,
   "metadata": {
    "scrolled": true
   },
   "outputs": [
    {
     "name": "stdout",
     "output_type": "stream",
     "text": [
      "<class 'pandas.core.frame.DataFrame'>\n",
      "RangeIndex: 99990 entries, 0 to 99989\n",
      "Data columns (total 5 columns):\n",
      " #   Column   Non-Null Count  Dtype  \n",
      "---  ------   --------------  -----  \n",
      " 0   id       99990 non-null  object \n",
      " 1   f0       99990 non-null  float64\n",
      " 2   f1       99990 non-null  float64\n",
      " 3   f2       99990 non-null  float64\n",
      " 4   product  99990 non-null  float64\n",
      "dtypes: float64(4), object(1)\n",
      "memory usage: 3.8+ MB\n"
     ]
    }
   ],
   "source": [
    "data_geo1.info()"
   ]
  },
  {
   "cell_type": "code",
   "execution_count": 27,
   "metadata": {},
   "outputs": [
    {
     "data": {
      "image/png": "[encoded data removed]",
      "text/plain": [
       "<Figure size 576x360 with 1 Axes>"
      ]
     },
     "metadata": {
      "needs_background": "light"
     },
     "output_type": "display_data"
    },
    {
     "data": {
      "text/plain": [
       "count    99990.000000\n",
       "mean         0.500454\n",
       "std          0.871844\n",
       "min         -1.408605\n",
       "25%         -0.072572\n",
       "50%          0.502405\n",
       "75%          1.073626\n",
       "max          2.362331\n",
       "Name: f0, dtype: float64"
      ]
     },
     "execution_count": 27,
     "metadata": {},
     "output_type": "execute_result"
    },
    {
     "data": {
      "image/png": "[encoded data removed]",
      "text/plain": [
       "<Figure size 432x288 with 1 Axes>"
      ]
     },
     "metadata": {
      "needs_background": "light"
     },
     "output_type": "display_data"
    }
   ],
   "source": [
    "plot_hist(data_geo1, \"f0\", 50)\n",
    "plot_box(data_geo1, \"f0\", -1.5, 2.37)\n",
    "data_geo1[\"f0\"].describe()"
   ]
  },
  {
   "cell_type": "code",
   "execution_count": 28,
   "metadata": {},
   "outputs": [
    {
     "data": {
      "image/png": "[encoded data removed]",
      "text/plain": [
       "<Figure size 576x360 with 1 Axes>"
      ]
     },
     "metadata": {
      "needs_background": "light"
     },
     "output_type": "display_data"
    },
    {
     "data": {
      "text/plain": [
       "count    99990.000000\n",
       "mean         0.250141\n",
       "std          0.504430\n",
       "min         -0.848218\n",
       "25%         -0.200877\n",
       "50%          0.250252\n",
       "75%          0.700640\n",
       "max          1.343769\n",
       "Name: f1, dtype: float64"
      ]
     },
     "execution_count": 28,
     "metadata": {},
     "output_type": "execute_result"
    },
    {
     "data": {
      "image/png": "[encoded data removed]",
      "text/plain": [
       "<Figure size 432x288 with 1 Axes>"
      ]
     },
     "metadata": {
      "needs_background": "light"
     },
     "output_type": "display_data"
    }
   ],
   "source": [
    "plot_hist(data_geo1, \"f1\", 50)\n",
    "plot_box(data_geo1, \"f1\", -0.87, 1.36)\n",
    "data_geo1[\"f1\"].describe()"
   ]
  },
  {
   "cell_type": "code",
   "execution_count": 29,
   "metadata": {},
   "outputs": [
    {
     "data": {
      "image/png": "[encoded data removed]",
      "text/plain": [
       "<Figure size 576x360 with 1 Axes>"
      ]
     },
     "metadata": {
      "needs_background": "light"
     },
     "output_type": "display_data"
    },
    {
     "data": {
      "text/plain": [
       "count    99990.000000\n",
       "mean         2.502629\n",
       "std          3.248149\n",
       "min        -12.088328\n",
       "25%          0.287784\n",
       "50%          2.515969\n",
       "75%          4.715035\n",
       "max         16.003790\n",
       "Name: f2, dtype: float64"
      ]
     },
     "execution_count": 29,
     "metadata": {},
     "output_type": "execute_result"
    },
    {
     "data": {
      "image/png": "[encoded data removed]",
      "text/plain": [
       "<Figure size 432x288 with 1 Axes>"
      ]
     },
     "metadata": {
      "needs_background": "light"
     },
     "output_type": "display_data"
    }
   ],
   "source": [
    "plot_hist(data_geo1, \"f2\", 50)\n",
    "plot_box(data_geo1, \"f2\", -13, 17)\n",
    "data_geo1[\"f2\"].describe()"
   ]
  },
  {
   "cell_type": "markdown",
   "metadata": {},
   "source": [
    "Так как нам неизвестна природа значений f0, f1 и f2, то нам затруднительно провести анализ этих значений. F0 имеет 4 выраженных пика на отметках -1, 0, 1 и 2. Среднее значение и медиана находятся на отметке 0.5. В свою очередь график F2 имеет 3 пика: 0.25, что также является медианой и средним значением, --0.5 и 1. График F2 имеет только один пик на отметке 2.5, что также является медианой и средним значением. Значения в этих столбцах данных имеют разный диапазон, что означает для выявления зависимости надо будет провести масштабирование данных."
   ]
  },
  {
   "cell_type": "code",
   "execution_count": 30,
   "metadata": {},
   "outputs": [
    {
     "data": {
      "image/png": "[encoded data removed]",
      "text/plain": [
       "<Figure size 576x360 with 1 Axes>"
      ]
     },
     "metadata": {
      "needs_background": "light"
     },
     "output_type": "display_data"
    },
    {
     "data": {
      "text/plain": [
       "count    99996.000000\n",
       "mean         1.141209\n",
       "std          8.965815\n",
       "min        -31.609576\n",
       "25%         -6.298551\n",
       "50%          1.153055\n",
       "75%          8.620964\n",
       "max         29.421755\n",
       "Name: f0, dtype: float64"
      ]
     },
     "execution_count": 30,
     "metadata": {},
     "output_type": "execute_result"
    },
    {
     "data": {
      "image/png": "[encoded data removed]",
      "text/plain": [
       "<Figure size 432x288 with 1 Axes>"
      ]
     },
     "metadata": {
      "needs_background": "light"
     },
     "output_type": "display_data"
    }
   ],
   "source": [
    "plot_hist(data_geo2, \"f0\", 50)\n",
    "plot_box(data_geo2, \"f0\", -32, 30)\n",
    "data_geo2[\"f0\"].describe()"
   ]
  },
  {
   "cell_type": "code",
   "execution_count": 31,
   "metadata": {},
   "outputs": [
    {
     "data": {
      "image/png": "[encoded data removed]",
      "text/plain": [
       "<Figure size 576x360 with 1 Axes>"
      ]
     },
     "metadata": {
      "needs_background": "light"
     },
     "output_type": "display_data"
    },
    {
     "data": {
      "text/plain": [
       "count    99996.000000\n",
       "mean        -4.796608\n",
       "std          5.119906\n",
       "min        -26.358598\n",
       "25%         -8.267985\n",
       "50%         -4.813172\n",
       "75%         -1.332816\n",
       "max         18.734063\n",
       "Name: f1, dtype: float64"
      ]
     },
     "execution_count": 31,
     "metadata": {},
     "output_type": "execute_result"
    },
    {
     "data": {
      "image/png": "[encoded data removed]",
      "text/plain": [
       "<Figure size 432x288 with 1 Axes>"
      ]
     },
     "metadata": {
      "needs_background": "light"
     },
     "output_type": "display_data"
    }
   ],
   "source": [
    "plot_hist(data_geo2, \"f1\", 50)\n",
    "plot_box(data_geo2, \"f1\", -27, 19)\n",
    "data_geo2[\"f1\"].describe()"
   ]
  },
  {
   "cell_type": "code",
   "execution_count": 32,
   "metadata": {},
   "outputs": [
    {
     "data": {
      "image/png": "[encoded data removed]",
      "text/plain": [
       "<Figure size 576x360 with 1 Axes>"
      ]
     },
     "metadata": {
      "needs_background": "light"
     },
     "output_type": "display_data"
    },
    {
     "data": {
      "text/plain": [
       "count    99996.000000\n",
       "mean         2.494501\n",
       "std          1.703579\n",
       "min         -0.018144\n",
       "25%          1.000021\n",
       "50%          2.011475\n",
       "75%          3.999904\n",
       "max          5.019721\n",
       "Name: f2, dtype: float64"
      ]
     },
     "execution_count": 32,
     "metadata": {},
     "output_type": "execute_result"
    },
    {
     "data": {
      "image/png": "[encoded data removed]",
      "text/plain": [
       "<Figure size 432x288 with 1 Axes>"
      ]
     },
     "metadata": {
      "needs_background": "light"
     },
     "output_type": "display_data"
    }
   ],
   "source": [
    "plot_hist(data_geo2, \"f2\", 5)\n",
    "plot_box(data_geo2, \"f2\", -0.02, 6)\n",
    "data_geo2[\"f2\"].describe()"
   ]
  },
  {
   "cell_type": "markdown",
   "metadata": {},
   "source": [
    "Значения для второй скважины имеют другую природу, но в целом ничего каардинально отличного и примечательного. Все еще трудно выявить какие-то закономерности и причины для выбросов без информации о самих данных."
   ]
  },
  {
   "cell_type": "code",
   "execution_count": 33,
   "metadata": {},
   "outputs": [
    {
     "data": {
      "image/png": "[encoded data removed]",
      "text/plain": [
       "<Figure size 576x360 with 1 Axes>"
      ]
     },
     "metadata": {
      "needs_background": "light"
     },
     "output_type": "display_data"
    },
    {
     "data": {
      "text/plain": [
       "count    99996.000000\n",
       "mean         0.002002\n",
       "std          1.732052\n",
       "min         -8.760004\n",
       "25%         -1.162328\n",
       "50%          0.009424\n",
       "75%          1.158477\n",
       "max          7.238262\n",
       "Name: f0, dtype: float64"
      ]
     },
     "execution_count": 33,
     "metadata": {},
     "output_type": "execute_result"
    },
    {
     "data": {
      "image/png": "[encoded data removed]",
      "text/plain": [
       "<Figure size 432x288 with 1 Axes>"
      ]
     },
     "metadata": {
      "needs_background": "light"
     },
     "output_type": "display_data"
    }
   ],
   "source": [
    "plot_hist(data_geo3, \"f0\", 50)\n",
    "plot_box(data_geo3, \"f0\", -9, 7.5)\n",
    "data_geo3[\"f0\"].describe()"
   ]
  },
  {
   "cell_type": "code",
   "execution_count": 34,
   "metadata": {},
   "outputs": [
    {
     "data": {
      "image/png": "[encoded data removed]",
      "text/plain": [
       "<Figure size 576x360 with 1 Axes>"
      ]
     },
     "metadata": {
      "needs_background": "light"
     },
     "output_type": "display_data"
    },
    {
     "data": {
      "text/plain": [
       "count    99996.000000\n",
       "mean        -0.002159\n",
       "std          1.730397\n",
       "min         -7.084020\n",
       "25%         -1.174841\n",
       "50%         -0.009661\n",
       "75%          1.163523\n",
       "max          7.844801\n",
       "Name: f1, dtype: float64"
      ]
     },
     "execution_count": 34,
     "metadata": {},
     "output_type": "execute_result"
    },
    {
     "data": {
      "image/png": "[encoded data removed]",
      "text/plain": [
       "<Figure size 432x288 with 1 Axes>"
      ]
     },
     "metadata": {
      "needs_background": "light"
     },
     "output_type": "display_data"
    }
   ],
   "source": [
    "plot_hist(data_geo3, \"f1\", 50)\n",
    "plot_box(data_geo3, \"f1\", -7.2, 8)\n",
    "data_geo3[\"f1\"].describe()"
   ]
  },
  {
   "cell_type": "code",
   "execution_count": 35,
   "metadata": {},
   "outputs": [
    {
     "data": {
      "image/png": "[encoded data removed]",
      "text/plain": [
       "<Figure size 576x360 with 1 Axes>"
      ]
     },
     "metadata": {
      "needs_background": "light"
     },
     "output_type": "display_data"
    },
    {
     "data": {
      "text/plain": [
       "count    99996.000000\n",
       "mean         2.495084\n",
       "std          3.473482\n",
       "min        -11.970335\n",
       "25%          0.130269\n",
       "50%          2.484236\n",
       "75%          4.858720\n",
       "max         16.739402\n",
       "Name: f2, dtype: float64"
      ]
     },
     "execution_count": 35,
     "metadata": {},
     "output_type": "execute_result"
    },
    {
     "data": {
      "image/png": "[encoded data removed]",
      "text/plain": [
       "<Figure size 432x288 with 1 Axes>"
      ]
     },
     "metadata": {
      "needs_background": "light"
     },
     "output_type": "display_data"
    }
   ],
   "source": [
    "plot_hist(data_geo3, \"f2\", 50)\n",
    "plot_box(data_geo3, \"f2\", -12, 17)\n",
    "data_geo3[\"f2\"].describe()"
   ]
  },
  {
   "cell_type": "markdown",
   "metadata": {},
   "source": [
    "Точно также как и с остальными регионами"
   ]
  },
  {
   "cell_type": "code",
   "execution_count": 36,
   "metadata": {},
   "outputs": [
    {
     "data": {
      "image/png": "[encoded data removed]",
      "text/plain": [
       "<Figure size 576x360 with 1 Axes>"
      ]
     },
     "metadata": {
      "needs_background": "light"
     },
     "output_type": "display_data"
    },
    {
     "data": {
      "text/plain": [
       "count    99990.000000\n",
       "mean        92.499684\n",
       "std         44.288304\n",
       "min          0.000000\n",
       "25%         56.497069\n",
       "50%         91.847928\n",
       "75%        128.563699\n",
       "max        185.364347\n",
       "Name: product, dtype: float64"
      ]
     },
     "execution_count": 36,
     "metadata": {},
     "output_type": "execute_result"
    },
    {
     "data": {
      "image/png": "[encoded data removed]",
      "text/plain": [
       "<Figure size 432x288 with 1 Axes>"
      ]
     },
     "metadata": {
      "needs_background": "light"
     },
     "output_type": "display_data"
    }
   ],
   "source": [
    "plot_hist(data_geo1, \"product\", 40)\n",
    "plot_box(data_geo1, \"product\", 0, 186)\n",
    "data_geo1[\"product\"].describe()"
   ]
  },
  {
   "cell_type": "markdown",
   "metadata": {},
   "source": [
    "В первом регионе среднее значение и медиана объема равны приблизительно 92 тысячам баррелелям. Максимальное значение 185, а минимальное равно 0."
   ]
  },
  {
   "cell_type": "code",
   "execution_count": 37,
   "metadata": {},
   "outputs": [
    {
     "data": {
      "image/png": "[encoded data removed]",
      "text/plain": [
       "<Figure size 576x360 with 1 Axes>"
      ]
     },
     "metadata": {
      "needs_background": "light"
     },
     "output_type": "display_data"
    },
    {
     "data": {
      "text/plain": [
       "count    99996.000000\n",
       "mean        68.823916\n",
       "std         45.944663\n",
       "min          0.000000\n",
       "25%         26.953261\n",
       "50%         57.085625\n",
       "75%        107.813044\n",
       "max        137.945408\n",
       "Name: product, dtype: float64"
      ]
     },
     "execution_count": 37,
     "metadata": {},
     "output_type": "execute_result"
    },
    {
     "data": {
      "image/png": "[encoded data removed]",
      "text/plain": [
       "<Figure size 432x288 with 1 Axes>"
      ]
     },
     "metadata": {
      "needs_background": "light"
     },
     "output_type": "display_data"
    }
   ],
   "source": [
    "plot_hist(data_geo2, \"product\", 10)\n",
    "plot_box(data_geo2, \"product\", 0, 138)\n",
    "data_geo2[\"product\"].describe()"
   ]
  },
  {
   "cell_type": "markdown",
   "metadata": {},
   "source": [
    "Во втором регионе среднее значение равно 57, а медиана приблизительно 69 тысячам баррелелям. Максимальное значение 137, а минимальное равно 0."
   ]
  },
  {
   "cell_type": "code",
   "execution_count": 38,
   "metadata": {},
   "outputs": [
    {
     "data": {
      "image/png": "[encoded data removed]",
      "text/plain": [
       "<Figure size 576x360 with 1 Axes>"
      ]
     },
     "metadata": {
      "needs_background": "light"
     },
     "output_type": "display_data"
    },
    {
     "data": {
      "text/plain": [
       "count    99996.000000\n",
       "mean        94.998342\n",
       "std         44.749573\n",
       "min          0.000000\n",
       "25%         59.450028\n",
       "50%         94.925026\n",
       "75%        130.586815\n",
       "max        190.029838\n",
       "Name: product, dtype: float64"
      ]
     },
     "execution_count": 38,
     "metadata": {},
     "output_type": "execute_result"
    },
    {
     "data": {
      "image/png": "[encoded data removed]",
      "text/plain": [
       "<Figure size 432x288 with 1 Axes>"
      ]
     },
     "metadata": {
      "needs_background": "light"
     },
     "output_type": "display_data"
    }
   ],
   "source": [
    "plot_hist(data_geo3, \"product\", 20)\n",
    "plot_box(data_geo3, \"product\", 0, 191)\n",
    "data_geo3[\"product\"].describe()"
   ]
  },
  {
   "cell_type": "markdown",
   "metadata": {},
   "source": [
    "В третьем регионе среднее значение и медиана объема равны приблизительно 94 тысячам баррелелям. Максимальное значение 190, а минимальное равно 0."
   ]
  },
  {
   "cell_type": "markdown",
   "metadata": {},
   "source": [
    "**Итоги по исследовательскому анализу данных:**\n",
    "* Трудно определить закономерности и причину выбросов для значений f0, f1 и f2 из-за неизвестной природы\n",
    "* В первом регионе среднее значение и медиана объема равны приблизительно 92 тысячам баррелелям. Максимальное значение 185, а минимальное равно 0.\n",
    "* Во втором регионе среднее значение равно 57, а медиана приблизительно 69 тысячам баррелелям. Максимальное значение 137, а минимальное равно 0.\n",
    "* В третьем регионе среднее значение и медиана объема равны приблизительно 94 тысячам баррелелям. Максимальное значение 190, а минимальное равно 0.\n",
    "* Регионом с самым большим средним и общим значением является 3 регион. На втором месте находиться первый регион, а третий регион имеет самое большое количество выбросов, так как медиана и среднее значение разительно отличаются.\n"
   ]
  },
  {
   "cell_type": "markdown",
   "metadata": {},
   "source": [
    "# Корреляционный анализ признаков\n"
   ]
  },
  {
   "cell_type": "code",
   "execution_count": 39,
   "metadata": {},
   "outputs": [],
   "source": [
    "num_cols = []"
   ]
  },
  {
   "cell_type": "code",
   "execution_count": 40,
   "metadata": {},
   "outputs": [],
   "source": [
    "for col in data_geo1.columns:\n",
    "    if ((data_geo1[col].dtype == 'int64' or data_geo1[col].dtype == 'float64') and (col != 'id')):\n",
    "        num_cols.append(col)"
   ]
  },
  {
   "cell_type": "code",
   "execution_count": 41,
   "metadata": {},
   "outputs": [],
   "source": [
    "phik_train = data_geo1.drop(columns = \"id\")"
   ]
  },
  {
   "cell_type": "code",
   "execution_count": 42,
   "metadata": {},
   "outputs": [],
   "source": [
    "phik_overview = phik_train.phik_matrix(interval_cols=num_cols)"
   ]
  },
  {
   "cell_type": "code",
   "execution_count": 43,
   "metadata": {},
   "outputs": [
    {
     "data": {
      "image/png": "[encoded data removed]",
      "text/plain": [
       "<Figure size 1440x1080 with 2 Axes>"
      ]
     },
     "metadata": {
      "needs_background": "light"
     },
     "output_type": "display_data"
    }
   ],
   "source": [
    "plot_correlation_matrix(\n",
    "    phik_overview.values,\n",
    "    x_labels=phik_overview.columns,\n",
    "    y_labels=phik_overview.index,\n",
    "    vmin=0, vmax=1, color_map='Greens',\n",
    "    title=r'correlation $\\phi_K$',\n",
    "    fontsize_factor=1.5,\n",
    "    figsize=(20, 15)\n",
    ")"
   ]
  },
  {
   "cell_type": "markdown",
   "metadata": {},
   "source": [
    "Корреляционный анализ анализ признаков первого региона показывает, что целевой признак больше всего зависит от f2. Коэффициент равен 0.48. Тем не менее, сильной такую связь назвать сложно. Примечательно, что f2 вообще не зависит от других признаков. Между f1 и f2 присутствует сильная связь с коэффициентом 0.76. "
   ]
  },
  {
   "cell_type": "code",
   "execution_count": 44,
   "metadata": {},
   "outputs": [],
   "source": [
    "phik_train = data_geo2.drop(columns = \"id\")\n",
    "phik_overview = phik_train.phik_matrix(interval_cols=num_cols)"
   ]
  },
  {
   "cell_type": "code",
   "execution_count": 45,
   "metadata": {},
   "outputs": [
    {
     "data": {
      "image/png": "[encoded data removed]",
      "text/plain": [
       "<Figure size 1440x1080 with 2 Axes>"
      ]
     },
     "metadata": {
      "needs_background": "light"
     },
     "output_type": "display_data"
    }
   ],
   "source": [
    "plot_correlation_matrix(\n",
    "    phik_overview.values,\n",
    "    x_labels=phik_overview.columns,\n",
    "    y_labels=phik_overview.index,\n",
    "    vmin=0, vmax=1, color_map='Greens',\n",
    "    title=r'correlation $\\phi_K$',\n",
    "    fontsize_factor=1.5,\n",
    "    figsize=(20, 15)\n",
    ")"
   ]
  },
  {
   "cell_type": "markdown",
   "metadata": {},
   "source": [
    "Корреляционный анализ анализ признаков второго региона показывает, что целевой признак больше всего зависит от f2. Коэффициент равен 0.98. Целевой признак практически полностью зависит от f2, что может привести к переобучении модели. Целевой признак также имеет сильную связь с f0 - 0.63. "
   ]
  },
  {
   "cell_type": "code",
   "execution_count": 46,
   "metadata": {},
   "outputs": [],
   "source": [
    "phik_train = data_geo3.drop(columns = \"id\")\n",
    "phik_overview = phik_train.phik_matrix(interval_cols=num_cols)"
   ]
  },
  {
   "cell_type": "code",
   "execution_count": 47,
   "metadata": {},
   "outputs": [
    {
     "data": {
      "image/png": "[encoded data removed]",
      "text/plain": [
       "<Figure size 1440x1080 with 2 Axes>"
      ]
     },
     "metadata": {
      "needs_background": "light"
     },
     "output_type": "display_data"
    }
   ],
   "source": [
    "plot_correlation_matrix(\n",
    "    phik_overview.values,\n",
    "    x_labels=phik_overview.columns,\n",
    "    y_labels=phik_overview.index,\n",
    "    vmin=0, vmax=1, color_map='Greens',\n",
    "    title=r'correlation $\\phi_K$',\n",
    "    fontsize_factor=1.5,\n",
    "    figsize=(20, 15)\n",
    ")"
   ]
  },
  {
   "cell_type": "markdown",
   "metadata": {},
   "source": [
    "Корреляционный анализ анализ признаков второго региона показывает, что целевой признак больше всего зависит от f2. Коэффициент равен 0.44. С остальными же признаками связь слабая - 0.22 и 0.20. Примечательно, что признаки не зависят друг от друга и имею коэффициент равен 0."
   ]
  },
  {
   "cell_type": "markdown",
   "metadata": {},
   "source": [
    "**Итоги по корреляционному анализу признаков:**\n",
    "* Корреляционный анализ анализ признаков первого региона показывает, что целевой признак больше всего зависит от f2. Коэффициент равен 0.48. Тем не менее, сильной такую связь назвать сложно. Примечательно, что f2 вообще не зависит от других признаков. Между f1 и f2 присутствует сильная связь с коэффициентом 0.76. \n",
    "* Корреляционный анализ анализ признаков второго региона показывает, что целевой признак больше всего зависит от f2. Коэффициент равен 0.98. Целевой признак практически полностью зависит от f2, что может привести к переобучении модели. Целевой признак также имеет сильную связь с f0 - 0.63. \n",
    "* Корреляционный анализ анализ признаков второго региона показывает, что целевой признак больше всего зависит от f2. Коэффициент равен 0.44. С остальными же признаками связь слабая - 0.22 и 0.20. Примечательно, что признаки не зависят друг от друга и имею коэффициент равен 0."
   ]
  },
  {
   "cell_type": "markdown",
   "metadata": {},
   "source": [
    "## Обучение и проверка модели"
   ]
  },
  {
   "cell_type": "code",
   "execution_count": 48,
   "metadata": {},
   "outputs": [],
   "source": [
    "def linear_regression(data):\n",
    "    X = data.drop(columns={\"id\", \"product\"})\n",
    "    y = data[\"product\"]\n",
    "    X_train, X_test, y_train, y_test = train_test_split(\n",
    "        X, \n",
    "        y, \n",
    "        random_state=RANDOM_STATE, test_size = 0.25)\n",
    "    num_col_names = [\"f0\", \"f1\", \"f2\"]\n",
    "    scaler = StandardScaler()\n",
    "    X_train_scaled = scaler.fit_transform(X_train[num_col_names])\n",
    "    X_test_scaled = scaler.transform(X_test[num_col_names])\n",
    "    model_lr  = LinearRegression()\n",
    "    model_lr.fit(X_train_scaled, y_train)\n",
    "    predictions = model_lr.predict(X_test_scaled)\n",
    "    rmse = mean_squared_error(y_test, predictions, squared=False)\n",
    "    mean = predictions.mean()\n",
    "    return rmse, mean, predictions, y_test"
   ]
  },
  {
   "cell_type": "code",
   "execution_count": 49,
   "metadata": {},
   "outputs": [],
   "source": [
    "geo1_rmse, geo1_mean, geo1_pred, geo1_test = linear_regression(data_geo1)\n",
    "geo2_rmse, geo2_mean, geo2_pred, geo2_test = linear_regression(data_geo2)\n",
    "geo3_rmse, geo3_mean, geo3_pred, geo3_test = linear_regression(data_geo3)"
   ]
  },
  {
   "cell_type": "code",
   "execution_count": 50,
   "metadata": {
    "scrolled": true
   },
   "outputs": [
    {
     "name": "stdout",
     "output_type": "stream",
     "text": [
      "Результаты модели по трем регионам:\n",
      "1) RMSE модели: 37.69, Cредний запас предсказанного сырья: 92.61\n",
      "2) RMSE модели: 0.89, Cредний запас предсказанного сырья: 68.58\n",
      "3) RMSE модели: 40.08, Cредний запас предсказанного сырья: 94.93\n",
      "\n"
     ]
    }
   ],
   "source": [
    "print(f\"Результаты модели по трем регионам:\\n\"\n",
    "      f\"1) RMSE модели: {geo1_rmse:.2f}, Cредний запас предсказанного сырья: {geo1_mean:.2f}\\n\"\n",
    "      f\"2) RMSE модели: {geo2_rmse:.2f}, Cредний запас предсказанного сырья: {geo2_mean:.2f}\\n\"\n",
    "      f\"3) RMSE модели: {geo3_rmse:.2f}, Cредний запас предсказанного сырья: {geo3_mean:.2f}\\n\")"
   ]
  },
  {
   "cell_type": "markdown",
   "metadata": {},
   "source": [
    "**Итоги по обзору данных:**\n",
    "* Никаких проблем с названиями и форматом столбцов \n",
    "* Формат данных соответствует описанию датасета\n",
    "\n",
    "**Итоги по предобработке данных:**\n",
    "* Пропусков нет\n",
    "* Неявные дубликаты были обработаны\n",
    "* Явных дубликатов нет\n",
    "\n",
    "**Итоги по исследовательскому анализу данных:**\n",
    "* Трудно определить закономерности и причину выбросов для значений f0, f1 и f2 из-за неизвестной природы\n",
    "* В первом регионе среднее значение и медиана объема равны приблизительно 92 тысячам баррелелям. Максимальное значение 185, а минимальное равно 0.\n",
    "* Во втором регионе среднее значение равно 57, а медиана приблизительно 69 тысячам баррелелям. Максимальное значение 137, а минимальное равно 0.\n",
    "* В третьем регионе среднее значение и медиана объема равны приблизительно 94 тысячам баррелелям. Максимальное значение 190, а минимальное равно 0.\n",
    "* Регионом с самым большим средним и общим значением является 3 регион. На втором месте находиться первый регион, а третий регион имеет самое большое количество выбросов, так как медиана и среднее значение разительно отличаются.\n",
    "\n",
    "**Итоги по корреляционному анализу признаков:**\n",
    "* Корреляционный анализ анализ признаков первого региона показывает, что целевой признак больше всего зависит от f2. Коэффициент равен 0.48. Тем не менее, сильной такую связь назвать сложно. Примечательно, что f2 вообще не зависит от других признаков. Между f1 и f2 присутствует сильная связь с коэффициентом 0.76. \n",
    "* Корреляционный анализ анализ признаков второго региона показывает, что целевой признак больше всего зависит от f2. Коэффициент равен 0.98. Целевой признак практически полностью зависит от f2, что может привести к переобучении модели. Целевой признак также имеет сильную связь с f0 - 0.63. \n",
    "* Корреляционный анализ анализ признаков второго региона показывает, что целевой признак больше всего зависит от f2. Коэффициент равен 0.44. С остальными же признаками связь слабая - 0.22 и 0.20. Примечательно, что признаки не зависят друг от друга и имею коэффициент равен 0.**Итоги по обучению модели:**\n",
    "\n",
    "Результаты нашей модели по трем регионам показывает, что лучшую точность модели показывает 2 регион. Модель в среднем ошибается на 0.89 тыс. баррелей, когда в первом и третьем регионе машина ошибается на 37.69 и 40.08 соответственно. Модель хуже всего прогнозирует третий регион. Тем не менее, стоит учесть, что во втором регионе корреляционный анализ второго региона показывает, что объем запасов почти полностью зависил от f2, что повлияло на такой низкий показатель RMSE. Наибольший средний запас предсказанного сырья наоборот приходится на 3 и 1 регион с показателями 94.93 и 92.61. Меньше всего приходится на 2 регион с 68.58."
   ]
  },
  {
   "cell_type": "markdown",
   "metadata": {},
   "source": [
    "## Подготовка к расчёту прибыли"
   ]
  },
  {
   "cell_type": "code",
   "execution_count": 51,
   "metadata": {},
   "outputs": [],
   "source": [
    "N = 500 # При разведке региона исследуют 500 точек\n",
    "N_BEST = 200 # С помощью машинного обучения выбирают 200 лучших для разработки\n",
    "BUDGET = 10000000000 # 10 миллиардов\n",
    "BARREL_PRICE = 450000"
   ]
  },
  {
   "cell_type": "code",
   "execution_count": 52,
   "metadata": {},
   "outputs": [],
   "source": [
    "volume_min = math.ceil(BUDGET / (BARREL_PRICE * N_BEST))"
   ]
  },
  {
   "cell_type": "code",
   "execution_count": 53,
   "metadata": {},
   "outputs": [
    {
     "name": "stdout",
     "output_type": "stream",
     "text": [
      "112\n"
     ]
    }
   ],
   "source": [
    "print(volume_min)"
   ]
  },
  {
   "cell_type": "code",
   "execution_count": 54,
   "metadata": {},
   "outputs": [
    {
     "name": "stdout",
     "output_type": "stream",
     "text": [
      "Результаты модели по трем регионам:\n",
      "1) Cредний запас предсказанного сырья: 92.61\n",
      "2) Cредний запас предсказанного сырья: 68.58\n",
      "3) Cредний запас предсказанного сырья: 94.93\n",
      "\n"
     ]
    }
   ],
   "source": [
    "print(f\"Результаты модели по трем регионам:\\n\"\n",
    "      f\"1) Cредний запас предсказанного сырья: {geo1_mean:.2f}\\n\"\n",
    "      f\"2) Cредний запас предсказанного сырья: {geo2_mean:.2f}\\n\"\n",
    "      f\"3) Cредний запас предсказанного сырья: {geo3_mean:.2f}\\n\")"
   ]
  },
  {
   "cell_type": "markdown",
   "metadata": {},
   "source": [
    "**Итоги по подготовке к расчету прибыли:**\n",
    "\n",
    "Для безубыточной разработки новой скважины объем сырья должен быть минимум 112 тыс. баррелей, но ни один из показателей среднего запаса предсказанного сырья не достигает минимально-удовлетворительной отметки. Сложно сделать вывод о том какой из регионов является наиболее прибыльным для предприятия. Нужно будет выбирать скважины, которые приносят наибольшую прибыль в регионах."
   ]
  },
  {
   "cell_type": "markdown",
   "metadata": {},
   "source": [
    "## Расчёт прибыли и рисков "
   ]
  },
  {
   "cell_type": "code",
   "execution_count": 61,
   "metadata": {},
   "outputs": [],
   "source": [
    "def profit(true, pred):\n",
    "    pred = pd.Series(pred).sort_values(ascending=False)[:N_BEST]\n",
    "    true = true.iloc[pred.index].reset_index(drop=True)\n",
    "    volume = true.sum()\n",
    "    return volume * BARREL_PRICE - BUDGET"
   ]
  },
  {
   "cell_type": "code",
   "execution_count": 64,
   "metadata": {
    "scrolled": true
   },
   "outputs": [
    {
     "name": "stdout",
     "output_type": "stream",
     "text": [
      "Прибыль с 200 лучших точек первого региона: 3468529787.422388\n",
      "Прибыль с 200 лучших точек второго региона: 2415086696.681511\n",
      "Прибыль с 200 лучших точек третьего региона: 2396613000.939848\n"
     ]
    }
   ],
   "source": [
    "print(f\"Прибыль с 200 лучших точек первого региона: {profit(geo1_test, geo1_pred)}\\n\"\n",
    "      f\"Прибыль с 200 лучших точек второго региона: {profit(geo2_test, geo2_pred)}\\n\"\n",
    "      f\"Прибыль с 200 лучших точек третьего региона: {profit(geo3_test, geo3_pred)}\")"
   ]
  },
  {
   "cell_type": "markdown",
   "metadata": {},
   "source": [
    "Самым прибыльным регионом является первый регион с общей прибылью 3468529787.42 рублей"
   ]
  },
  {
   "cell_type": "code",
   "execution_count": 74,
   "metadata": {},
   "outputs": [],
   "source": [
    "def interval(pred, true):\n",
    "    state = np.random.RandomState(12345)\n",
    "    values = []\n",
    "    pred = pd.Series(pred)\n",
    "    pred.index = true.index\n",
    "    for i in range(1000):\n",
    "        sample_true = true.sample(n = N, replace=True, random_state = state)\n",
    "        sample_pred = pred[sample_true.index]\n",
    "        total_profit = profit(sample_true, sample_pred.values)\n",
    "        values.append(total_profit)\n",
    "    values = pd.Series(values)\n",
    "    lower = values.quantile(0.025)\n",
    "    upper = values.quantile(0.975)\n",
    "    mean = values.mean()\n",
    "    risk = (values < 0).mean()\n",
    "    return lower, upper, mean, risk"
   ]
  },
  {
   "cell_type": "code",
   "execution_count": 77,
   "metadata": {},
   "outputs": [],
   "source": [
    "geo1_lower, geo1_upper, geo1_mean, geo1_risk = interval(geo1_pred, geo1_test)\n",
    "geo2_lower, geo2_upper, geo2_mean, geo2_risk = interval(geo2_pred, geo2_test)\n",
    "geo3_lower, geo3_upper, geo3_mean, geo3_risk = interval(geo3_pred, geo3_test)"
   ]
  },
  {
   "cell_type": "code",
   "execution_count": 82,
   "metadata": {},
   "outputs": [
    {
     "name": "stdout",
     "output_type": "stream",
     "text": [
      "Результаты по трем регионам:\n",
      "1) 95% доверительный интервал: (-96261928.01843758, 933493095.4996519), Средняя прибыль: 417354353.4556372, Риск: 5.90%\n",
      "2) 95% доверительный интервал: (51741836.3252449, 863042250.0217923), Средняя прибыль: 432017870.0394272, Риск: 1.00%\n",
      "3) 95% доверительный интервал: (-186256154.75548777, 892099105.6741308), Средняя прибыль: 356881964.6217665, Риск: 8.90%\n"
     ]
    }
   ],
   "source": [
    "print(f\"Результаты по трем регионам:\\n\"\n",
    "      f\"1) 95% доверительный интервал: ({geo1_lower}, {geo1_upper}), Средняя прибыль: {geo1_mean}, Риск: {geo1_risk*100:.2f}%\\n\"\n",
    "      f\"2) 95% доверительный интервал: ({geo2_lower}, {geo2_upper}), Средняя прибыль: {geo2_mean}, Риск: {geo2_risk*100:.2f}%\\n\"\n",
    "      f\"3) 95% доверительный интервал: ({geo3_lower}, {geo3_upper}), Средняя прибыль: {geo3_mean}, Риск: {geo3_risk*100:.2f}%\")"
   ]
  },
  {
   "cell_type": "markdown",
   "metadata": {},
   "source": [
    "Для выбора подходящего региона было принято решения поставить границу риска и вероятности убытков - 2.5%. Единственным подходящим регионом является второй регион с риском 1%. Более того, этот регион также приносит наибольшую среднюю прибыль - 432017870 рублей."
   ]
  },
  {
   "cell_type": "markdown",
   "metadata": {},
   "source": [
    "**Итоги по расчету прибыли и рисков:**\n",
    "* Прибыль с 200 лучших точек первого региона: 3468529787.422388\n",
    "* Прибыль с 200 лучших точек второго региона: 2415086696.681511\n",
    "* Прибыль с 200 лучших точек третьего региона: 2396613000.939848\n",
    "* Самым прибыльным регионом является первый регион с общей прибылью 3468529787.42 рублей\n",
    "* 1) 95% доверительный интервал: (-96261928.01843758, 933493095.4996519), Средняя прибыль: 417354353.4556372, Риск: 5.90%\n",
    "* 2) 95% доверительный интервал: (51741836.3252449, 863042250.0217923), Средняя прибыль: 432017870.0394272, Риск: 1.00%\n",
    "* 3) 95% доверительный интервал: (-186256154.75548777, 892099105.6741308), Средняя прибыль: 356881964.6217665, Риск: 8.90%\n",
    "* Для выбора подходящего региона было принято решения поставить границу риска и вероятности убытков - 2.5%. Единственным подходящим регионом является второй регион с риском 1%. Более того, этот регион также приносит наибольшую среднюю прибыль - 432017870 рублей."
   ]
  }
 ],
 "metadata": {
  "ExecuteTimeLog": [
   {
    "duration": 1571,
    "start_time": "2025-02-20T17:45:53.739Z"
   },
   {
    "duration": 11699,
    "start_time": "2025-02-20T17:46:09.256Z"
   },
   {
    "duration": 19,
    "start_time": "2025-02-20T17:46:27.358Z"
   },
   {
    "duration": 3800,
    "start_time": "2025-02-20T17:46:39.516Z"
   },
   {
    "duration": 377,
    "start_time": "2025-02-20T17:46:45.438Z"
   },
   {
    "duration": 447,
    "start_time": "2025-02-20T17:48:13.702Z"
   },
   {
    "duration": 3,
    "start_time": "2025-02-20T17:48:16.359Z"
   },
   {
    "duration": 15,
    "start_time": "2025-02-20T17:48:29.993Z"
   },
   {
    "duration": 28,
    "start_time": "2025-02-20T17:48:43.668Z"
   },
   {
    "duration": 45,
    "start_time": "2025-02-20T17:49:51.750Z"
   },
   {
    "duration": 28,
    "start_time": "2025-02-20T17:50:02.899Z"
   },
   {
    "duration": 15,
    "start_time": "2025-02-20T17:50:08.949Z"
   },
   {
    "duration": 16,
    "start_time": "2025-02-20T17:50:15.042Z"
   },
   {
    "duration": 2705,
    "start_time": "2025-02-20T17:52:33.010Z"
   },
   {
    "duration": 1564,
    "start_time": "2025-02-20T17:52:35.718Z"
   },
   {
    "duration": 3,
    "start_time": "2025-02-20T17:52:37.284Z"
   },
   {
    "duration": 499,
    "start_time": "2025-02-20T17:52:37.289Z"
   },
   {
    "duration": 37,
    "start_time": "2025-02-20T17:52:37.790Z"
   },
   {
    "duration": 16,
    "start_time": "2025-02-20T17:52:37.829Z"
   },
   {
    "duration": 48,
    "start_time": "2025-02-20T17:52:37.847Z"
   },
   {
    "duration": 16,
    "start_time": "2025-02-20T17:52:37.898Z"
   },
   {
    "duration": 123,
    "start_time": "2025-02-20T17:55:04.225Z"
   },
   {
    "duration": 13,
    "start_time": "2025-02-20T17:55:06.952Z"
   },
   {
    "duration": 64,
    "start_time": "2025-02-20T17:55:18.713Z"
   },
   {
    "duration": 52,
    "start_time": "2025-02-20T17:55:20.544Z"
   },
   {
    "duration": 52,
    "start_time": "2025-02-20T17:55:25.430Z"
   },
   {
    "duration": 60,
    "start_time": "2025-02-20T17:55:29.544Z"
   },
   {
    "duration": 50,
    "start_time": "2025-02-20T17:55:33.736Z"
   },
   {
    "duration": 50,
    "start_time": "2025-02-20T17:55:36.564Z"
   },
   {
    "duration": 11,
    "start_time": "2025-02-20T17:55:52.151Z"
   },
   {
    "duration": 12,
    "start_time": "2025-02-20T17:56:34.735Z"
   },
   {
    "duration": 11,
    "start_time": "2025-02-20T17:56:36.409Z"
   },
   {
    "duration": 49,
    "start_time": "2025-02-20T17:57:13.040Z"
   },
   {
    "duration": 45,
    "start_time": "2025-02-20T17:57:18.510Z"
   },
   {
    "duration": 50,
    "start_time": "2025-02-20T17:57:22.281Z"
   },
   {
    "duration": 4,
    "start_time": "2025-02-20T17:57:27.381Z"
   },
   {
    "duration": 75,
    "start_time": "2025-02-20T17:57:48.321Z"
   },
   {
    "duration": 16,
    "start_time": "2025-02-20T17:58:03.022Z"
   },
   {
    "duration": 49,
    "start_time": "2025-02-20T17:58:49.017Z"
   },
   {
    "duration": 50,
    "start_time": "2025-02-20T17:58:51.693Z"
   },
   {
    "duration": 20,
    "start_time": "2025-02-20T18:00:04.167Z"
   },
   {
    "duration": 17,
    "start_time": "2025-02-20T18:00:15.826Z"
   },
   {
    "duration": 9,
    "start_time": "2025-02-20T18:00:50.039Z"
   },
   {
    "duration": 21,
    "start_time": "2025-02-20T18:00:58.337Z"
   },
   {
    "duration": 26,
    "start_time": "2025-02-20T18:02:03.609Z"
   },
   {
    "duration": 17,
    "start_time": "2025-02-20T18:02:25.943Z"
   },
   {
    "duration": 3,
    "start_time": "2025-02-20T18:03:36.627Z"
   },
   {
    "duration": 10,
    "start_time": "2025-02-20T18:03:53.546Z"
   },
   {
    "duration": 3,
    "start_time": "2025-02-20T18:03:58.836Z"
   },
   {
    "duration": 16,
    "start_time": "2025-02-20T18:04:00.410Z"
   },
   {
    "duration": 3,
    "start_time": "2025-02-20T18:04:27.064Z"
   },
   {
    "duration": 142,
    "start_time": "2025-02-20T18:04:31.481Z"
   },
   {
    "duration": 3,
    "start_time": "2025-02-20T18:05:06.128Z"
   },
   {
    "duration": 181,
    "start_time": "2025-02-20T18:05:08.922Z"
   },
   {
    "duration": 11,
    "start_time": "2025-02-20T18:08:23.048Z"
   },
   {
    "duration": 17,
    "start_time": "2025-02-20T18:09:12.323Z"
   },
   {
    "duration": 763,
    "start_time": "2025-02-20T18:09:22.332Z"
   },
   {
    "duration": 728,
    "start_time": "2025-02-20T18:09:31.334Z"
   },
   {
    "duration": 11,
    "start_time": "2025-02-20T18:10:04.284Z"
   },
   {
    "duration": 2751,
    "start_time": "2025-02-20T18:10:19.467Z"
   },
   {
    "duration": 1565,
    "start_time": "2025-02-20T18:10:22.220Z"
   },
   {
    "duration": 3,
    "start_time": "2025-02-20T18:10:23.787Z"
   },
   {
    "duration": 452,
    "start_time": "2025-02-20T18:10:23.792Z"
   },
   {
    "duration": 35,
    "start_time": "2025-02-20T18:10:24.245Z"
   },
   {
    "duration": 17,
    "start_time": "2025-02-20T18:10:24.281Z"
   },
   {
    "duration": 16,
    "start_time": "2025-02-20T18:10:24.299Z"
   },
   {
    "duration": 26,
    "start_time": "2025-02-20T18:10:24.318Z"
   },
   {
    "duration": 13,
    "start_time": "2025-02-20T18:10:24.371Z"
   },
   {
    "duration": 12,
    "start_time": "2025-02-20T18:10:24.387Z"
   },
   {
    "duration": 18,
    "start_time": "2025-02-20T18:10:24.401Z"
   },
   {
    "duration": 75,
    "start_time": "2025-02-20T18:10:24.420Z"
   },
   {
    "duration": 46,
    "start_time": "2025-02-20T18:10:24.497Z"
   },
   {
    "duration": 63,
    "start_time": "2025-02-20T18:10:24.544Z"
   },
   {
    "duration": 20,
    "start_time": "2025-02-20T18:10:24.608Z"
   },
   {
    "duration": 43,
    "start_time": "2025-02-20T18:10:24.629Z"
   },
   {
    "duration": 3,
    "start_time": "2025-02-20T18:10:24.673Z"
   },
   {
    "duration": 156,
    "start_time": "2025-02-20T18:10:24.678Z"
   },
   {
    "duration": 53,
    "start_time": "2025-02-20T18:10:24.836Z"
   },
   {
    "duration": 18,
    "start_time": "2025-02-20T18:10:38.073Z"
   },
   {
    "duration": 66,
    "start_time": "2025-02-20T18:10:56.140Z"
   },
   {
    "duration": 62,
    "start_time": "2025-02-20T18:11:03.803Z"
   },
   {
    "duration": 57,
    "start_time": "2025-02-20T18:11:46.839Z"
   },
   {
    "duration": 3,
    "start_time": "2025-02-20T18:12:06.977Z"
   },
   {
    "duration": 66,
    "start_time": "2025-02-20T18:12:10.074Z"
   },
   {
    "duration": 63,
    "start_time": "2025-02-20T18:12:11.920Z"
   },
   {
    "duration": 83,
    "start_time": "2025-02-20T18:12:40.731Z"
   },
   {
    "duration": 16,
    "start_time": "2025-02-20T18:12:41.892Z"
   },
   {
    "duration": 40,
    "start_time": "2025-02-20T18:12:49.718Z"
   },
   {
    "duration": 3,
    "start_time": "2025-02-20T18:15:13.745Z"
   },
   {
    "duration": 4,
    "start_time": "2025-02-20T18:15:40.160Z"
   },
   {
    "duration": 3,
    "start_time": "2025-02-20T18:15:41.234Z"
   },
   {
    "duration": 4,
    "start_time": "2025-02-20T18:15:41.682Z"
   },
   {
    "duration": 15,
    "start_time": "2025-02-20T18:16:11.950Z"
   },
   {
    "duration": 392,
    "start_time": "2025-02-20T18:17:03.108Z"
   },
   {
    "duration": 469,
    "start_time": "2025-02-20T18:17:25.974Z"
   },
   {
    "duration": 439,
    "start_time": "2025-02-20T18:17:28.966Z"
   },
   {
    "duration": 399,
    "start_time": "2025-02-20T18:17:31.429Z"
   },
   {
    "duration": 504,
    "start_time": "2025-02-20T18:17:36.230Z"
   },
   {
    "duration": 457,
    "start_time": "2025-02-20T18:17:40.504Z"
   },
   {
    "duration": 536,
    "start_time": "2025-02-20T18:17:43.109Z"
   },
   {
    "duration": 405,
    "start_time": "2025-02-20T18:17:45.318Z"
   },
   {
    "duration": 442,
    "start_time": "2025-02-20T18:17:49.089Z"
   },
   {
    "duration": 453,
    "start_time": "2025-02-20T18:17:56.045Z"
   },
   {
    "duration": 442,
    "start_time": "2025-02-20T18:18:03.866Z"
   },
   {
    "duration": 569,
    "start_time": "2025-02-20T18:18:09.382Z"
   },
   {
    "duration": 433,
    "start_time": "2025-02-20T18:42:24.063Z"
   },
   {
    "duration": 389,
    "start_time": "2025-02-20T18:42:41.500Z"
   },
   {
    "duration": 1343,
    "start_time": "2025-02-20T18:42:58.075Z"
   },
   {
    "duration": 431,
    "start_time": "2025-02-20T18:43:16.523Z"
   },
   {
    "duration": 2595,
    "start_time": "2025-02-20T18:43:24.526Z"
   },
   {
    "duration": 1497,
    "start_time": "2025-02-20T18:43:27.124Z"
   },
   {
    "duration": 3,
    "start_time": "2025-02-20T18:43:28.623Z"
   },
   {
    "duration": 471,
    "start_time": "2025-02-20T18:43:28.628Z"
   },
   {
    "duration": 30,
    "start_time": "2025-02-20T18:43:29.102Z"
   },
   {
    "duration": 39,
    "start_time": "2025-02-20T18:43:29.133Z"
   },
   {
    "duration": 15,
    "start_time": "2025-02-20T18:43:29.175Z"
   },
   {
    "duration": 16,
    "start_time": "2025-02-20T18:43:29.192Z"
   },
   {
    "duration": 13,
    "start_time": "2025-02-20T18:43:29.210Z"
   },
   {
    "duration": 25,
    "start_time": "2025-02-20T18:43:29.224Z"
   },
   {
    "duration": 13,
    "start_time": "2025-02-20T18:43:29.271Z"
   },
   {
    "duration": 64,
    "start_time": "2025-02-20T18:43:29.286Z"
   },
   {
    "duration": 55,
    "start_time": "2025-02-20T18:43:29.353Z"
   },
   {
    "duration": 67,
    "start_time": "2025-02-20T18:43:29.412Z"
   },
   {
    "duration": 27,
    "start_time": "2025-02-20T18:43:29.481Z"
   },
   {
    "duration": 26,
    "start_time": "2025-02-20T18:43:29.510Z"
   },
   {
    "duration": 3,
    "start_time": "2025-02-20T18:43:29.539Z"
   },
   {
    "duration": 207,
    "start_time": "2025-02-20T18:43:29.544Z"
   },
   {
    "duration": 85,
    "start_time": "2025-02-20T18:43:29.753Z"
   },
   {
    "duration": 92,
    "start_time": "2025-02-20T18:43:29.840Z"
   },
   {
    "duration": 107,
    "start_time": "2025-02-20T18:43:29.933Z"
   },
   {
    "duration": 43,
    "start_time": "2025-02-20T18:43:30.042Z"
   },
   {
    "duration": 4,
    "start_time": "2025-02-20T18:43:30.087Z"
   },
   {
    "duration": 40,
    "start_time": "2025-02-20T18:43:30.093Z"
   },
   {
    "duration": 27,
    "start_time": "2025-02-20T18:43:30.135Z"
   },
   {
    "duration": 46,
    "start_time": "2025-02-20T18:43:30.164Z"
   },
   {
    "duration": 452,
    "start_time": "2025-02-20T18:43:30.212Z"
   },
   {
    "duration": 494,
    "start_time": "2025-02-20T18:43:30.669Z"
   },
   {
    "duration": 397,
    "start_time": "2025-02-20T18:43:31.165Z"
   },
   {
    "duration": 413,
    "start_time": "2025-02-20T18:48:58.207Z"
   },
   {
    "duration": 434,
    "start_time": "2025-02-20T18:49:47.783Z"
   },
   {
    "duration": 404,
    "start_time": "2025-02-20T18:50:10.196Z"
   },
   {
    "duration": 579,
    "start_time": "2025-02-20T19:00:23.613Z"
   },
   {
    "duration": 462,
    "start_time": "2025-02-20T19:00:29.470Z"
   },
   {
    "duration": 404,
    "start_time": "2025-02-20T19:07:54.235Z"
   },
   {
    "duration": 460,
    "start_time": "2025-02-20T19:07:56.270Z"
   },
   {
    "duration": 434,
    "start_time": "2025-02-20T19:09:15.501Z"
   },
   {
    "duration": 593,
    "start_time": "2025-02-20T19:09:43.553Z"
   },
   {
    "duration": 377,
    "start_time": "2025-02-20T19:09:48.421Z"
   },
   {
    "duration": 411,
    "start_time": "2025-02-20T19:09:51.513Z"
   },
   {
    "duration": 377,
    "start_time": "2025-02-20T19:09:53.449Z"
   },
   {
    "duration": 371,
    "start_time": "2025-02-20T19:09:55.290Z"
   },
   {
    "duration": 489,
    "start_time": "2025-02-20T19:09:57.571Z"
   },
   {
    "duration": 390,
    "start_time": "2025-02-20T19:09:59.888Z"
   },
   {
    "duration": 395,
    "start_time": "2025-02-20T19:10:07.231Z"
   },
   {
    "duration": 393,
    "start_time": "2025-02-20T19:19:55.714Z"
   },
   {
    "duration": 393,
    "start_time": "2025-02-20T19:19:57.353Z"
   },
   {
    "duration": 396,
    "start_time": "2025-02-20T19:19:58.391Z"
   },
   {
    "duration": 402,
    "start_time": "2025-02-20T19:20:22.571Z"
   },
   {
    "duration": 674,
    "start_time": "2025-02-20T19:20:28.099Z"
   },
   {
    "duration": 490,
    "start_time": "2025-02-20T19:20:31.565Z"
   },
   {
    "duration": 471,
    "start_time": "2025-02-20T19:20:50.947Z"
   },
   {
    "duration": 384,
    "start_time": "2025-02-20T19:21:11.848Z"
   },
   {
    "duration": 568,
    "start_time": "2025-02-20T19:21:16.570Z"
   },
   {
    "duration": 425,
    "start_time": "2025-02-20T19:25:07.312Z"
   },
   {
    "duration": 367,
    "start_time": "2025-02-20T19:25:11.519Z"
   },
   {
    "duration": 457,
    "start_time": "2025-02-20T19:25:15.160Z"
   },
   {
    "duration": 475,
    "start_time": "2025-02-20T19:25:18.707Z"
   },
   {
    "duration": 522,
    "start_time": "2025-02-20T19:25:20.655Z"
   },
   {
    "duration": 420,
    "start_time": "2025-02-20T19:25:23.129Z"
   },
   {
    "duration": 426,
    "start_time": "2025-02-20T19:25:26.673Z"
   },
   {
    "duration": 470,
    "start_time": "2025-02-20T19:25:29.284Z"
   },
   {
    "duration": 453,
    "start_time": "2025-02-20T19:25:32.381Z"
   },
   {
    "duration": 591,
    "start_time": "2025-02-20T19:25:45.923Z"
   },
   {
    "duration": 13,
    "start_time": "2025-02-20T19:29:57.391Z"
   },
   {
    "duration": 466,
    "start_time": "2025-02-20T19:31:20.454Z"
   },
   {
    "duration": 469,
    "start_time": "2025-02-20T19:31:29.304Z"
   },
   {
    "duration": 449,
    "start_time": "2025-02-20T19:31:32.565Z"
   },
   {
    "duration": 386,
    "start_time": "2025-02-20T19:31:34.688Z"
   },
   {
    "duration": 507,
    "start_time": "2025-02-20T19:31:37.501Z"
   },
   {
    "duration": 419,
    "start_time": "2025-02-20T19:31:39.421Z"
   },
   {
    "duration": 406,
    "start_time": "2025-02-20T19:31:43.267Z"
   },
   {
    "duration": 404,
    "start_time": "2025-02-20T19:31:45.615Z"
   },
   {
    "duration": 409,
    "start_time": "2025-02-20T19:31:48.251Z"
   },
   {
    "duration": 433,
    "start_time": "2025-02-20T19:32:49.426Z"
   },
   {
    "duration": 488,
    "start_time": "2025-02-20T19:32:52.633Z"
   },
   {
    "duration": 363,
    "start_time": "2025-02-20T19:33:05.582Z"
   },
   {
    "duration": 4,
    "start_time": "2025-02-20T20:02:29.574Z"
   },
   {
    "duration": 121,
    "start_time": "2025-02-20T20:02:30.162Z"
   },
   {
    "duration": 3,
    "start_time": "2025-02-20T20:02:35.541Z"
   },
   {
    "duration": 4,
    "start_time": "2025-02-20T20:02:44.410Z"
   },
   {
    "duration": 5,
    "start_time": "2025-02-20T20:02:50.318Z"
   },
   {
    "duration": 288,
    "start_time": "2025-02-20T20:02:51.745Z"
   },
   {
    "duration": 578,
    "start_time": "2025-02-20T20:02:52.835Z"
   },
   {
    "duration": 4,
    "start_time": "2025-02-20T20:03:30.238Z"
   },
   {
    "duration": 403,
    "start_time": "2025-02-20T20:03:46.274Z"
   },
   {
    "duration": 447,
    "start_time": "2025-02-20T20:03:52.733Z"
   },
   {
    "duration": 387,
    "start_time": "2025-02-20T20:10:43.936Z"
   },
   {
    "duration": 450,
    "start_time": "2025-02-20T20:10:44.926Z"
   },
   {
    "duration": 2581,
    "start_time": "2025-02-20T22:18:26.414Z"
   },
   {
    "duration": 1510,
    "start_time": "2025-02-20T22:18:28.998Z"
   },
   {
    "duration": 3,
    "start_time": "2025-02-20T22:18:30.509Z"
   },
   {
    "duration": 451,
    "start_time": "2025-02-20T22:18:30.514Z"
   },
   {
    "duration": 28,
    "start_time": "2025-02-20T22:18:30.967Z"
   },
   {
    "duration": 25,
    "start_time": "2025-02-20T22:18:30.996Z"
   },
   {
    "duration": 16,
    "start_time": "2025-02-20T22:18:31.023Z"
   },
   {
    "duration": 36,
    "start_time": "2025-02-20T22:18:31.041Z"
   },
   {
    "duration": 13,
    "start_time": "2025-02-20T22:18:31.079Z"
   },
   {
    "duration": 36,
    "start_time": "2025-02-20T22:18:31.094Z"
   },
   {
    "duration": 11,
    "start_time": "2025-02-20T22:18:31.131Z"
   },
   {
    "duration": 52,
    "start_time": "2025-02-20T22:18:31.143Z"
   },
   {
    "duration": 44,
    "start_time": "2025-02-20T22:18:31.197Z"
   },
   {
    "duration": 65,
    "start_time": "2025-02-20T22:18:31.244Z"
   },
   {
    "duration": 38,
    "start_time": "2025-02-20T22:18:31.311Z"
   },
   {
    "duration": 33,
    "start_time": "2025-02-20T22:18:31.350Z"
   },
   {
    "duration": 36,
    "start_time": "2025-02-20T22:18:31.384Z"
   },
   {
    "duration": 157,
    "start_time": "2025-02-20T22:18:31.422Z"
   },
   {
    "duration": 66,
    "start_time": "2025-02-20T22:18:31.581Z"
   },
   {
    "duration": 66,
    "start_time": "2025-02-20T22:18:31.669Z"
   },
   {
    "duration": 99,
    "start_time": "2025-02-20T22:18:31.737Z"
   },
   {
    "duration": 46,
    "start_time": "2025-02-20T22:18:31.838Z"
   },
   {
    "duration": 5,
    "start_time": "2025-02-20T22:18:31.886Z"
   },
   {
    "duration": 12,
    "start_time": "2025-02-20T22:18:31.892Z"
   },
   {
    "duration": 5,
    "start_time": "2025-02-20T22:18:31.906Z"
   },
   {
    "duration": 27,
    "start_time": "2025-02-20T22:18:31.912Z"
   },
   {
    "duration": 459,
    "start_time": "2025-02-20T22:18:31.941Z"
   },
   {
    "duration": 494,
    "start_time": "2025-02-20T22:18:32.401Z"
   },
   {
    "duration": 399,
    "start_time": "2025-02-20T22:18:32.896Z"
   },
   {
    "duration": 427,
    "start_time": "2025-02-20T22:18:33.297Z"
   },
   {
    "duration": 394,
    "start_time": "2025-02-20T22:18:33.726Z"
   },
   {
    "duration": 340,
    "start_time": "2025-02-20T22:18:34.122Z"
   },
   {
    "duration": 447,
    "start_time": "2025-02-20T22:18:34.463Z"
   },
   {
    "duration": 517,
    "start_time": "2025-02-20T22:18:34.911Z"
   },
   {
    "duration": 399,
    "start_time": "2025-02-20T22:18:35.430Z"
   },
   {
    "duration": 402,
    "start_time": "2025-02-20T22:18:35.831Z"
   },
   {
    "duration": 375,
    "start_time": "2025-02-20T22:18:36.235Z"
   },
   {
    "duration": 381,
    "start_time": "2025-02-20T22:18:36.612Z"
   },
   {
    "duration": 2,
    "start_time": "2025-02-20T22:18:36.995Z"
   },
   {
    "duration": 9,
    "start_time": "2025-02-20T22:18:36.999Z"
   },
   {
    "duration": 14,
    "start_time": "2025-02-20T22:18:37.011Z"
   },
   {
    "duration": 379,
    "start_time": "2025-02-20T22:18:37.027Z"
   },
   {
    "duration": 674,
    "start_time": "2025-02-20T22:18:37.407Z"
   },
   {
    "duration": 298,
    "start_time": "2025-02-20T22:18:38.082Z"
   },
   {
    "duration": 507,
    "start_time": "2025-02-20T22:18:38.382Z"
   },
   {
    "duration": 288,
    "start_time": "2025-02-20T22:18:38.891Z"
   },
   {
    "duration": 507,
    "start_time": "2025-02-20T22:18:39.180Z"
   },
   {
    "duration": 5,
    "start_time": "2025-02-20T22:29:44.712Z"
   },
   {
    "duration": 103,
    "start_time": "2025-02-20T22:30:20.469Z"
   },
   {
    "duration": 31,
    "start_time": "2025-02-20T22:30:27.703Z"
   },
   {
    "duration": 28,
    "start_time": "2025-02-20T22:30:44.884Z"
   },
   {
    "duration": 7,
    "start_time": "2025-02-20T22:30:53.786Z"
   },
   {
    "duration": 29,
    "start_time": "2025-02-20T22:35:39.118Z"
   },
   {
    "duration": 28,
    "start_time": "2025-02-20T22:35:41.927Z"
   },
   {
    "duration": 4,
    "start_time": "2025-02-20T22:36:22.767Z"
   },
   {
    "duration": 4,
    "start_time": "2025-02-20T22:37:04.615Z"
   },
   {
    "duration": 292,
    "start_time": "2025-02-20T22:37:58.920Z"
   },
   {
    "duration": 5,
    "start_time": "2025-02-20T22:38:05.049Z"
   },
   {
    "duration": 454,
    "start_time": "2025-02-20T22:38:05.529Z"
   },
   {
    "duration": 102,
    "start_time": "2025-02-20T22:40:02.662Z"
   },
   {
    "duration": 3,
    "start_time": "2025-02-20T22:40:29.827Z"
   },
   {
    "duration": 3,
    "start_time": "2025-02-20T22:41:07.594Z"
   },
   {
    "duration": 3,
    "start_time": "2025-02-20T22:54:58.874Z"
   },
   {
    "duration": 3,
    "start_time": "2025-02-20T22:57:06.185Z"
   },
   {
    "duration": 3,
    "start_time": "2025-02-20T22:58:01.364Z"
   },
   {
    "duration": 3,
    "start_time": "2025-02-20T23:02:45.494Z"
   },
   {
    "duration": 3,
    "start_time": "2025-02-20T23:02:45.994Z"
   },
   {
    "duration": 11,
    "start_time": "2025-02-20T23:02:50.814Z"
   },
   {
    "duration": 10,
    "start_time": "2025-02-20T23:03:25.568Z"
   },
   {
    "duration": 5,
    "start_time": "2025-02-20T23:03:38.416Z"
   },
   {
    "duration": 3,
    "start_time": "2025-02-20T23:03:44.115Z"
   },
   {
    "duration": 3,
    "start_time": "2025-02-20T23:03:45.102Z"
   },
   {
    "duration": 4,
    "start_time": "2025-02-20T23:04:58.319Z"
   },
   {
    "duration": 10,
    "start_time": "2025-02-20T23:11:51.491Z"
   },
   {
    "duration": 10,
    "start_time": "2025-02-20T23:11:59.706Z"
   },
   {
    "duration": 10,
    "start_time": "2025-02-20T23:12:07.570Z"
   },
   {
    "duration": 9,
    "start_time": "2025-02-20T23:12:55.916Z"
   },
   {
    "duration": 9,
    "start_time": "2025-02-20T23:12:58.002Z"
   },
   {
    "duration": 3,
    "start_time": "2025-02-20T23:17:58.010Z"
   },
   {
    "duration": 4,
    "start_time": "2025-02-20T23:19:24.350Z"
   },
   {
    "duration": 4,
    "start_time": "2025-02-20T23:21:52.475Z"
   },
   {
    "duration": 14,
    "start_time": "2025-02-20T23:22:14.303Z"
   },
   {
    "duration": 3,
    "start_time": "2025-02-20T23:22:56.939Z"
   },
   {
    "duration": 26,
    "start_time": "2025-02-20T23:22:58.630Z"
   },
   {
    "duration": 2561,
    "start_time": "2025-02-20T23:23:21.657Z"
   },
   {
    "duration": 1448,
    "start_time": "2025-02-20T23:23:24.221Z"
   },
   {
    "duration": 2,
    "start_time": "2025-02-20T23:23:25.671Z"
   },
   {
    "duration": 415,
    "start_time": "2025-02-20T23:23:25.675Z"
   },
   {
    "duration": 27,
    "start_time": "2025-02-20T23:23:26.093Z"
   },
   {
    "duration": 15,
    "start_time": "2025-02-20T23:23:26.122Z"
   },
   {
    "duration": 40,
    "start_time": "2025-02-20T23:23:26.139Z"
   },
   {
    "duration": 17,
    "start_time": "2025-02-20T23:23:26.181Z"
   },
   {
    "duration": 12,
    "start_time": "2025-02-20T23:23:26.202Z"
   },
   {
    "duration": 12,
    "start_time": "2025-02-20T23:23:26.216Z"
   },
   {
    "duration": 41,
    "start_time": "2025-02-20T23:23:26.230Z"
   },
   {
    "duration": 49,
    "start_time": "2025-02-20T23:23:26.273Z"
   },
   {
    "duration": 57,
    "start_time": "2025-02-20T23:23:26.324Z"
   },
   {
    "duration": 48,
    "start_time": "2025-02-20T23:23:26.385Z"
   },
   {
    "duration": 35,
    "start_time": "2025-02-20T23:23:26.435Z"
   },
   {
    "duration": 21,
    "start_time": "2025-02-20T23:23:26.472Z"
   },
   {
    "duration": 4,
    "start_time": "2025-02-20T23:23:26.494Z"
   },
   {
    "duration": 174,
    "start_time": "2025-02-20T23:23:26.499Z"
   },
   {
    "duration": 67,
    "start_time": "2025-02-20T23:23:26.674Z"
   },
   {
    "duration": 90,
    "start_time": "2025-02-20T23:23:26.743Z"
   },
   {
    "duration": 105,
    "start_time": "2025-02-20T23:23:26.834Z"
   },
   {
    "duration": 41,
    "start_time": "2025-02-20T23:23:26.941Z"
   },
   {
    "duration": 6,
    "start_time": "2025-02-20T23:23:26.983Z"
   },
   {
    "duration": 4,
    "start_time": "2025-02-20T23:23:26.990Z"
   },
   {
    "duration": 4,
    "start_time": "2025-02-20T23:23:26.995Z"
   },
   {
    "duration": 15,
    "start_time": "2025-02-20T23:23:27.000Z"
   },
   {
    "duration": 461,
    "start_time": "2025-02-20T23:23:27.016Z"
   },
   {
    "duration": 481,
    "start_time": "2025-02-20T23:23:27.479Z"
   },
   {
    "duration": 388,
    "start_time": "2025-02-20T23:23:27.969Z"
   },
   {
    "duration": 398,
    "start_time": "2025-02-20T23:23:28.359Z"
   },
   {
    "duration": 394,
    "start_time": "2025-02-20T23:23:28.759Z"
   },
   {
    "duration": 332,
    "start_time": "2025-02-20T23:23:29.155Z"
   },
   {
    "duration": 439,
    "start_time": "2025-02-20T23:23:29.489Z"
   },
   {
    "duration": 522,
    "start_time": "2025-02-20T23:23:29.930Z"
   },
   {
    "duration": 390,
    "start_time": "2025-02-20T23:23:30.453Z"
   },
   {
    "duration": 395,
    "start_time": "2025-02-20T23:23:30.845Z"
   },
   {
    "duration": 370,
    "start_time": "2025-02-20T23:23:31.241Z"
   },
   {
    "duration": 368,
    "start_time": "2025-02-20T23:23:31.613Z"
   },
   {
    "duration": 2,
    "start_time": "2025-02-20T23:23:31.983Z"
   },
   {
    "duration": 18,
    "start_time": "2025-02-20T23:23:31.986Z"
   },
   {
    "duration": 4,
    "start_time": "2025-02-20T23:23:32.008Z"
   },
   {
    "duration": 300,
    "start_time": "2025-02-20T23:23:32.014Z"
   },
   {
    "duration": 668,
    "start_time": "2025-02-20T23:23:32.316Z"
   },
   {
    "duration": 293,
    "start_time": "2025-02-20T23:23:32.986Z"
   },
   {
    "duration": 486,
    "start_time": "2025-02-20T23:23:33.281Z"
   },
   {
    "duration": 285,
    "start_time": "2025-02-20T23:23:33.770Z"
   },
   {
    "duration": 462,
    "start_time": "2025-02-20T23:23:34.057Z"
   },
   {
    "duration": 4,
    "start_time": "2025-02-20T23:23:34.521Z"
   },
   {
    "duration": 454,
    "start_time": "2025-02-20T23:23:34.527Z"
   },
   {
    "duration": 5,
    "start_time": "2025-02-20T23:23:34.983Z"
   },
   {
    "duration": 181,
    "start_time": "2025-02-20T23:23:34.990Z"
   },
   {
    "duration": 23,
    "start_time": "2025-02-20T23:23:35.173Z"
   },
   {
    "duration": 13,
    "start_time": "2025-02-20T23:23:35.198Z"
   },
   {
    "duration": 6,
    "start_time": "2025-02-20T23:23:35.212Z"
   },
   {
    "duration": 22,
    "start_time": "2025-02-20T23:23:35.219Z"
   },
   {
    "duration": 138,
    "start_time": "2025-02-20T23:23:35.243Z"
   },
   {
    "duration": 4,
    "start_time": "2025-02-20T23:24:28.532Z"
   },
   {
    "duration": 8,
    "start_time": "2025-02-20T23:24:29.726Z"
   },
   {
    "duration": 4,
    "start_time": "2025-02-20T23:24:57.136Z"
   },
   {
    "duration": 8,
    "start_time": "2025-02-20T23:24:58.221Z"
   },
   {
    "duration": 4,
    "start_time": "2025-02-20T23:25:03.991Z"
   },
   {
    "duration": 9,
    "start_time": "2025-02-20T23:25:05.408Z"
   },
   {
    "duration": 82,
    "start_time": "2025-02-20T23:26:32.669Z"
   },
   {
    "duration": 14,
    "start_time": "2025-02-20T23:26:52.427Z"
   },
   {
    "duration": 5,
    "start_time": "2025-02-20T23:35:41.016Z"
   },
   {
    "duration": 11,
    "start_time": "2025-02-20T23:36:28.246Z"
   },
   {
    "duration": 5,
    "start_time": "2025-02-20T23:36:31.078Z"
   },
   {
    "duration": 10,
    "start_time": "2025-02-20T23:36:31.446Z"
   },
   {
    "duration": 14,
    "start_time": "2025-02-20T23:36:47.483Z"
   },
   {
    "duration": 5,
    "start_time": "2025-02-20T23:36:49.147Z"
   },
   {
    "duration": 15,
    "start_time": "2025-02-20T23:36:49.678Z"
   },
   {
    "duration": 5,
    "start_time": "2025-02-20T23:37:05.679Z"
   },
   {
    "duration": 16,
    "start_time": "2025-02-20T23:37:06.404Z"
   },
   {
    "duration": 5,
    "start_time": "2025-02-20T23:37:26.402Z"
   },
   {
    "duration": 947,
    "start_time": "2025-02-20T23:37:26.887Z"
   },
   {
    "duration": 3,
    "start_time": "2025-02-20T23:37:36.195Z"
   },
   {
    "duration": 2791,
    "start_time": "2025-02-20T23:38:18.925Z"
   },
   {
    "duration": 120,
    "start_time": "2025-02-20T23:40:20.094Z"
   },
   {
    "duration": 4,
    "start_time": "2025-02-20T23:40:41.251Z"
   },
   {
    "duration": 3,
    "start_time": "2025-02-20T23:41:12.434Z"
   },
   {
    "duration": 4,
    "start_time": "2025-02-20T23:41:46.218Z"
   },
   {
    "duration": 4,
    "start_time": "2025-02-20T23:41:53.428Z"
   },
   {
    "duration": 4,
    "start_time": "2025-02-20T23:52:05.755Z"
   }
  ],
  "kernelspec": {
   "display_name": "Python [conda env:base] *",
   "language": "python",
   "name": "conda-base-py"
  },
  "language_info": {
   "codemirror_mode": {
    "name": "ipython",
    "version": 3
   },
   "file_extension": ".py",
   "mimetype": "text/x-python",
   "name": "python",
   "nbconvert_exporter": "python",
   "pygments_lexer": "ipython3",
   "version": "3.11.7"
  },
  "toc": {
   "base_numbering": 1,
   "nav_menu": {},
   "number_sections": true,
   "sideBar": true,
   "skip_h1_title": true,
   "title_cell": "Table of Contents",
   "title_sidebar": "Contents",
   "toc_cell": false,
   "toc_position": {},
   "toc_section_display": true,
   "toc_window_display": false
  }
 },
 "nbformat": 4,
 "nbformat_minor": 4
}
